{
 "cells": [
  {
   "cell_type": "markdown",
   "metadata": {},
   "source": [
    "# Import"
   ]
  },
  {
   "cell_type": "code",
   "execution_count": 1,
   "metadata": {},
   "outputs": [],
   "source": [
    "import pandas as pd\n",
    "import numpy as np\n",
    "import os\n",
    "import scipy.stats as stats\n",
    "# visualize\n",
    "import seaborn as sns\n",
    "import matplotlib.pyplot as plt\n",
    "\n",
    "# turn off pink warning boxes\n",
    "import warnings\n",
    "warnings.filterwarnings(\"ignore\")\n",
    "\n",
    "#import my modules\n",
    "import prepare\n",
    "import acquire\n",
    "import explore\n",
    "import model_func \n",
    "\n",
    "\n",
    "# for preparation state\n",
    "from sklearn.model_selection import train_test_split\n",
    "\n",
    "from sklearn.ensemble import RandomForestClassifier\n",
    "from sklearn.neighbors import KNeighborsClassifier\n",
    "from sklearn.linear_model import LogisticRegression\n",
    "from sklearn.tree import DecisionTreeClassifier, plot_tree, export_text\n",
    "from sklearn.dummy import DummyClassifier\n",
    "from sklearn.metrics import classification_report"
   ]
  },
  {
   "cell_type": "markdown",
   "metadata": {},
   "source": []
  },
  {
   "cell_type": "markdown",
   "metadata": {},
   "source": [
    "\n"
   ]
  },
  {
   "cell_type": "markdown",
   "metadata": {},
   "source": [
    "## Summary:\n",
    "- Target : Churn\n",
    "- Driver : Tenure \n",
    "- Overall churn rate: 26.53%\n",
    "- All the classification models that I created perfomed better than my baseline (no churn). Baseline accuracy is 73.472%\n",
    "- I choose my logistic regression as my best model with accuracy of  80.48%.\n",
    "- Exploring my data, I found that in the first month of tenure the churn rate (62.35%) is really higher than overall churn rate and more than 50 % of the customers who canceled had electronic check as a payment type  ad paperless billing.\n",
    "- Recommendation : Incentive of 10% off monthly charges starting 2nd payment if the customer signs up for  :\n",
    "    - autopayment\n",
    "    - paperless billing"
   ]
  },
  {
   "cell_type": "markdown",
   "metadata": {},
   "source": []
  },
  {
   "cell_type": "markdown",
   "metadata": {},
   "source": [
    "## <font color=green>Plan <font color=black>-> Acquire -> Prepare -> Explore -> Model -> Deliver"
   ]
  },
  {
   "cell_type": "markdown",
   "metadata": {},
   "source": [
    "- README.md with :  project description  and goals, data dictionary, project planning, Initial ideas/hypotheses stated, instructions for recreating project/running repo\n",
    "- Acquire data from the Codeup Database using my own  function to automate this process. this function is saved in acquire.py file to import into the Final Report Notebook.\n",
    "- Clean and prepare data for preparation step. Create a function to automate the process.  The function is saved in a prepare.py module.  Use the function  in Final Report Notebook.\n",
    "- Define two hypotheses, set an alpha, run the statistical tests needed,document findings and takeaways.\n",
    "- Establish a baseline accuracy and document well.\n",
    "- Train three different classification models.\n",
    "- Evaluate models on train and validate datasets.\n",
    "- Choose the model that performs the best.\n",
    "- Evaluate the best model (only one) on the test dataset\n",
    "- Create csv file with customer_id, probability of churn, and prediction of churn\n"
   ]
  },
  {
   "cell_type": "markdown",
   "metadata": {},
   "source": [
    "## Plan -><font color=green> Acquire -> <font color=black>Prepare -> Explore -> Model -> Deliver"
   ]
  },
  {
   "cell_type": "markdown",
   "metadata": {},
   "source": [
    "- I created a function reads in telco_churn data from Codeup database, writes data to a csv file if a local file does not exist, and returns a df.\n",
    "- I import my get_telco_churn() function from acquire.py file."
   ]
  },
  {
   "cell_type": "code",
   "execution_count": 2,
   "metadata": {},
   "outputs": [],
   "source": [
    "#acquire data from  MySQL db using my function.\n",
    "\n",
    "df = acquire.get_telco_churn()"
   ]
  },
  {
   "cell_type": "code",
   "execution_count": 3,
   "metadata": {},
   "outputs": [
    {
     "data": {
      "text/html": [
       "<div>\n",
       "<style scoped>\n",
       "    .dataframe tbody tr th:only-of-type {\n",
       "        vertical-align: middle;\n",
       "    }\n",
       "\n",
       "    .dataframe tbody tr th {\n",
       "        vertical-align: top;\n",
       "    }\n",
       "\n",
       "    .dataframe thead th {\n",
       "        text-align: right;\n",
       "    }\n",
       "</style>\n",
       "<table border=\"1\" class=\"dataframe\">\n",
       "  <thead>\n",
       "    <tr style=\"text-align: right;\">\n",
       "      <th></th>\n",
       "      <th>payment_type_id</th>\n",
       "      <th>internet_service_type_id</th>\n",
       "      <th>contract_type_id</th>\n",
       "      <th>customer_id</th>\n",
       "      <th>gender</th>\n",
       "      <th>senior_citizen</th>\n",
       "      <th>partner</th>\n",
       "      <th>dependents</th>\n",
       "      <th>tenure</th>\n",
       "      <th>phone_service</th>\n",
       "      <th>...</th>\n",
       "      <th>tech_support</th>\n",
       "      <th>streaming_tv</th>\n",
       "      <th>streaming_movies</th>\n",
       "      <th>paperless_billing</th>\n",
       "      <th>monthly_charges</th>\n",
       "      <th>total_charges</th>\n",
       "      <th>churn</th>\n",
       "      <th>contract_type</th>\n",
       "      <th>internet_service_type</th>\n",
       "      <th>payment_type</th>\n",
       "    </tr>\n",
       "  </thead>\n",
       "  <tbody>\n",
       "    <tr>\n",
       "      <th>0</th>\n",
       "      <td>2</td>\n",
       "      <td>1</td>\n",
       "      <td>3</td>\n",
       "      <td>0016-QLJIS</td>\n",
       "      <td>Female</td>\n",
       "      <td>0</td>\n",
       "      <td>Yes</td>\n",
       "      <td>Yes</td>\n",
       "      <td>65</td>\n",
       "      <td>Yes</td>\n",
       "      <td>...</td>\n",
       "      <td>Yes</td>\n",
       "      <td>Yes</td>\n",
       "      <td>Yes</td>\n",
       "      <td>Yes</td>\n",
       "      <td>90.45</td>\n",
       "      <td>5957.9</td>\n",
       "      <td>No</td>\n",
       "      <td>Two year</td>\n",
       "      <td>DSL</td>\n",
       "      <td>Mailed check</td>\n",
       "    </tr>\n",
       "    <tr>\n",
       "      <th>1</th>\n",
       "      <td>4</td>\n",
       "      <td>1</td>\n",
       "      <td>3</td>\n",
       "      <td>0017-DINOC</td>\n",
       "      <td>Male</td>\n",
       "      <td>0</td>\n",
       "      <td>No</td>\n",
       "      <td>No</td>\n",
       "      <td>54</td>\n",
       "      <td>No</td>\n",
       "      <td>...</td>\n",
       "      <td>Yes</td>\n",
       "      <td>Yes</td>\n",
       "      <td>No</td>\n",
       "      <td>No</td>\n",
       "      <td>45.20</td>\n",
       "      <td>2460.55</td>\n",
       "      <td>No</td>\n",
       "      <td>Two year</td>\n",
       "      <td>DSL</td>\n",
       "      <td>Credit card (automatic)</td>\n",
       "    </tr>\n",
       "    <tr>\n",
       "      <th>2</th>\n",
       "      <td>3</td>\n",
       "      <td>1</td>\n",
       "      <td>3</td>\n",
       "      <td>0019-GFNTW</td>\n",
       "      <td>Female</td>\n",
       "      <td>0</td>\n",
       "      <td>No</td>\n",
       "      <td>No</td>\n",
       "      <td>56</td>\n",
       "      <td>No</td>\n",
       "      <td>...</td>\n",
       "      <td>Yes</td>\n",
       "      <td>No</td>\n",
       "      <td>No</td>\n",
       "      <td>No</td>\n",
       "      <td>45.05</td>\n",
       "      <td>2560.1</td>\n",
       "      <td>No</td>\n",
       "      <td>Two year</td>\n",
       "      <td>DSL</td>\n",
       "      <td>Bank transfer (automatic)</td>\n",
       "    </tr>\n",
       "    <tr>\n",
       "      <th>3</th>\n",
       "      <td>4</td>\n",
       "      <td>1</td>\n",
       "      <td>3</td>\n",
       "      <td>0056-EPFBG</td>\n",
       "      <td>Male</td>\n",
       "      <td>0</td>\n",
       "      <td>Yes</td>\n",
       "      <td>Yes</td>\n",
       "      <td>20</td>\n",
       "      <td>No</td>\n",
       "      <td>...</td>\n",
       "      <td>Yes</td>\n",
       "      <td>No</td>\n",
       "      <td>No</td>\n",
       "      <td>Yes</td>\n",
       "      <td>39.40</td>\n",
       "      <td>825.4</td>\n",
       "      <td>No</td>\n",
       "      <td>Two year</td>\n",
       "      <td>DSL</td>\n",
       "      <td>Credit card (automatic)</td>\n",
       "    </tr>\n",
       "    <tr>\n",
       "      <th>4</th>\n",
       "      <td>3</td>\n",
       "      <td>1</td>\n",
       "      <td>3</td>\n",
       "      <td>0078-XZMHT</td>\n",
       "      <td>Male</td>\n",
       "      <td>0</td>\n",
       "      <td>Yes</td>\n",
       "      <td>No</td>\n",
       "      <td>72</td>\n",
       "      <td>Yes</td>\n",
       "      <td>...</td>\n",
       "      <td>Yes</td>\n",
       "      <td>Yes</td>\n",
       "      <td>Yes</td>\n",
       "      <td>Yes</td>\n",
       "      <td>85.15</td>\n",
       "      <td>6316.2</td>\n",
       "      <td>No</td>\n",
       "      <td>Two year</td>\n",
       "      <td>DSL</td>\n",
       "      <td>Bank transfer (automatic)</td>\n",
       "    </tr>\n",
       "  </tbody>\n",
       "</table>\n",
       "<p>5 rows × 24 columns</p>\n",
       "</div>"
      ],
      "text/plain": [
       "   payment_type_id  internet_service_type_id  contract_type_id customer_id  \\\n",
       "0                2                         1                 3  0016-QLJIS   \n",
       "1                4                         1                 3  0017-DINOC   \n",
       "2                3                         1                 3  0019-GFNTW   \n",
       "3                4                         1                 3  0056-EPFBG   \n",
       "4                3                         1                 3  0078-XZMHT   \n",
       "\n",
       "   gender  senior_citizen partner dependents  tenure phone_service  ...  \\\n",
       "0  Female               0     Yes        Yes      65           Yes  ...   \n",
       "1    Male               0      No         No      54            No  ...   \n",
       "2  Female               0      No         No      56            No  ...   \n",
       "3    Male               0     Yes        Yes      20            No  ...   \n",
       "4    Male               0     Yes         No      72           Yes  ...   \n",
       "\n",
       "  tech_support streaming_tv streaming_movies paperless_billing  \\\n",
       "0          Yes          Yes              Yes               Yes   \n",
       "1          Yes          Yes               No                No   \n",
       "2          Yes           No               No                No   \n",
       "3          Yes           No               No               Yes   \n",
       "4          Yes          Yes              Yes               Yes   \n",
       "\n",
       "  monthly_charges total_charges churn contract_type  internet_service_type  \\\n",
       "0           90.45        5957.9    No      Two year                    DSL   \n",
       "1           45.20       2460.55    No      Two year                    DSL   \n",
       "2           45.05        2560.1    No      Two year                    DSL   \n",
       "3           39.40         825.4    No      Two year                    DSL   \n",
       "4           85.15        6316.2    No      Two year                    DSL   \n",
       "\n",
       "                payment_type  \n",
       "0               Mailed check  \n",
       "1    Credit card (automatic)  \n",
       "2  Bank transfer (automatic)  \n",
       "3    Credit card (automatic)  \n",
       "4  Bank transfer (automatic)  \n",
       "\n",
       "[5 rows x 24 columns]"
      ]
     },
     "execution_count": 3,
     "metadata": {},
     "output_type": "execute_result"
    }
   ],
   "source": [
    "#check my acquired df\n",
    "df.head()"
   ]
  },
  {
   "cell_type": "code",
   "execution_count": 4,
   "metadata": {},
   "outputs": [
    {
     "data": {
      "text/plain": [
       "(7043, 24)"
      ]
     },
     "execution_count": 4,
     "metadata": {},
     "output_type": "execute_result"
    }
   ],
   "source": [
    "#check how many rows and columns \n",
    "df.shape"
   ]
  },
  {
   "cell_type": "code",
   "execution_count": null,
   "metadata": {},
   "outputs": [],
   "source": []
  },
  {
   "cell_type": "code",
   "execution_count": 5,
   "metadata": {
    "scrolled": true
   },
   "outputs": [
    {
     "name": "stdout",
     "output_type": "stream",
     "text": [
      "<class 'pandas.core.frame.DataFrame'>\n",
      "Int64Index: 7043 entries, 0 to 7042\n",
      "Data columns (total 24 columns):\n",
      " #   Column                    Non-Null Count  Dtype  \n",
      "---  ------                    --------------  -----  \n",
      " 0   payment_type_id           7043 non-null   int64  \n",
      " 1   internet_service_type_id  7043 non-null   int64  \n",
      " 2   contract_type_id          7043 non-null   int64  \n",
      " 3   customer_id               7043 non-null   object \n",
      " 4   gender                    7043 non-null   object \n",
      " 5   senior_citizen            7043 non-null   int64  \n",
      " 6   partner                   7043 non-null   object \n",
      " 7   dependents                7043 non-null   object \n",
      " 8   tenure                    7043 non-null   int64  \n",
      " 9   phone_service             7043 non-null   object \n",
      " 10  multiple_lines            7043 non-null   object \n",
      " 11  online_security           7043 non-null   object \n",
      " 12  online_backup             7043 non-null   object \n",
      " 13  device_protection         7043 non-null   object \n",
      " 14  tech_support              7043 non-null   object \n",
      " 15  streaming_tv              7043 non-null   object \n",
      " 16  streaming_movies          7043 non-null   object \n",
      " 17  paperless_billing         7043 non-null   object \n",
      " 18  monthly_charges           7043 non-null   float64\n",
      " 19  total_charges             7043 non-null   object \n",
      " 20  churn                     7043 non-null   object \n",
      " 21  contract_type             7043 non-null   object \n",
      " 22  internet_service_type     7043 non-null   object \n",
      " 23  payment_type              7043 non-null   object \n",
      "dtypes: float64(1), int64(5), object(18)\n",
      "memory usage: 1.3+ MB\n"
     ]
    }
   ],
   "source": [
    "# check the columns, type of columns and nulls\n",
    "df.info()"
   ]
  },
  {
   "cell_type": "code",
   "execution_count": 6,
   "metadata": {},
   "outputs": [
    {
     "data": {
      "text/html": [
       "<div>\n",
       "<style scoped>\n",
       "    .dataframe tbody tr th:only-of-type {\n",
       "        vertical-align: middle;\n",
       "    }\n",
       "\n",
       "    .dataframe tbody tr th {\n",
       "        vertical-align: top;\n",
       "    }\n",
       "\n",
       "    .dataframe thead th {\n",
       "        text-align: right;\n",
       "    }\n",
       "</style>\n",
       "<table border=\"1\" class=\"dataframe\">\n",
       "  <thead>\n",
       "    <tr style=\"text-align: right;\">\n",
       "      <th></th>\n",
       "      <th>payment_type_id</th>\n",
       "      <th>internet_service_type_id</th>\n",
       "      <th>contract_type_id</th>\n",
       "      <th>senior_citizen</th>\n",
       "      <th>tenure</th>\n",
       "      <th>monthly_charges</th>\n",
       "    </tr>\n",
       "  </thead>\n",
       "  <tbody>\n",
       "    <tr>\n",
       "      <th>count</th>\n",
       "      <td>7043.000000</td>\n",
       "      <td>7043.000000</td>\n",
       "      <td>7043.000000</td>\n",
       "      <td>7043.000000</td>\n",
       "      <td>7043.000000</td>\n",
       "      <td>7043.000000</td>\n",
       "    </tr>\n",
       "    <tr>\n",
       "      <th>mean</th>\n",
       "      <td>2.315633</td>\n",
       "      <td>1.872923</td>\n",
       "      <td>1.690473</td>\n",
       "      <td>0.162147</td>\n",
       "      <td>32.371149</td>\n",
       "      <td>64.761692</td>\n",
       "    </tr>\n",
       "    <tr>\n",
       "      <th>std</th>\n",
       "      <td>1.148907</td>\n",
       "      <td>0.737796</td>\n",
       "      <td>0.833755</td>\n",
       "      <td>0.368612</td>\n",
       "      <td>24.559481</td>\n",
       "      <td>30.090047</td>\n",
       "    </tr>\n",
       "    <tr>\n",
       "      <th>min</th>\n",
       "      <td>1.000000</td>\n",
       "      <td>1.000000</td>\n",
       "      <td>1.000000</td>\n",
       "      <td>0.000000</td>\n",
       "      <td>0.000000</td>\n",
       "      <td>18.250000</td>\n",
       "    </tr>\n",
       "    <tr>\n",
       "      <th>25%</th>\n",
       "      <td>1.000000</td>\n",
       "      <td>1.000000</td>\n",
       "      <td>1.000000</td>\n",
       "      <td>0.000000</td>\n",
       "      <td>9.000000</td>\n",
       "      <td>35.500000</td>\n",
       "    </tr>\n",
       "    <tr>\n",
       "      <th>50%</th>\n",
       "      <td>2.000000</td>\n",
       "      <td>2.000000</td>\n",
       "      <td>1.000000</td>\n",
       "      <td>0.000000</td>\n",
       "      <td>29.000000</td>\n",
       "      <td>70.350000</td>\n",
       "    </tr>\n",
       "    <tr>\n",
       "      <th>75%</th>\n",
       "      <td>3.000000</td>\n",
       "      <td>2.000000</td>\n",
       "      <td>2.000000</td>\n",
       "      <td>0.000000</td>\n",
       "      <td>55.000000</td>\n",
       "      <td>89.850000</td>\n",
       "    </tr>\n",
       "    <tr>\n",
       "      <th>max</th>\n",
       "      <td>4.000000</td>\n",
       "      <td>3.000000</td>\n",
       "      <td>3.000000</td>\n",
       "      <td>1.000000</td>\n",
       "      <td>72.000000</td>\n",
       "      <td>118.750000</td>\n",
       "    </tr>\n",
       "  </tbody>\n",
       "</table>\n",
       "</div>"
      ],
      "text/plain": [
       "       payment_type_id  internet_service_type_id  contract_type_id  \\\n",
       "count      7043.000000               7043.000000       7043.000000   \n",
       "mean          2.315633                  1.872923          1.690473   \n",
       "std           1.148907                  0.737796          0.833755   \n",
       "min           1.000000                  1.000000          1.000000   \n",
       "25%           1.000000                  1.000000          1.000000   \n",
       "50%           2.000000                  2.000000          1.000000   \n",
       "75%           3.000000                  2.000000          2.000000   \n",
       "max           4.000000                  3.000000          3.000000   \n",
       "\n",
       "       senior_citizen       tenure  monthly_charges  \n",
       "count     7043.000000  7043.000000      7043.000000  \n",
       "mean         0.162147    32.371149        64.761692  \n",
       "std          0.368612    24.559481        30.090047  \n",
       "min          0.000000     0.000000        18.250000  \n",
       "25%          0.000000     9.000000        35.500000  \n",
       "50%          0.000000    29.000000        70.350000  \n",
       "75%          0.000000    55.000000        89.850000  \n",
       "max          1.000000    72.000000       118.750000  "
      ]
     },
     "execution_count": 6,
     "metadata": {},
     "output_type": "execute_result"
    }
   ],
   "source": [
    "df.describe()"
   ]
  },
  {
   "cell_type": "markdown",
   "metadata": {},
   "source": [
    "## Plan -> Acquire -> <font color=green>Prepare <font color=black> -> Explore -> Model -> Deliver"
   ]
  },
  {
   "cell_type": "markdown",
   "metadata": {},
   "source": [
    "- I created a function to clean and split my data.\n",
    "- I import my prepare( ) function from prepare.py file."
   ]
  },
  {
   "cell_type": "markdown",
   "metadata": {},
   "source": [
    "**Clean data**\n",
    "   - Drop duplicates\n",
    "   - Change 'total_charges' to a float type\n",
    "       - there are missing values (' '). \n",
    "   - Convert all the columns that have yes/no to 0/1\n",
    "   - Create dummy vars from 'gender', 'contract_type','internet_service_type', 'payment_type'\n",
    "   - Rename columns : \n",
    "        - 'tenure' --> 'tenure_months'\n",
    "        - 'None' --> 'has_internet' ('None' was created in my dummies)\n",
    "   -  drop payment_type_id', 'internet_service_type_id','contract_type_id'\n",
    "\n",
    "**Split Data**\n",
    "   - Data is split into train (50%), validate (30%), and test (20%).\n",
    "   - random_state=123\n",
    "   - stratify on churn"
   ]
  },
  {
   "cell_type": "markdown",
   "metadata": {},
   "source": [
    "\n"
   ]
  },
  {
   "cell_type": "markdown",
   "metadata": {},
   "source": [
    "**PLOT VARIABLE DISTRIBUTIONS**"
   ]
  },
  {
   "cell_type": "code",
   "execution_count": 7,
   "metadata": {
    "scrolled": true
   },
   "outputs": [
    {
     "data": {
      "image/png": "[encoded data removed]",
      "text/plain": [
       "<Figure size 432x288 with 1 Axes>"
      ]
     },
     "metadata": {
      "needs_background": "light"
     },
     "output_type": "display_data"
    },
    {
     "data": {
      "image/png": "[encoded data removed]",
      "text/plain": [
       "<Figure size 432x288 with 1 Axes>"
      ]
     },
     "metadata": {
      "needs_background": "light"
     },
     "output_type": "display_data"
    },
    {
     "data": {
      "image/png": "[encoded data removed]",
      "text/plain": [
       "<Figure size 432x288 with 1 Axes>"
      ]
     },
     "metadata": {
      "needs_background": "light"
     },
     "output_type": "display_data"
    },
    {
     "data": {
      "image/png": "[encoded data removed]",
      "text/plain": [
       "<Figure size 432x288 with 1 Axes>"
      ]
     },
     "metadata": {
      "needs_background": "light"
     },
     "output_type": "display_data"
    },
    {
     "data": {
      "image/png": "[encoded data removed]",
      "text/plain": [
       "<Figure size 432x288 with 1 Axes>"
      ]
     },
     "metadata": {
      "needs_background": "light"
     },
     "output_type": "display_data"
    },
    {
     "data": {
      "image/png": "[encoded data removed]",
      "text/plain": [
       "<Figure size 432x288 with 1 Axes>"
      ]
     },
     "metadata": {
      "needs_background": "light"
     },
     "output_type": "display_data"
    }
   ],
   "source": [
    "#use my function to plot\n",
    "prepare.distribution(df)"
   ]
  },
  {
   "cell_type": "markdown",
   "metadata": {},
   "source": []
  },
  {
   "cell_type": "code",
   "execution_count": 8,
   "metadata": {},
   "outputs": [],
   "source": [
    "#use my function that cleans and splits data\n",
    "train, validate, test = prepare.prepare(df)"
   ]
  },
  {
   "cell_type": "code",
   "execution_count": 9,
   "metadata": {},
   "outputs": [
    {
     "name": "stdout",
     "output_type": "stream",
     "text": [
      "train shape    : (3943, 29)\n",
      "validate shape : (1691, 29)\n",
      "test shape     : (1409, 29)\n"
     ]
    }
   ],
   "source": [
    "print('train shape    :',train.shape)\n",
    "print('validate shape :',validate.shape)\n",
    "print('test shape     :',test.shape)"
   ]
  },
  {
   "cell_type": "code",
   "execution_count": 10,
   "metadata": {},
   "outputs": [
    {
     "name": "stdout",
     "output_type": "stream",
     "text": [
      "<class 'pandas.core.frame.DataFrame'>\n",
      "Int64Index: 3943 entries, 5642 to 6840\n",
      "Data columns (total 29 columns):\n",
      " #   Column                     Non-Null Count  Dtype  \n",
      "---  ------                     --------------  -----  \n",
      " 0   customer_id                3943 non-null   object \n",
      " 1   senior_citizen             3943 non-null   int64  \n",
      " 2   partner                    3943 non-null   int64  \n",
      " 3   dependents                 3943 non-null   int64  \n",
      " 4   tenure_months              3943 non-null   int64  \n",
      " 5   phone_service              3943 non-null   int64  \n",
      " 6   multiple_lines             3943 non-null   int64  \n",
      " 7   online_security            3943 non-null   int64  \n",
      " 8   online_backup              3943 non-null   int64  \n",
      " 9   device_protection          3943 non-null   int64  \n",
      " 10  tech_support               3943 non-null   int64  \n",
      " 11  streaming_tv               3943 non-null   int64  \n",
      " 12  streaming_movies           3943 non-null   int64  \n",
      " 13  paperless_billing          3943 non-null   int64  \n",
      " 14  monthly_charges            3943 non-null   float64\n",
      " 15  total_charges              3943 non-null   float64\n",
      " 16  churn                      3943 non-null   int64  \n",
      " 17  female                     3943 non-null   uint8  \n",
      " 18  male                       3943 non-null   uint8  \n",
      " 19  month_to_month             3943 non-null   uint8  \n",
      " 20  one_year                   3943 non-null   uint8  \n",
      " 21  two_year                   3943 non-null   uint8  \n",
      " 22  dsl                        3943 non-null   uint8  \n",
      " 23  fiber_optic                3943 non-null   uint8  \n",
      " 24  has_internet               3943 non-null   int64  \n",
      " 25  bank_transfer_(automatic)  3943 non-null   uint8  \n",
      " 26  credit_card_(automatic)    3943 non-null   uint8  \n",
      " 27  electronic_check           3943 non-null   uint8  \n",
      " 28  mailed_check               3943 non-null   uint8  \n",
      "dtypes: float64(2), int64(15), object(1), uint8(11)\n",
      "memory usage: 627.6+ KB\n"
     ]
    }
   ],
   "source": [
    "train.info()"
   ]
  },
  {
   "cell_type": "markdown",
   "metadata": {},
   "source": [
    "##          Plan -> Acquire -> Prepare  -> <font color=green>Explore <font color=black>-> Model -> Deliver"
   ]
  },
  {
   "cell_type": "markdown",
   "metadata": {},
   "source": [
    "- I created  functions to plot and  make a report  based on tenure\n",
    "- I import my functions from explore.py file."
   ]
  },
  {
   "cell_type": "markdown",
   "metadata": {},
   "source": [
    "### - Target : <font color=red> Churn"
   ]
  },
  {
   "cell_type": "code",
   "execution_count": 11,
   "metadata": {},
   "outputs": [],
   "source": [
    "# let's calculate the churn rate\n",
    "churn_rate = train['churn'].mean()"
   ]
  },
  {
   "cell_type": "code",
   "execution_count": 12,
   "metadata": {
    "scrolled": true
   },
   "outputs": [
    {
     "name": "stdout",
     "output_type": "stream",
     "text": [
      "Churn rate: 26.53%\n"
     ]
    }
   ],
   "source": [
    "\n",
    "print(f'Churn rate: {churn_rate:.2%}')\n"
   ]
  },
  {
   "cell_type": "code",
   "execution_count": 13,
   "metadata": {},
   "outputs": [
    {
     "data": {
      "image/png": "[encoded data removed]",
      "text/plain": [
       "<Figure size 432x576 with 1 Axes>"
      ]
     },
     "metadata": {
      "needs_background": "light"
     },
     "output_type": "display_data"
    }
   ],
   "source": [
    "plt.figure(figsize=(6,8))\n",
    "train.churn.value_counts().plot.bar(rot=0 )\n",
    "plt.title(f\"Overall churn rate: {churn_rate:.2%}\")\n",
    "plt.xlabel('Churn')\n",
    "plt.ylabel('Customers')\n",
    "\n",
    "plt.show()"
   ]
  },
  {
   "cell_type": "code",
   "execution_count": 14,
   "metadata": {},
   "outputs": [
    {
     "data": {
      "text/html": [
       "<div>\n",
       "<style scoped>\n",
       "    .dataframe tbody tr th:only-of-type {\n",
       "        vertical-align: middle;\n",
       "    }\n",
       "\n",
       "    .dataframe tbody tr th {\n",
       "        vertical-align: top;\n",
       "    }\n",
       "\n",
       "    .dataframe thead th {\n",
       "        text-align: right;\n",
       "    }\n",
       "</style>\n",
       "<table border=\"1\" class=\"dataframe\">\n",
       "  <thead>\n",
       "    <tr style=\"text-align: right;\">\n",
       "      <th></th>\n",
       "      <th>senior_citizen</th>\n",
       "      <th>partner</th>\n",
       "      <th>dependents</th>\n",
       "      <th>tenure_months</th>\n",
       "      <th>phone_service</th>\n",
       "      <th>multiple_lines</th>\n",
       "      <th>online_security</th>\n",
       "      <th>online_backup</th>\n",
       "      <th>device_protection</th>\n",
       "      <th>tech_support</th>\n",
       "      <th>...</th>\n",
       "      <th>month_to_month</th>\n",
       "      <th>one_year</th>\n",
       "      <th>two_year</th>\n",
       "      <th>dsl</th>\n",
       "      <th>fiber_optic</th>\n",
       "      <th>has_internet</th>\n",
       "      <th>bank_transfer_(automatic)</th>\n",
       "      <th>credit_card_(automatic)</th>\n",
       "      <th>electronic_check</th>\n",
       "      <th>mailed_check</th>\n",
       "    </tr>\n",
       "  </thead>\n",
       "  <tbody>\n",
       "    <tr>\n",
       "      <th>senior_citizen</th>\n",
       "      <td>1.000000</td>\n",
       "      <td>0.021704</td>\n",
       "      <td>-0.201859</td>\n",
       "      <td>0.007666</td>\n",
       "      <td>0.017884</td>\n",
       "      <td>0.113170</td>\n",
       "      <td>-0.223637</td>\n",
       "      <td>-0.180790</td>\n",
       "      <td>-0.184644</td>\n",
       "      <td>-0.233621</td>\n",
       "      <td>...</td>\n",
       "      <td>0.157663</td>\n",
       "      <td>-0.051119</td>\n",
       "      <td>-0.134109</td>\n",
       "      <td>-0.120798</td>\n",
       "      <td>0.273674</td>\n",
       "      <td>0.191692</td>\n",
       "      <td>-0.015985</td>\n",
       "      <td>-0.012184</td>\n",
       "      <td>0.173069</td>\n",
       "      <td>-0.167323</td>\n",
       "    </tr>\n",
       "    <tr>\n",
       "      <th>partner</th>\n",
       "      <td>0.021704</td>\n",
       "      <td>1.000000</td>\n",
       "      <td>0.463617</td>\n",
       "      <td>0.366470</td>\n",
       "      <td>0.041129</td>\n",
       "      <td>0.138106</td>\n",
       "      <td>0.062610</td>\n",
       "      <td>0.063210</td>\n",
       "      <td>0.065330</td>\n",
       "      <td>0.045711</td>\n",
       "      <td>...</td>\n",
       "      <td>-0.268490</td>\n",
       "      <td>0.070877</td>\n",
       "      <td>0.243511</td>\n",
       "      <td>-0.010031</td>\n",
       "      <td>0.005104</td>\n",
       "      <td>-0.005469</td>\n",
       "      <td>0.094710</td>\n",
       "      <td>0.084683</td>\n",
       "      <td>-0.078225</td>\n",
       "      <td>-0.089288</td>\n",
       "    </tr>\n",
       "    <tr>\n",
       "      <th>dependents</th>\n",
       "      <td>-0.201859</td>\n",
       "      <td>0.463617</td>\n",
       "      <td>1.000000</td>\n",
       "      <td>0.160178</td>\n",
       "      <td>0.000945</td>\n",
       "      <td>-0.009975</td>\n",
       "      <td>0.190725</td>\n",
       "      <td>0.170296</td>\n",
       "      <td>0.163513</td>\n",
       "      <td>0.182896</td>\n",
       "      <td>...</td>\n",
       "      <td>-0.236495</td>\n",
       "      <td>0.062744</td>\n",
       "      <td>0.214199</td>\n",
       "      <td>0.049894</td>\n",
       "      <td>-0.167655</td>\n",
       "      <td>-0.145469</td>\n",
       "      <td>0.065442</td>\n",
       "      <td>0.056857</td>\n",
       "      <td>-0.163981</td>\n",
       "      <td>0.063927</td>\n",
       "    </tr>\n",
       "    <tr>\n",
       "      <th>tenure_months</th>\n",
       "      <td>0.007666</td>\n",
       "      <td>0.366470</td>\n",
       "      <td>0.160178</td>\n",
       "      <td>1.000000</td>\n",
       "      <td>0.006187</td>\n",
       "      <td>0.251475</td>\n",
       "      <td>0.072982</td>\n",
       "      <td>0.096895</td>\n",
       "      <td>0.091084</td>\n",
       "      <td>0.074255</td>\n",
       "      <td>...</td>\n",
       "      <td>-0.637509</td>\n",
       "      <td>0.198606</td>\n",
       "      <td>0.549839</td>\n",
       "      <td>0.020264</td>\n",
       "      <td>0.023973</td>\n",
       "      <td>0.052663</td>\n",
       "      <td>0.229637</td>\n",
       "      <td>0.241171</td>\n",
       "      <td>-0.215684</td>\n",
       "      <td>-0.222408</td>\n",
       "    </tr>\n",
       "    <tr>\n",
       "      <th>phone_service</th>\n",
       "      <td>0.017884</td>\n",
       "      <td>0.041129</td>\n",
       "      <td>0.000945</td>\n",
       "      <td>0.006187</td>\n",
       "      <td>1.000000</td>\n",
       "      <td>0.680810</td>\n",
       "      <td>0.144817</td>\n",
       "      <td>0.172211</td>\n",
       "      <td>0.157886</td>\n",
       "      <td>0.145593</td>\n",
       "      <td>...</td>\n",
       "      <td>0.004231</td>\n",
       "      <td>-0.005385</td>\n",
       "      <td>0.000155</td>\n",
       "      <td>-0.457254</td>\n",
       "      <td>0.295699</td>\n",
       "      <td>-0.172852</td>\n",
       "      <td>-0.002827</td>\n",
       "      <td>-0.006338</td>\n",
       "      <td>0.020748</td>\n",
       "      <td>-0.014355</td>\n",
       "    </tr>\n",
       "    <tr>\n",
       "      <th>multiple_lines</th>\n",
       "      <td>0.113170</td>\n",
       "      <td>0.138106</td>\n",
       "      <td>-0.009975</td>\n",
       "      <td>0.251475</td>\n",
       "      <td>0.680810</td>\n",
       "      <td>1.000000</td>\n",
       "      <td>-0.077098</td>\n",
       "      <td>-0.029548</td>\n",
       "      <td>-0.039713</td>\n",
       "      <td>-0.074705</td>\n",
       "      <td>...</td>\n",
       "      <td>-0.063852</td>\n",
       "      <td>-0.001498</td>\n",
       "      <td>0.075081</td>\n",
       "      <td>-0.375747</td>\n",
       "      <td>0.429184</td>\n",
       "      <td>0.083952</td>\n",
       "      <td>0.063351</td>\n",
       "      <td>0.039014</td>\n",
       "      <td>0.070523</td>\n",
       "      <td>-0.180946</td>\n",
       "    </tr>\n",
       "    <tr>\n",
       "      <th>online_security</th>\n",
       "      <td>-0.223637</td>\n",
       "      <td>0.062610</td>\n",
       "      <td>0.190725</td>\n",
       "      <td>0.072982</td>\n",
       "      <td>0.144817</td>\n",
       "      <td>-0.077098</td>\n",
       "      <td>1.000000</td>\n",
       "      <td>0.880648</td>\n",
       "      <td>0.880960</td>\n",
       "      <td>0.899994</td>\n",
       "      <td>...</td>\n",
       "      <td>-0.333326</td>\n",
       "      <td>0.099498</td>\n",
       "      <td>0.291552</td>\n",
       "      <td>-0.272998</td>\n",
       "      <td>-0.503865</td>\n",
       "      <td>-0.929045</td>\n",
       "      <td>0.035474</td>\n",
       "      <td>0.040707</td>\n",
       "      <td>-0.337960</td>\n",
       "      <td>0.305863</td>\n",
       "    </tr>\n",
       "    <tr>\n",
       "      <th>online_backup</th>\n",
       "      <td>-0.180790</td>\n",
       "      <td>0.063210</td>\n",
       "      <td>0.170296</td>\n",
       "      <td>0.096895</td>\n",
       "      <td>0.172211</td>\n",
       "      <td>-0.029548</td>\n",
       "      <td>0.880648</td>\n",
       "      <td>1.000000</td>\n",
       "      <td>0.876569</td>\n",
       "      <td>0.880710</td>\n",
       "      <td>...</td>\n",
       "      <td>-0.305250</td>\n",
       "      <td>0.092452</td>\n",
       "      <td>0.265745</td>\n",
       "      <td>-0.342592</td>\n",
       "      <td>-0.430394</td>\n",
       "      <td>-0.920802</td>\n",
       "      <td>0.035530</td>\n",
       "      <td>0.034741</td>\n",
       "      <td>-0.295689</td>\n",
       "      <td>0.263997</td>\n",
       "    </tr>\n",
       "    <tr>\n",
       "      <th>device_protection</th>\n",
       "      <td>-0.184644</td>\n",
       "      <td>0.065330</td>\n",
       "      <td>0.163513</td>\n",
       "      <td>0.091084</td>\n",
       "      <td>0.157886</td>\n",
       "      <td>-0.039713</td>\n",
       "      <td>0.880960</td>\n",
       "      <td>0.876569</td>\n",
       "      <td>1.000000</td>\n",
       "      <td>0.889550</td>\n",
       "      <td>...</td>\n",
       "      <td>-0.330609</td>\n",
       "      <td>0.098942</td>\n",
       "      <td>0.288936</td>\n",
       "      <td>-0.344440</td>\n",
       "      <td>-0.428472</td>\n",
       "      <td>-0.920618</td>\n",
       "      <td>0.036868</td>\n",
       "      <td>0.038843</td>\n",
       "      <td>-0.302230</td>\n",
       "      <td>0.266008</td>\n",
       "    </tr>\n",
       "    <tr>\n",
       "      <th>tech_support</th>\n",
       "      <td>-0.233621</td>\n",
       "      <td>0.045711</td>\n",
       "      <td>0.182896</td>\n",
       "      <td>0.074255</td>\n",
       "      <td>0.145593</td>\n",
       "      <td>-0.074705</td>\n",
       "      <td>0.899994</td>\n",
       "      <td>0.880710</td>\n",
       "      <td>0.889550</td>\n",
       "      <td>1.000000</td>\n",
       "      <td>...</td>\n",
       "      <td>-0.351141</td>\n",
       "      <td>0.101329</td>\n",
       "      <td>0.310396</td>\n",
       "      <td>-0.277070</td>\n",
       "      <td>-0.498879</td>\n",
       "      <td>-0.927728</td>\n",
       "      <td>0.042540</td>\n",
       "      <td>0.031986</td>\n",
       "      <td>-0.336475</td>\n",
       "      <td>0.305737</td>\n",
       "    </tr>\n",
       "    <tr>\n",
       "      <th>streaming_tv</th>\n",
       "      <td>-0.165062</td>\n",
       "      <td>0.053448</td>\n",
       "      <td>0.148548</td>\n",
       "      <td>0.062398</td>\n",
       "      <td>0.180544</td>\n",
       "      <td>-0.011384</td>\n",
       "      <td>0.858391</td>\n",
       "      <td>0.869164</td>\n",
       "      <td>0.886540</td>\n",
       "      <td>0.876412</td>\n",
       "      <td>...</td>\n",
       "      <td>-0.279484</td>\n",
       "      <td>0.072858</td>\n",
       "      <td>0.254343</td>\n",
       "      <td>-0.411820</td>\n",
       "      <td>-0.361982</td>\n",
       "      <td>-0.918275</td>\n",
       "      <td>0.019795</td>\n",
       "      <td>0.008763</td>\n",
       "      <td>-0.235784</td>\n",
       "      <td>0.237636</td>\n",
       "    </tr>\n",
       "    <tr>\n",
       "      <th>streaming_movies</th>\n",
       "      <td>-0.153822</td>\n",
       "      <td>0.053185</td>\n",
       "      <td>0.133002</td>\n",
       "      <td>0.061627</td>\n",
       "      <td>0.178080</td>\n",
       "      <td>-0.011035</td>\n",
       "      <td>0.858938</td>\n",
       "      <td>0.866073</td>\n",
       "      <td>0.886932</td>\n",
       "      <td>0.875381</td>\n",
       "      <td>...</td>\n",
       "      <td>-0.281877</td>\n",
       "      <td>0.075803</td>\n",
       "      <td>0.254349</td>\n",
       "      <td>-0.409508</td>\n",
       "      <td>-0.363444</td>\n",
       "      <td>-0.917361</td>\n",
       "      <td>0.025220</td>\n",
       "      <td>0.013262</td>\n",
       "      <td>-0.237138</td>\n",
       "      <td>0.229341</td>\n",
       "    </tr>\n",
       "    <tr>\n",
       "      <th>paperless_billing</th>\n",
       "      <td>0.170268</td>\n",
       "      <td>-0.028135</td>\n",
       "      <td>-0.114746</td>\n",
       "      <td>-0.006974</td>\n",
       "      <td>0.021742</td>\n",
       "      <td>0.141699</td>\n",
       "      <td>-0.337421</td>\n",
       "      <td>-0.292356</td>\n",
       "      <td>-0.301727</td>\n",
       "      <td>-0.321709</td>\n",
       "      <td>...</td>\n",
       "      <td>0.185139</td>\n",
       "      <td>-0.058325</td>\n",
       "      <td>-0.159073</td>\n",
       "      <td>-0.058006</td>\n",
       "      <td>0.317130</td>\n",
       "      <td>0.317460</td>\n",
       "      <td>-0.014965</td>\n",
       "      <td>-0.020252</td>\n",
       "      <td>0.198818</td>\n",
       "      <td>-0.189443</td>\n",
       "    </tr>\n",
       "    <tr>\n",
       "      <th>monthly_charges</th>\n",
       "      <td>0.230111</td>\n",
       "      <td>0.096066</td>\n",
       "      <td>-0.117644</td>\n",
       "      <td>0.250854</td>\n",
       "      <td>0.255629</td>\n",
       "      <td>0.501492</td>\n",
       "      <td>-0.690559</td>\n",
       "      <td>-0.633451</td>\n",
       "      <td>-0.619704</td>\n",
       "      <td>-0.671290</td>\n",
       "      <td>...</td>\n",
       "      <td>0.073102</td>\n",
       "      <td>-0.027663</td>\n",
       "      <td>-0.058476</td>\n",
       "      <td>-0.169273</td>\n",
       "      <td>0.787673</td>\n",
       "      <td>0.759184</td>\n",
       "      <td>0.040693</td>\n",
       "      <td>0.043349</td>\n",
       "      <td>0.261135</td>\n",
       "      <td>-0.377666</td>\n",
       "    </tr>\n",
       "    <tr>\n",
       "      <th>total_charges</th>\n",
       "      <td>0.098212</td>\n",
       "      <td>0.306662</td>\n",
       "      <td>0.065704</td>\n",
       "      <td>0.828479</td>\n",
       "      <td>0.118415</td>\n",
       "      <td>0.415200</td>\n",
       "      <td>-0.241554</td>\n",
       "      <td>-0.194020</td>\n",
       "      <td>-0.196298</td>\n",
       "      <td>-0.229852</td>\n",
       "      <td>...</td>\n",
       "      <td>-0.435281</td>\n",
       "      <td>0.150552</td>\n",
       "      <td>0.361439</td>\n",
       "      <td>-0.056517</td>\n",
       "      <td>0.366069</td>\n",
       "      <td>0.378591</td>\n",
       "      <td>0.175718</td>\n",
       "      <td>0.196719</td>\n",
       "      <td>-0.073751</td>\n",
       "      <td>-0.285133</td>\n",
       "    </tr>\n",
       "    <tr>\n",
       "      <th>churn</th>\n",
       "      <td>0.165482</td>\n",
       "      <td>-0.137696</td>\n",
       "      <td>-0.160315</td>\n",
       "      <td>-0.352282</td>\n",
       "      <td>0.011995</td>\n",
       "      <td>0.037585</td>\n",
       "      <td>-0.307907</td>\n",
       "      <td>-0.275924</td>\n",
       "      <td>-0.269440</td>\n",
       "      <td>-0.307941</td>\n",
       "      <td>...</td>\n",
       "      <td>0.409166</td>\n",
       "      <td>-0.185215</td>\n",
       "      <td>-0.298877</td>\n",
       "      <td>-0.124500</td>\n",
       "      <td>0.303591</td>\n",
       "      <td>0.223698</td>\n",
       "      <td>-0.116189</td>\n",
       "      <td>-0.127042</td>\n",
       "      <td>0.298034</td>\n",
       "      <td>-0.095605</td>\n",
       "    </tr>\n",
       "    <tr>\n",
       "      <th>female</th>\n",
       "      <td>-0.007243</td>\n",
       "      <td>0.014710</td>\n",
       "      <td>0.007656</td>\n",
       "      <td>-0.004282</td>\n",
       "      <td>0.009084</td>\n",
       "      <td>0.009337</td>\n",
       "      <td>0.000023</td>\n",
       "      <td>0.006818</td>\n",
       "      <td>-0.000991</td>\n",
       "      <td>0.003480</td>\n",
       "      <td>...</td>\n",
       "      <td>0.005867</td>\n",
       "      <td>-0.012583</td>\n",
       "      <td>0.005001</td>\n",
       "      <td>-0.003341</td>\n",
       "      <td>0.006451</td>\n",
       "      <td>0.003944</td>\n",
       "      <td>0.014324</td>\n",
       "      <td>-0.003738</td>\n",
       "      <td>0.003110</td>\n",
       "      <td>-0.014081</td>\n",
       "    </tr>\n",
       "    <tr>\n",
       "      <th>male</th>\n",
       "      <td>0.007243</td>\n",
       "      <td>-0.014710</td>\n",
       "      <td>-0.007656</td>\n",
       "      <td>0.004282</td>\n",
       "      <td>-0.009084</td>\n",
       "      <td>-0.009337</td>\n",
       "      <td>-0.000023</td>\n",
       "      <td>-0.006818</td>\n",
       "      <td>0.000991</td>\n",
       "      <td>-0.003480</td>\n",
       "      <td>...</td>\n",
       "      <td>-0.005867</td>\n",
       "      <td>0.012583</td>\n",
       "      <td>-0.005001</td>\n",
       "      <td>0.003341</td>\n",
       "      <td>-0.006451</td>\n",
       "      <td>-0.003944</td>\n",
       "      <td>-0.014324</td>\n",
       "      <td>0.003738</td>\n",
       "      <td>-0.003110</td>\n",
       "      <td>0.014081</td>\n",
       "    </tr>\n",
       "    <tr>\n",
       "      <th>month_to_month</th>\n",
       "      <td>0.157663</td>\n",
       "      <td>-0.268490</td>\n",
       "      <td>-0.236495</td>\n",
       "      <td>-0.637509</td>\n",
       "      <td>0.004231</td>\n",
       "      <td>-0.063852</td>\n",
       "      <td>-0.333326</td>\n",
       "      <td>-0.305250</td>\n",
       "      <td>-0.330609</td>\n",
       "      <td>-0.351141</td>\n",
       "      <td>...</td>\n",
       "      <td>1.000000</td>\n",
       "      <td>-0.558914</td>\n",
       "      <td>-0.631059</td>\n",
       "      <td>-0.078675</td>\n",
       "      <td>0.256514</td>\n",
       "      <td>0.219850</td>\n",
       "      <td>-0.176276</td>\n",
       "      <td>-0.209461</td>\n",
       "      <td>0.347970</td>\n",
       "      <td>-0.011079</td>\n",
       "    </tr>\n",
       "    <tr>\n",
       "      <th>one_year</th>\n",
       "      <td>-0.051119</td>\n",
       "      <td>0.070877</td>\n",
       "      <td>0.062744</td>\n",
       "      <td>0.198606</td>\n",
       "      <td>-0.005385</td>\n",
       "      <td>-0.001498</td>\n",
       "      <td>0.099498</td>\n",
       "      <td>0.092452</td>\n",
       "      <td>0.098942</td>\n",
       "      <td>0.101329</td>\n",
       "      <td>...</td>\n",
       "      <td>-0.558914</td>\n",
       "      <td>1.000000</td>\n",
       "      <td>-0.290551</td>\n",
       "      <td>0.058969</td>\n",
       "      <td>-0.103960</td>\n",
       "      <td>-0.057605</td>\n",
       "      <td>0.054519</td>\n",
       "      <td>0.075792</td>\n",
       "      <td>-0.129420</td>\n",
       "      <td>0.017184</td>\n",
       "    </tr>\n",
       "    <tr>\n",
       "      <th>two_year</th>\n",
       "      <td>-0.134109</td>\n",
       "      <td>0.243511</td>\n",
       "      <td>0.214199</td>\n",
       "      <td>0.549839</td>\n",
       "      <td>0.000155</td>\n",
       "      <td>0.075081</td>\n",
       "      <td>0.291552</td>\n",
       "      <td>0.265745</td>\n",
       "      <td>0.288936</td>\n",
       "      <td>0.310396</td>\n",
       "      <td>...</td>\n",
       "      <td>-0.631059</td>\n",
       "      <td>-0.290551</td>\n",
       "      <td>1.000000</td>\n",
       "      <td>0.035620</td>\n",
       "      <td>-0.198742</td>\n",
       "      <td>-0.199800</td>\n",
       "      <td>0.152406</td>\n",
       "      <td>0.170798</td>\n",
       "      <td>-0.280457</td>\n",
       "      <td>-0.003292</td>\n",
       "    </tr>\n",
       "    <tr>\n",
       "      <th>dsl</th>\n",
       "      <td>-0.120798</td>\n",
       "      <td>-0.010031</td>\n",
       "      <td>0.049894</td>\n",
       "      <td>0.020264</td>\n",
       "      <td>-0.457254</td>\n",
       "      <td>-0.375747</td>\n",
       "      <td>-0.272998</td>\n",
       "      <td>-0.342592</td>\n",
       "      <td>-0.344440</td>\n",
       "      <td>-0.277070</td>\n",
       "      <td>...</td>\n",
       "      <td>-0.078675</td>\n",
       "      <td>0.058969</td>\n",
       "      <td>0.035620</td>\n",
       "      <td>1.000000</td>\n",
       "      <td>-0.646684</td>\n",
       "      <td>0.378021</td>\n",
       "      <td>0.026519</td>\n",
       "      <td>0.044105</td>\n",
       "      <td>-0.121956</td>\n",
       "      <td>0.067790</td>\n",
       "    </tr>\n",
       "    <tr>\n",
       "      <th>fiber_optic</th>\n",
       "      <td>0.273674</td>\n",
       "      <td>0.005104</td>\n",
       "      <td>-0.167655</td>\n",
       "      <td>0.023973</td>\n",
       "      <td>0.295699</td>\n",
       "      <td>0.429184</td>\n",
       "      <td>-0.503865</td>\n",
       "      <td>-0.430394</td>\n",
       "      <td>-0.428472</td>\n",
       "      <td>-0.498879</td>\n",
       "      <td>...</td>\n",
       "      <td>0.256514</td>\n",
       "      <td>-0.103960</td>\n",
       "      <td>-0.198742</td>\n",
       "      <td>-0.646684</td>\n",
       "      <td>1.000000</td>\n",
       "      <td>0.461699</td>\n",
       "      <td>-0.025639</td>\n",
       "      <td>-0.034721</td>\n",
       "      <td>0.338227</td>\n",
       "      <td>-0.321836</td>\n",
       "    </tr>\n",
       "    <tr>\n",
       "      <th>has_internet</th>\n",
       "      <td>0.191692</td>\n",
       "      <td>-0.005469</td>\n",
       "      <td>-0.145469</td>\n",
       "      <td>0.052663</td>\n",
       "      <td>-0.172852</td>\n",
       "      <td>0.083952</td>\n",
       "      <td>-0.929045</td>\n",
       "      <td>-0.920802</td>\n",
       "      <td>-0.920618</td>\n",
       "      <td>-0.927728</td>\n",
       "      <td>...</td>\n",
       "      <td>0.219850</td>\n",
       "      <td>-0.057605</td>\n",
       "      <td>-0.199800</td>\n",
       "      <td>0.378021</td>\n",
       "      <td>0.461699</td>\n",
       "      <td>1.000000</td>\n",
       "      <td>-0.000279</td>\n",
       "      <td>0.009150</td>\n",
       "      <td>0.268696</td>\n",
       "      <td>-0.311793</td>\n",
       "    </tr>\n",
       "    <tr>\n",
       "      <th>bank_transfer_(automatic)</th>\n",
       "      <td>-0.015985</td>\n",
       "      <td>0.094710</td>\n",
       "      <td>0.065442</td>\n",
       "      <td>0.229637</td>\n",
       "      <td>-0.002827</td>\n",
       "      <td>0.063351</td>\n",
       "      <td>0.035474</td>\n",
       "      <td>0.035530</td>\n",
       "      <td>0.036868</td>\n",
       "      <td>0.042540</td>\n",
       "      <td>...</td>\n",
       "      <td>-0.176276</td>\n",
       "      <td>0.054519</td>\n",
       "      <td>0.152406</td>\n",
       "      <td>0.026519</td>\n",
       "      <td>-0.025639</td>\n",
       "      <td>-0.000279</td>\n",
       "      <td>1.000000</td>\n",
       "      <td>-0.281203</td>\n",
       "      <td>-0.379960</td>\n",
       "      <td>-0.289609</td>\n",
       "    </tr>\n",
       "    <tr>\n",
       "      <th>credit_card_(automatic)</th>\n",
       "      <td>-0.012184</td>\n",
       "      <td>0.084683</td>\n",
       "      <td>0.056857</td>\n",
       "      <td>0.241171</td>\n",
       "      <td>-0.006338</td>\n",
       "      <td>0.039014</td>\n",
       "      <td>0.040707</td>\n",
       "      <td>0.034741</td>\n",
       "      <td>0.038843</td>\n",
       "      <td>0.031986</td>\n",
       "      <td>...</td>\n",
       "      <td>-0.209461</td>\n",
       "      <td>0.075792</td>\n",
       "      <td>0.170798</td>\n",
       "      <td>0.044105</td>\n",
       "      <td>-0.034721</td>\n",
       "      <td>0.009150</td>\n",
       "      <td>-0.281203</td>\n",
       "      <td>1.000000</td>\n",
       "      <td>-0.372442</td>\n",
       "      <td>-0.283878</td>\n",
       "    </tr>\n",
       "    <tr>\n",
       "      <th>electronic_check</th>\n",
       "      <td>0.173069</td>\n",
       "      <td>-0.078225</td>\n",
       "      <td>-0.163981</td>\n",
       "      <td>-0.215684</td>\n",
       "      <td>0.020748</td>\n",
       "      <td>0.070523</td>\n",
       "      <td>-0.337960</td>\n",
       "      <td>-0.295689</td>\n",
       "      <td>-0.302230</td>\n",
       "      <td>-0.336475</td>\n",
       "      <td>...</td>\n",
       "      <td>0.347970</td>\n",
       "      <td>-0.129420</td>\n",
       "      <td>-0.280457</td>\n",
       "      <td>-0.121956</td>\n",
       "      <td>0.338227</td>\n",
       "      <td>0.268696</td>\n",
       "      <td>-0.379960</td>\n",
       "      <td>-0.372442</td>\n",
       "      <td>1.000000</td>\n",
       "      <td>-0.383574</td>\n",
       "    </tr>\n",
       "    <tr>\n",
       "      <th>mailed_check</th>\n",
       "      <td>-0.167323</td>\n",
       "      <td>-0.089288</td>\n",
       "      <td>0.063927</td>\n",
       "      <td>-0.222408</td>\n",
       "      <td>-0.014355</td>\n",
       "      <td>-0.180946</td>\n",
       "      <td>0.305863</td>\n",
       "      <td>0.263997</td>\n",
       "      <td>0.266008</td>\n",
       "      <td>0.305737</td>\n",
       "      <td>...</td>\n",
       "      <td>-0.011079</td>\n",
       "      <td>0.017184</td>\n",
       "      <td>-0.003292</td>\n",
       "      <td>0.067790</td>\n",
       "      <td>-0.321836</td>\n",
       "      <td>-0.311793</td>\n",
       "      <td>-0.289609</td>\n",
       "      <td>-0.283878</td>\n",
       "      <td>-0.383574</td>\n",
       "      <td>1.000000</td>\n",
       "    </tr>\n",
       "  </tbody>\n",
       "</table>\n",
       "<p>28 rows × 28 columns</p>\n",
       "</div>"
      ],
      "text/plain": [
       "                           senior_citizen   partner  dependents  \\\n",
       "senior_citizen                   1.000000  0.021704   -0.201859   \n",
       "partner                          0.021704  1.000000    0.463617   \n",
       "dependents                      -0.201859  0.463617    1.000000   \n",
       "tenure_months                    0.007666  0.366470    0.160178   \n",
       "phone_service                    0.017884  0.041129    0.000945   \n",
       "multiple_lines                   0.113170  0.138106   -0.009975   \n",
       "online_security                 -0.223637  0.062610    0.190725   \n",
       "online_backup                   -0.180790  0.063210    0.170296   \n",
       "device_protection               -0.184644  0.065330    0.163513   \n",
       "tech_support                    -0.233621  0.045711    0.182896   \n",
       "streaming_tv                    -0.165062  0.053448    0.148548   \n",
       "streaming_movies                -0.153822  0.053185    0.133002   \n",
       "paperless_billing                0.170268 -0.028135   -0.114746   \n",
       "monthly_charges                  0.230111  0.096066   -0.117644   \n",
       "total_charges                    0.098212  0.306662    0.065704   \n",
       "churn                            0.165482 -0.137696   -0.160315   \n",
       "female                          -0.007243  0.014710    0.007656   \n",
       "male                             0.007243 -0.014710   -0.007656   \n",
       "month_to_month                   0.157663 -0.268490   -0.236495   \n",
       "one_year                        -0.051119  0.070877    0.062744   \n",
       "two_year                        -0.134109  0.243511    0.214199   \n",
       "dsl                             -0.120798 -0.010031    0.049894   \n",
       "fiber_optic                      0.273674  0.005104   -0.167655   \n",
       "has_internet                     0.191692 -0.005469   -0.145469   \n",
       "bank_transfer_(automatic)       -0.015985  0.094710    0.065442   \n",
       "credit_card_(automatic)         -0.012184  0.084683    0.056857   \n",
       "electronic_check                 0.173069 -0.078225   -0.163981   \n",
       "mailed_check                    -0.167323 -0.089288    0.063927   \n",
       "\n",
       "                           tenure_months  phone_service  multiple_lines  \\\n",
       "senior_citizen                  0.007666       0.017884        0.113170   \n",
       "partner                         0.366470       0.041129        0.138106   \n",
       "dependents                      0.160178       0.000945       -0.009975   \n",
       "tenure_months                   1.000000       0.006187        0.251475   \n",
       "phone_service                   0.006187       1.000000        0.680810   \n",
       "multiple_lines                  0.251475       0.680810        1.000000   \n",
       "online_security                 0.072982       0.144817       -0.077098   \n",
       "online_backup                   0.096895       0.172211       -0.029548   \n",
       "device_protection               0.091084       0.157886       -0.039713   \n",
       "tech_support                    0.074255       0.145593       -0.074705   \n",
       "streaming_tv                    0.062398       0.180544       -0.011384   \n",
       "streaming_movies                0.061627       0.178080       -0.011035   \n",
       "paperless_billing              -0.006974       0.021742        0.141699   \n",
       "monthly_charges                 0.250854       0.255629        0.501492   \n",
       "total_charges                   0.828479       0.118415        0.415200   \n",
       "churn                          -0.352282       0.011995        0.037585   \n",
       "female                         -0.004282       0.009084        0.009337   \n",
       "male                            0.004282      -0.009084       -0.009337   \n",
       "month_to_month                 -0.637509       0.004231       -0.063852   \n",
       "one_year                        0.198606      -0.005385       -0.001498   \n",
       "two_year                        0.549839       0.000155        0.075081   \n",
       "dsl                             0.020264      -0.457254       -0.375747   \n",
       "fiber_optic                     0.023973       0.295699        0.429184   \n",
       "has_internet                    0.052663      -0.172852        0.083952   \n",
       "bank_transfer_(automatic)       0.229637      -0.002827        0.063351   \n",
       "credit_card_(automatic)         0.241171      -0.006338        0.039014   \n",
       "electronic_check               -0.215684       0.020748        0.070523   \n",
       "mailed_check                   -0.222408      -0.014355       -0.180946   \n",
       "\n",
       "                           online_security  online_backup  device_protection  \\\n",
       "senior_citizen                   -0.223637      -0.180790          -0.184644   \n",
       "partner                           0.062610       0.063210           0.065330   \n",
       "dependents                        0.190725       0.170296           0.163513   \n",
       "tenure_months                     0.072982       0.096895           0.091084   \n",
       "phone_service                     0.144817       0.172211           0.157886   \n",
       "multiple_lines                   -0.077098      -0.029548          -0.039713   \n",
       "online_security                   1.000000       0.880648           0.880960   \n",
       "online_backup                     0.880648       1.000000           0.876569   \n",
       "device_protection                 0.880960       0.876569           1.000000   \n",
       "tech_support                      0.899994       0.880710           0.889550   \n",
       "streaming_tv                      0.858391       0.869164           0.886540   \n",
       "streaming_movies                  0.858938       0.866073           0.886932   \n",
       "paperless_billing                -0.337421      -0.292356          -0.301727   \n",
       "monthly_charges                  -0.690559      -0.633451          -0.619704   \n",
       "total_charges                    -0.241554      -0.194020          -0.196298   \n",
       "churn                            -0.307907      -0.275924          -0.269440   \n",
       "female                            0.000023       0.006818          -0.000991   \n",
       "male                             -0.000023      -0.006818           0.000991   \n",
       "month_to_month                   -0.333326      -0.305250          -0.330609   \n",
       "one_year                          0.099498       0.092452           0.098942   \n",
       "two_year                          0.291552       0.265745           0.288936   \n",
       "dsl                              -0.272998      -0.342592          -0.344440   \n",
       "fiber_optic                      -0.503865      -0.430394          -0.428472   \n",
       "has_internet                     -0.929045      -0.920802          -0.920618   \n",
       "bank_transfer_(automatic)         0.035474       0.035530           0.036868   \n",
       "credit_card_(automatic)           0.040707       0.034741           0.038843   \n",
       "electronic_check                 -0.337960      -0.295689          -0.302230   \n",
       "mailed_check                      0.305863       0.263997           0.266008   \n",
       "\n",
       "                           tech_support  ...  month_to_month  one_year  \\\n",
       "senior_citizen                -0.233621  ...        0.157663 -0.051119   \n",
       "partner                        0.045711  ...       -0.268490  0.070877   \n",
       "dependents                     0.182896  ...       -0.236495  0.062744   \n",
       "tenure_months                  0.074255  ...       -0.637509  0.198606   \n",
       "phone_service                  0.145593  ...        0.004231 -0.005385   \n",
       "multiple_lines                -0.074705  ...       -0.063852 -0.001498   \n",
       "online_security                0.899994  ...       -0.333326  0.099498   \n",
       "online_backup                  0.880710  ...       -0.305250  0.092452   \n",
       "device_protection              0.889550  ...       -0.330609  0.098942   \n",
       "tech_support                   1.000000  ...       -0.351141  0.101329   \n",
       "streaming_tv                   0.876412  ...       -0.279484  0.072858   \n",
       "streaming_movies               0.875381  ...       -0.281877  0.075803   \n",
       "paperless_billing             -0.321709  ...        0.185139 -0.058325   \n",
       "monthly_charges               -0.671290  ...        0.073102 -0.027663   \n",
       "total_charges                 -0.229852  ...       -0.435281  0.150552   \n",
       "churn                         -0.307941  ...        0.409166 -0.185215   \n",
       "female                         0.003480  ...        0.005867 -0.012583   \n",
       "male                          -0.003480  ...       -0.005867  0.012583   \n",
       "month_to_month                -0.351141  ...        1.000000 -0.558914   \n",
       "one_year                       0.101329  ...       -0.558914  1.000000   \n",
       "two_year                       0.310396  ...       -0.631059 -0.290551   \n",
       "dsl                           -0.277070  ...       -0.078675  0.058969   \n",
       "fiber_optic                   -0.498879  ...        0.256514 -0.103960   \n",
       "has_internet                  -0.927728  ...        0.219850 -0.057605   \n",
       "bank_transfer_(automatic)      0.042540  ...       -0.176276  0.054519   \n",
       "credit_card_(automatic)        0.031986  ...       -0.209461  0.075792   \n",
       "electronic_check              -0.336475  ...        0.347970 -0.129420   \n",
       "mailed_check                   0.305737  ...       -0.011079  0.017184   \n",
       "\n",
       "                           two_year       dsl  fiber_optic  has_internet  \\\n",
       "senior_citizen            -0.134109 -0.120798     0.273674      0.191692   \n",
       "partner                    0.243511 -0.010031     0.005104     -0.005469   \n",
       "dependents                 0.214199  0.049894    -0.167655     -0.145469   \n",
       "tenure_months              0.549839  0.020264     0.023973      0.052663   \n",
       "phone_service              0.000155 -0.457254     0.295699     -0.172852   \n",
       "multiple_lines             0.075081 -0.375747     0.429184      0.083952   \n",
       "online_security            0.291552 -0.272998    -0.503865     -0.929045   \n",
       "online_backup              0.265745 -0.342592    -0.430394     -0.920802   \n",
       "device_protection          0.288936 -0.344440    -0.428472     -0.920618   \n",
       "tech_support               0.310396 -0.277070    -0.498879     -0.927728   \n",
       "streaming_tv               0.254343 -0.411820    -0.361982     -0.918275   \n",
       "streaming_movies           0.254349 -0.409508    -0.363444     -0.917361   \n",
       "paperless_billing         -0.159073 -0.058006     0.317130      0.317460   \n",
       "monthly_charges           -0.058476 -0.169273     0.787673      0.759184   \n",
       "total_charges              0.361439 -0.056517     0.366069      0.378591   \n",
       "churn                     -0.298877 -0.124500     0.303591      0.223698   \n",
       "female                     0.005001 -0.003341     0.006451      0.003944   \n",
       "male                      -0.005001  0.003341    -0.006451     -0.003944   \n",
       "month_to_month            -0.631059 -0.078675     0.256514      0.219850   \n",
       "one_year                  -0.290551  0.058969    -0.103960     -0.057605   \n",
       "two_year                   1.000000  0.035620    -0.198742     -0.199800   \n",
       "dsl                        0.035620  1.000000    -0.646684      0.378021   \n",
       "fiber_optic               -0.198742 -0.646684     1.000000      0.461699   \n",
       "has_internet              -0.199800  0.378021     0.461699      1.000000   \n",
       "bank_transfer_(automatic)  0.152406  0.026519    -0.025639     -0.000279   \n",
       "credit_card_(automatic)    0.170798  0.044105    -0.034721      0.009150   \n",
       "electronic_check          -0.280457 -0.121956     0.338227      0.268696   \n",
       "mailed_check              -0.003292  0.067790    -0.321836     -0.311793   \n",
       "\n",
       "                           bank_transfer_(automatic)  credit_card_(automatic)  \\\n",
       "senior_citizen                             -0.015985                -0.012184   \n",
       "partner                                     0.094710                 0.084683   \n",
       "dependents                                  0.065442                 0.056857   \n",
       "tenure_months                               0.229637                 0.241171   \n",
       "phone_service                              -0.002827                -0.006338   \n",
       "multiple_lines                              0.063351                 0.039014   \n",
       "online_security                             0.035474                 0.040707   \n",
       "online_backup                               0.035530                 0.034741   \n",
       "device_protection                           0.036868                 0.038843   \n",
       "tech_support                                0.042540                 0.031986   \n",
       "streaming_tv                                0.019795                 0.008763   \n",
       "streaming_movies                            0.025220                 0.013262   \n",
       "paperless_billing                          -0.014965                -0.020252   \n",
       "monthly_charges                             0.040693                 0.043349   \n",
       "total_charges                               0.175718                 0.196719   \n",
       "churn                                      -0.116189                -0.127042   \n",
       "female                                      0.014324                -0.003738   \n",
       "male                                       -0.014324                 0.003738   \n",
       "month_to_month                             -0.176276                -0.209461   \n",
       "one_year                                    0.054519                 0.075792   \n",
       "two_year                                    0.152406                 0.170798   \n",
       "dsl                                         0.026519                 0.044105   \n",
       "fiber_optic                                -0.025639                -0.034721   \n",
       "has_internet                               -0.000279                 0.009150   \n",
       "bank_transfer_(automatic)                   1.000000                -0.281203   \n",
       "credit_card_(automatic)                    -0.281203                 1.000000   \n",
       "electronic_check                           -0.379960                -0.372442   \n",
       "mailed_check                               -0.289609                -0.283878   \n",
       "\n",
       "                           electronic_check  mailed_check  \n",
       "senior_citizen                     0.173069     -0.167323  \n",
       "partner                           -0.078225     -0.089288  \n",
       "dependents                        -0.163981      0.063927  \n",
       "tenure_months                     -0.215684     -0.222408  \n",
       "phone_service                      0.020748     -0.014355  \n",
       "multiple_lines                     0.070523     -0.180946  \n",
       "online_security                   -0.337960      0.305863  \n",
       "online_backup                     -0.295689      0.263997  \n",
       "device_protection                 -0.302230      0.266008  \n",
       "tech_support                      -0.336475      0.305737  \n",
       "streaming_tv                      -0.235784      0.237636  \n",
       "streaming_movies                  -0.237138      0.229341  \n",
       "paperless_billing                  0.198818     -0.189443  \n",
       "monthly_charges                    0.261135     -0.377666  \n",
       "total_charges                     -0.073751     -0.285133  \n",
       "churn                              0.298034     -0.095605  \n",
       "female                             0.003110     -0.014081  \n",
       "male                              -0.003110      0.014081  \n",
       "month_to_month                     0.347970     -0.011079  \n",
       "one_year                          -0.129420      0.017184  \n",
       "two_year                          -0.280457     -0.003292  \n",
       "dsl                               -0.121956      0.067790  \n",
       "fiber_optic                        0.338227     -0.321836  \n",
       "has_internet                       0.268696     -0.311793  \n",
       "bank_transfer_(automatic)         -0.379960     -0.289609  \n",
       "credit_card_(automatic)           -0.372442     -0.283878  \n",
       "electronic_check                   1.000000     -0.383574  \n",
       "mailed_check                      -0.383574      1.000000  \n",
       "\n",
       "[28 rows x 28 columns]"
      ]
     },
     "execution_count": 14,
     "metadata": {},
     "output_type": "execute_result"
    }
   ],
   "source": [
    "#calculate the correlation of all columns in the dataframe.\n",
    "train_corr = train.corr()\n",
    "train_corr"
   ]
  },
  {
   "cell_type": "code",
   "execution_count": 15,
   "metadata": {},
   "outputs": [
    {
     "data": {
      "text/plain": [
       "churn                        1.000000\n",
       "month_to_month               0.409166\n",
       "fiber_optic                  0.303591\n",
       "electronic_check             0.298034\n",
       "has_internet                 0.223698\n",
       "monthly_charges              0.189040\n",
       "paperless_billing            0.187409\n",
       "senior_citizen               0.165482\n",
       "multiple_lines               0.037585\n",
       "phone_service                0.011995\n",
       "male                         0.006885\n",
       "female                      -0.006885\n",
       "mailed_check                -0.095605\n",
       "bank_transfer_(automatic)   -0.116189\n",
       "dsl                         -0.124500\n",
       "credit_card_(automatic)     -0.127042\n",
       "partner                     -0.137696\n",
       "dependents                  -0.160315\n",
       "one_year                    -0.185215\n",
       "total_charges               -0.201972\n",
       "streaming_tv                -0.214859\n",
       "streaming_movies            -0.219114\n",
       "device_protection           -0.269440\n",
       "online_backup               -0.275924\n",
       "two_year                    -0.298877\n",
       "online_security             -0.307907\n",
       "tech_support                -0.307941\n",
       "tenure_months               -0.352282\n",
       "Name: churn, dtype: float64"
      ]
     },
     "execution_count": 15,
     "metadata": {},
     "output_type": "execute_result"
    }
   ],
   "source": [
    "#let's focus on churn\n",
    "cols= train_corr['churn'].sort_values(ascending=False)\n",
    "cols"
   ]
  },
  {
   "cell_type": "code",
   "execution_count": 16,
   "metadata": {},
   "outputs": [
    {
     "data": {
      "image/png": "[encoded data removed]",
      "text/plain": [
       "<Figure size 936x720 with 2 Axes>"
      ]
     },
     "metadata": {
      "needs_background": "light"
     },
     "output_type": "display_data"
    }
   ],
   "source": [
    "#get the list  of  -0.2 >values > .18 \n",
    "col_listf = list(cols[cols > .18].index)  + list(cols[cols < (-.2)].index)\n",
    "col_listf\n",
    "\n",
    "#plot heatmap\n",
    "plt.figure(figsize=(13,10))\n",
    "sns.heatmap(train[col_listf].corr() , cmap='coolwarm', center=0, annot=True)\n",
    "\n",
    "plt.title('')\n",
    "plt.show()"
   ]
  },
  {
   "cell_type": "markdown",
   "metadata": {},
   "source": [
    "<div class=\"alert alert-block alert-info\">\n",
    "<b>Takeaways:</b>\n",
    "    \n",
    "- Positive correlations:\n",
    "     - month_to_month\n",
    "     - fiber_optic\n",
    "     - electronic_check\n",
    "\n",
    "    \n",
    "- Negative correlations: \n",
    "     - tenure_months\n",
    "     - tech_suport\n",
    "     - online_security \n",
    "\n"
   ]
  },
  {
   "cell_type": "markdown",
   "metadata": {},
   "source": [
    "**Plot features with more correlation**"
   ]
  },
  {
   "cell_type": "code",
   "execution_count": 17,
   "metadata": {
    "scrolled": true
   },
   "outputs": [
    {
     "data": {
      "image/png": "[encoded data removed]",
      "text/plain": [
       "<Figure size 1152x432 with 3 Axes>"
      ]
     },
     "metadata": {
      "needs_background": "light"
     },
     "output_type": "display_data"
    }
   ],
   "source": [
    "features = ['month_to_month', 'fiber_optic', 'electronic_check']\n",
    "explore.bar_plot(features, train)"
   ]
  },
  {
   "cell_type": "markdown",
   "metadata": {},
   "source": [
    "<div class=\"alert alert-block alert-info\">\n",
    "<b>Takeaways:</b>\n",
    "    \n",
    "- Month to month contracts have a significant higher churn rate\n",
    "- Customers that have the type of internet as fiber optic have a higher churn rate. we need to check the fiber optic service to see why the customer are leaving, if it is a problem with the service ? speed? because we dont want to change our customers to dsl service.\n",
    "- Customers who use electronic_check have a higher churn rate. this is not an autopay. ** we can check the relation of the customerwith month_to_month contract an electronic_check\n",
    "\n",
    "\n"
   ]
  },
  {
   "cell_type": "code",
   "execution_count": 18,
   "metadata": {},
   "outputs": [
    {
     "data": {
      "image/png": "[encoded data removed]",
      "text/plain": [
       "<Figure size 1152x432 with 2 Axes>"
      ]
     },
     "metadata": {
      "needs_background": "light"
     },
     "output_type": "display_data"
    }
   ],
   "source": [
    "features = ['tech_support', 'online_security']\n",
    "explore.bar_plot(features, train)"
   ]
  },
  {
   "cell_type": "markdown",
   "metadata": {},
   "source": [
    "<div class=\"alert alert-block alert-info\">\n",
    "<b>Takeaways:</b>\n",
    "    \n",
    "- Customers who have online_security or tech_suppor have a lower churn of rate.\n"
   ]
  },
  {
   "cell_type": "markdown",
   "metadata": {},
   "source": [
    "### Selected Driver =  tenure"
   ]
  },
  {
   "cell_type": "code",
   "execution_count": 19,
   "metadata": {},
   "outputs": [
    {
     "data": {
      "image/png": "[encoded data removed]",
      "text/plain": [
       "<Figure size 1080x720 with 1 Axes>"
      ]
     },
     "metadata": {
      "needs_background": "light"
     },
     "output_type": "display_data"
    }
   ],
   "source": [
    "explore.plot_tenure(train,'tenure_months')"
   ]
  },
  {
   "cell_type": "markdown",
   "metadata": {},
   "source": [
    "<div class=\"alert alert-block alert-info\">\n",
    "<b>Takeaways:</b>\n",
    "    \n",
    "- Churn is higher in the first month of tenure. "
   ]
  },
  {
   "cell_type": "markdown",
   "metadata": {},
   "source": [
    "## Check only the First Month of tenure"
   ]
  },
  {
   "cell_type": "code",
   "execution_count": 20,
   "metadata": {
    "scrolled": true
   },
   "outputs": [
    {
     "name": "stdout",
     "output_type": "stream",
     "text": [
      "                      *** THE FIRST 1  MONTH(S) OF TENURE *** \n",
      "\n",
      "Total customers :     332 \n",
      "Total cancellations : 207 \n",
      "Churn rate in the first 1 month(s) of Tenure: 62.35%\n",
      "\n",
      "****Overall churn rate: 26.53%******\n",
      "\n",
      "________________________________________________________________________________\n",
      "\n",
      "                    ** FIRST 1 MONTH(S) OF TENURE AND CHURN** \n",
      "\n",
      "Customers with phone service:         93.24% \n",
      "Customers with only internet service: 6.76% \n",
      "Monlthy charges: $ 12342.1 \n",
      "\n",
      "\n",
      "Month_to_month contracts: 100.00% \n",
      "One year contract:        0.00% \n",
      "Two year contract:        0.00% \n",
      "Paperless_billing:        68.60%\n",
      "Electronic_check payment type : 57.97% \n"
     ]
    }
   ],
   "source": [
    "#using my function\n",
    "explore.report_tenure (train, 1)"
   ]
  },
  {
   "cell_type": "markdown",
   "metadata": {},
   "source": [
    "###### <div class=\"alert alert-block alert-info\">\n",
    "<b>Takeaways:</b>\n",
    "    \n",
    "- cancelation is   62.35 % in the first month of tenure.  (they only made one payment)\n",
    "- all the cancelation in the first month are month_to_month contracts\n",
    "- customers who paid with electronic checks and canceled :57.97%\n",
    "- customers with  paperless_billing and canceled: 68.60%%\n",
    " "
   ]
  },
  {
   "cell_type": "markdown",
   "metadata": {},
   "source": [
    "# Use function for other range of tenure"
   ]
  },
  {
   "cell_type": "code",
   "execution_count": 21,
   "metadata": {},
   "outputs": [
    {
     "name": "stdout",
     "output_type": "stream",
     "text": [
      "                      *** THE FIRST 6  MONTH(S) OF TENURE *** \n",
      "\n",
      "Total customers :     806 \n",
      "Total cancellations : 432 \n",
      "Churn rate in the first 6 month(s) of Tenure: 53.60%\n",
      "\n",
      "****Overall churn rate: 26.53%******\n",
      "\n",
      "________________________________________________________________________________\n",
      "\n",
      "                    ** FIRST 6 MONTH(S) OF TENURE AND CHURN** \n",
      "\n",
      "Customers with phone service:         91.20% \n",
      "Customers with only internet service: 8.80% \n",
      "Monlthy charges: $ 28038.7 \n",
      "\n",
      "\n",
      "Month_to_month contracts: 99.77% \n",
      "One year contract:        0.23% \n",
      "Two year contract:        0.00% \n",
      "Paperless_billing:        69.44%\n",
      "Electronic_check payment type : 58.33% \n"
     ]
    }
   ],
   "source": [
    "#using my function\n",
    "explore.report_tenure (train, 6)"
   ]
  },
  {
   "cell_type": "markdown",
   "metadata": {},
   "source": [
    "##  Statistical Tests"
   ]
  },
  {
   "cell_type": "raw",
   "metadata": {},
   "source": [
    "**Tenure** \n",
    "\n",
    "\n",
    "\n",
    "- 𝐻𝑜 : There is no difference in churn rate between customers with 1 month of tenure  and the customers longer tenure\n",
    "- 𝐻𝑎 : There is a difference in churn rate between customers with 1 month of tenure  and the customers with longer tenure\n",
    "    \n",
    "Significance level $\\alpha$ = 0.05"
   ]
  },
  {
   "cell_type": "markdown",
   "metadata": {},
   "source": [
    "- tenure_months = continous \n",
    "- churn = categorical\n",
    "- continous vs categorical = **t_testOne sample T-test, 2-tailed test**"
   ]
  },
  {
   "cell_type": "code",
   "execution_count": 22,
   "metadata": {},
   "outputs": [
    {
     "data": {
      "text/plain": [
       "(83.15502839215699, 0.0)"
      ]
     },
     "execution_count": 22,
     "metadata": {},
     "output_type": "execute_result"
    }
   ],
   "source": [
    "alpha = 0.5\n",
    "t, p = stats.ttest_1samp(train.tenure_months, train.churn.mean())\n",
    "t,p"
   ]
  },
  {
   "cell_type": "code",
   "execution_count": 23,
   "metadata": {},
   "outputs": [
    {
     "name": "stdout",
     "output_type": "stream",
     "text": [
      "We reject the null hypothesis\n"
     ]
    }
   ],
   "source": [
    "\n",
    "if (p < alpha):\n",
    "    print(\"We reject the null hypothesis\")\n",
    "else:\n",
    "    print(\"We fail to reject the null hypothesis\")"
   ]
  },
  {
   "cell_type": "markdown",
   "metadata": {},
   "source": [
    "**Electronic Check**  \n",
    "\n",
    "- $H_o$: Rate of churn is not dependent on using electronic check as the form of payment.\n",
    "- $H_a$: Rate of churn is dependent on using electronic check as the form of payment.\n",
    "\n",
    "Significance level  𝛼  = 0.05"
   ]
  },
  {
   "cell_type": "markdown",
   "metadata": {},
   "source": [
    "- electronic_check = categorical \n",
    "- churn = categorical\n",
    "- categorical vs categorical = **chi square**"
   ]
  },
  {
   "cell_type": "code",
   "execution_count": 24,
   "metadata": {},
   "outputs": [
    {
     "data": {
      "text/html": [
       "<div>\n",
       "<style scoped>\n",
       "    .dataframe tbody tr th:only-of-type {\n",
       "        vertical-align: middle;\n",
       "    }\n",
       "\n",
       "    .dataframe tbody tr th {\n",
       "        vertical-align: top;\n",
       "    }\n",
       "\n",
       "    .dataframe thead th {\n",
       "        text-align: right;\n",
       "    }\n",
       "</style>\n",
       "<table border=\"1\" class=\"dataframe\">\n",
       "  <thead>\n",
       "    <tr style=\"text-align: right;\">\n",
       "      <th>churn</th>\n",
       "      <th>0</th>\n",
       "      <th>1</th>\n",
       "    </tr>\n",
       "    <tr>\n",
       "      <th>electronic_check</th>\n",
       "      <th></th>\n",
       "      <th></th>\n",
       "    </tr>\n",
       "  </thead>\n",
       "  <tbody>\n",
       "    <tr>\n",
       "      <th>0</th>\n",
       "      <td>2172</td>\n",
       "      <td>451</td>\n",
       "    </tr>\n",
       "    <tr>\n",
       "      <th>1</th>\n",
       "      <td>725</td>\n",
       "      <td>595</td>\n",
       "    </tr>\n",
       "  </tbody>\n",
       "</table>\n",
       "</div>"
      ],
      "text/plain": [
       "churn                0    1\n",
       "electronic_check           \n",
       "0                 2172  451\n",
       "1                  725  595"
      ]
     },
     "execution_count": 24,
     "metadata": {},
     "output_type": "execute_result"
    }
   ],
   "source": [
    "observed2 = pd.crosstab(train.electronic_check, train.churn)\n",
    "observed2"
   ]
  },
  {
   "cell_type": "code",
   "execution_count": 25,
   "metadata": {},
   "outputs": [
    {
     "name": "stdout",
     "output_type": "stream",
     "text": [
      "Observed\n",
      "\n",
      "[[2172  451]\n",
      " [ 725  595]]\n",
      "---\n",
      "Expected\n",
      "\n",
      "[[1927  695]\n",
      " [ 969  350]]\n",
      "---\n",
      "\n",
      "chi^2 = 348.8043\n",
      "p     = 0.0000\n"
     ]
    }
   ],
   "source": [
    "chi2, p, degf, expected =stats.chi2_contingency(observed2)\n",
    "print('Observed\\n')\n",
    "print(observed2.values)\n",
    "print('---\\nExpected\\n')\n",
    "print(expected.astype(int))\n",
    "print('---\\n')\n",
    "print(f'chi^2 = {chi2:.4f}')\n",
    "print(f'p     = {p:.4f}')"
   ]
  },
  {
   "cell_type": "code",
   "execution_count": 26,
   "metadata": {},
   "outputs": [
    {
     "name": "stdout",
     "output_type": "stream",
     "text": [
      "We reject the null Hypothesis\n"
     ]
    }
   ],
   "source": [
    "if p < alpha:\n",
    "    print('We reject the null Hypothesis')\n",
    "else:\n",
    "    print(\"we fail to reject the null\")"
   ]
  },
  {
   "cell_type": "markdown",
   "metadata": {},
   "source": [
    "<div class=\"alert alert-block alert-info\">\n",
    "<b>Takeaways:</b>\n",
    "    \n",
    "- The first month of tenure the churn rate (62.35%) is really higher than overall churn rate and more than 50 % of the customers who canceled had electronic check as a payment type ad paperless billing.\n",
    " "
   ]
  },
  {
   "cell_type": "markdown",
   "metadata": {},
   "source": [
    "## Plan -> Acquire -> Prepare  -> Explore <font color=green>-> Model <font color=black>-> Deliver"
   ]
  },
  {
   "cell_type": "markdown",
   "metadata": {},
   "source": [
    "I am trying to predict the customers that will churn. The positive variable will be churn = 1 in my folowing models.\n",
    "\n",
    "Possible Outcomes:\n",
    "\n",
    "- TP: Predict churn  and it is churn\n",
    "- TN: Predict  no  churn  and it is no  churn\n",
    "- FP: Predict churn but it is no churn\n",
    "- FN: Predict no  churn but it is  churn"
   ]
  },
  {
   "cell_type": "code",
   "execution_count": 27,
   "metadata": {},
   "outputs": [],
   "source": [
    "#split my data X and y (using my function)\n",
    "X_train, y_train = model_func.split_Xy(train, 'churn')\n",
    "X_validate, y_validate = model_func.split_Xy(validate, 'churn')\n",
    "X_test, y_test = model_func.split_Xy(test, 'churn')"
   ]
  },
  {
   "cell_type": "markdown",
   "metadata": {},
   "source": [
    "**Baseline** the most frequent value of churn"
   ]
  },
  {
   "cell_type": "code",
   "execution_count": 28,
   "metadata": {},
   "outputs": [
    {
     "data": {
      "text/plain": [
       "0    2897\n",
       "Name: churn, dtype: int64"
      ]
     },
     "execution_count": 28,
     "metadata": {},
     "output_type": "execute_result"
    }
   ],
   "source": [
    "#get the most frequen value.  0 = no churn\n",
    "train.churn.value_counts().nlargest(1)"
   ]
  },
  {
   "cell_type": "code",
   "execution_count": 29,
   "metadata": {},
   "outputs": [
    {
     "name": "stdout",
     "output_type": "stream",
     "text": [
      "The baseline accuracy for No Churn in all cases on the telco Dataset is 73.472%\n"
     ]
    }
   ],
   "source": [
    "# 1. Create the object\n",
    "baseline = DummyClassifier(strategy='constant', constant=0)\n",
    "# 2. Fit the object\n",
    "baseline.fit(X_train, y_train)\n",
    "print(f'The baseline accuracy for No Churn in all cases on the telco Dataset is {baseline.score(X_train, y_train):.3%}')"
   ]
  },
  {
   "cell_type": "code",
   "execution_count": 30,
   "metadata": {},
   "outputs": [
    {
     "data": {
      "text/plain": [
       "['month_to_month',\n",
       " 'fiber_optic',\n",
       " 'electronic_check',\n",
       " 'has_internet',\n",
       " 'monthly_charges',\n",
       " 'paperless_billing',\n",
       " 'total_charges',\n",
       " 'streaming_tv',\n",
       " 'streaming_movies',\n",
       " 'device_protection',\n",
       " 'online_backup',\n",
       " 'two_year',\n",
       " 'online_security',\n",
       " 'tech_support',\n",
       " 'tenure_months']"
      ]
     },
     "execution_count": 30,
     "metadata": {},
     "output_type": "execute_result"
    }
   ],
   "source": [
    "#col_list have the list of columns with the highest correlation (I got it from exploration stage)\n",
    "#here I' removing churn from this list\n",
    "columns = col_listf[1:] \n",
    "columns\n"
   ]
  },
  {
   "cell_type": "markdown",
   "metadata": {},
   "source": [
    "## Model 1 :  Decision Tree"
   ]
  },
  {
   "cell_type": "code",
   "execution_count": 31,
   "metadata": {},
   "outputs": [
    {
     "name": "stdout",
     "output_type": "stream",
     "text": [
      "training score: 79.20%\n",
      "validate score: 79.36%\n"
     ]
    }
   ],
   "source": [
    "# create the model\n",
    "model_dtl= DecisionTreeClassifier(max_depth=3)\n",
    "# fit the model\n",
    "model_dtl.fit(X_train[columns], y_train)\n",
    "\n",
    "# look at the model scores for training set and validate set\n",
    "print(f'training score: {model_dtl.score(X_train[columns], y_train):.2%}')\n",
    "print(f'validate score: {model_dtl.score(X_validate[columns], y_validate):.2%}')"
   ]
  },
  {
   "cell_type": "markdown",
   "metadata": {},
   "source": [
    "## Model 2 :  Random Forest"
   ]
  },
  {
   "cell_type": "code",
   "execution_count": 32,
   "metadata": {},
   "outputs": [
    {
     "name": "stdout",
     "output_type": "stream",
     "text": [
      "training score: 79.79%\n",
      "validate score: 79.60%\n"
     ]
    }
   ],
   "source": [
    "# create the Random Forest Model\n",
    "model_rf2 = RandomForestClassifier(min_samples_leaf=4, max_depth=4, random_state=1349)\n",
    "# fit the thing\n",
    "model_rf2.fit(X_train[columns], y_train)\n",
    "# look at the model scores for training set and validate set\n",
    "print(f'training score: {model_rf2.score(X_train[columns], y_train):.2%}')\n",
    "print(f'validate score: {model_rf2.score(X_validate[columns], y_validate):.2%}')"
   ]
  },
  {
   "cell_type": "markdown",
   "metadata": {},
   "source": [
    "## Model 3: KNN"
   ]
  },
  {
   "cell_type": "code",
   "execution_count": 33,
   "metadata": {},
   "outputs": [
    {
     "name": "stdout",
     "output_type": "stream",
     "text": [
      "training score: 79.79%\n",
      "validate score: 79.07%\n"
     ]
    }
   ],
   "source": [
    "knn = KNeighborsClassifier(n_neighbors=14)\n",
    "knn.fit(X_train[columns], y_train)\n",
    "print(f'training score: {knn.score(X_train[columns], y_train):.2%}')\n",
    "print(f'validate score: {knn.score(X_validate[columns], y_validate):.2%}')"
   ]
  },
  {
   "cell_type": "markdown",
   "metadata": {},
   "source": [
    "## Model 4 : Logistic Regression"
   ]
  },
  {
   "cell_type": "code",
   "execution_count": 34,
   "metadata": {
    "scrolled": true
   },
   "outputs": [
    {
     "name": "stdout",
     "output_type": "stream",
     "text": [
      "training score: 80.22%\n",
      "validate score: 80.07%\n"
     ]
    }
   ],
   "source": [
    "\n",
    "model_lr1 =LogisticRegression(C=1.0 , random_state=123)\n",
    "model_lr1.fit(X_train[columns], y_train)\n",
    "print(f'training score: {model_lr1.score(X_train[columns], y_train):.2%}')\n",
    "print(f'validate score: {model_lr1.score(X_validate[columns], y_validate):.2%}')"
   ]
  },
  {
   "cell_type": "code",
   "execution_count": 35,
   "metadata": {
    "scrolled": true
   },
   "outputs": [
    {
     "name": "stdout",
     "output_type": "stream",
     "text": [
      "\n",
      "    ******       Model 1  ******                                ******     Model 2  ****** \n",
      "    The accuracy for our model 1 is 80.0710%            |   The accuracy for our model 2 is 79.5979%  \n",
      "                                                        |\n",
      "    The True Positive Rate is 55.457%                   |   The True Positive Rate is 44.989%  \n",
      "    The False Positive Rate is 11.031%                  |   The False Positive Rate is 7.890% \n",
      "    The True Negative Rate is 88.969%                   |   The True Negative Rate is 92.110% \n",
      "    The False Negative Rate is 44.543%                  |   The False Negative Rate is 55.011%\n",
      "\n",
      "    _____________________________________________________________________________________________________________\n",
      "    \n",
      "\n",
      "    The positive is  'churn'\n",
      "\n",
      "    Confusion Matrix\n",
      "    \n"
     ]
    },
    {
     "data": {
      "text/html": [
       "<style  type=\"text/css\" >\n",
       "</style><table id=\"T_a023293c_c295_11eb_9989_acde48001122\" style='display:inline'><caption>Model 1</caption><thead>    <tr>        <th class=\"blank level0\" ></th>        <th class=\"col_heading level0 col0\" >pred_no_churn</th>        <th class=\"col_heading level0 col1\" >pred_churn</th>    </tr></thead><tbody>\n",
       "                <tr>\n",
       "                        <th id=\"T_a023293c_c295_11eb_9989_acde48001122level0_row0\" class=\"row_heading level0 row0\" >actual_no_churn</th>\n",
       "                        <td id=\"T_a023293c_c295_11eb_9989_acde48001122row0_col0\" class=\"data row0 col0\" >True Negative: 1105</td>\n",
       "                        <td id=\"T_a023293c_c295_11eb_9989_acde48001122row0_col1\" class=\"data row0 col1\" >False positive: 137</td>\n",
       "            </tr>\n",
       "            <tr>\n",
       "                        <th id=\"T_a023293c_c295_11eb_9989_acde48001122level0_row1\" class=\"row_heading level0 row1\" >actual_churn</th>\n",
       "                        <td id=\"T_a023293c_c295_11eb_9989_acde48001122row1_col0\" class=\"data row1 col0\" >False Negative: 200</td>\n",
       "                        <td id=\"T_a023293c_c295_11eb_9989_acde48001122row1_col1\" class=\"data row1 col1\" >True Positive: 249</td>\n",
       "            </tr>\n",
       "    </tbody></table>                                                  <style  type=\"text/css\" >\n",
       "</style><table id=\"T_a02361cc_c295_11eb_9989_acde48001122\" style='display:inline'><caption>Model2</caption><thead>    <tr>        <th class=\"blank level0\" ></th>        <th class=\"col_heading level0 col0\" >pred_no_churn</th>        <th class=\"col_heading level0 col1\" >pred_churn</th>    </tr></thead><tbody>\n",
       "                <tr>\n",
       "                        <th id=\"T_a02361cc_c295_11eb_9989_acde48001122level0_row0\" class=\"row_heading level0 row0\" >actual_no_churn</th>\n",
       "                        <td id=\"T_a02361cc_c295_11eb_9989_acde48001122row0_col0\" class=\"data row0 col0\" >True Negative: 1144</td>\n",
       "                        <td id=\"T_a02361cc_c295_11eb_9989_acde48001122row0_col1\" class=\"data row0 col1\" >False positive: 98</td>\n",
       "            </tr>\n",
       "            <tr>\n",
       "                        <th id=\"T_a02361cc_c295_11eb_9989_acde48001122level0_row1\" class=\"row_heading level0 row1\" >actual_churn</th>\n",
       "                        <td id=\"T_a02361cc_c295_11eb_9989_acde48001122row1_col0\" class=\"data row1 col0\" >False Negative: 247</td>\n",
       "                        <td id=\"T_a02361cc_c295_11eb_9989_acde48001122row1_col1\" class=\"data row1 col1\" >True Positive: 202</td>\n",
       "            </tr>\n",
       "    </tbody></table>"
      ]
     },
     "metadata": {},
     "output_type": "display_data"
    },
    {
     "name": "stdout",
     "output_type": "stream",
     "text": [
      "\n",
      "\n",
      "    ________________________________________________________________________________\n",
      "    \n",
      "    Classification Report:\n",
      "    \n"
     ]
    },
    {
     "data": {
      "text/html": [
       "<style  type=\"text/css\" >\n",
       "</style><table id=\"T_a023eb56_c295_11eb_9989_acde48001122\" style='display:inline'><caption>Model 1 Classification Report</caption><thead>    <tr>        <th class=\"blank level0\" ></th>        <th class=\"col_heading level0 col0\" >precision</th>        <th class=\"col_heading level0 col1\" >recall</th>        <th class=\"col_heading level0 col2\" >f1-score</th>        <th class=\"col_heading level0 col3\" >support</th>    </tr></thead><tbody>\n",
       "                <tr>\n",
       "                        <th id=\"T_a023eb56_c295_11eb_9989_acde48001122level0_row0\" class=\"row_heading level0 row0\" >no_churn</th>\n",
       "                        <td id=\"T_a023eb56_c295_11eb_9989_acde48001122row0_col0\" class=\"data row0 col0\" >0.846743</td>\n",
       "                        <td id=\"T_a023eb56_c295_11eb_9989_acde48001122row0_col1\" class=\"data row0 col1\" >0.889694</td>\n",
       "                        <td id=\"T_a023eb56_c295_11eb_9989_acde48001122row0_col2\" class=\"data row0 col2\" >0.867687</td>\n",
       "                        <td id=\"T_a023eb56_c295_11eb_9989_acde48001122row0_col3\" class=\"data row0 col3\" >1242.000000</td>\n",
       "            </tr>\n",
       "            <tr>\n",
       "                        <th id=\"T_a023eb56_c295_11eb_9989_acde48001122level0_row1\" class=\"row_heading level0 row1\" >churn</th>\n",
       "                        <td id=\"T_a023eb56_c295_11eb_9989_acde48001122row1_col0\" class=\"data row1 col0\" >0.645078</td>\n",
       "                        <td id=\"T_a023eb56_c295_11eb_9989_acde48001122row1_col1\" class=\"data row1 col1\" >0.554566</td>\n",
       "                        <td id=\"T_a023eb56_c295_11eb_9989_acde48001122row1_col2\" class=\"data row1 col2\" >0.596407</td>\n",
       "                        <td id=\"T_a023eb56_c295_11eb_9989_acde48001122row1_col3\" class=\"data row1 col3\" >449.000000</td>\n",
       "            </tr>\n",
       "            <tr>\n",
       "                        <th id=\"T_a023eb56_c295_11eb_9989_acde48001122level0_row2\" class=\"row_heading level0 row2\" >accuracy</th>\n",
       "                        <td id=\"T_a023eb56_c295_11eb_9989_acde48001122row2_col0\" class=\"data row2 col0\" >0.800710</td>\n",
       "                        <td id=\"T_a023eb56_c295_11eb_9989_acde48001122row2_col1\" class=\"data row2 col1\" >0.800710</td>\n",
       "                        <td id=\"T_a023eb56_c295_11eb_9989_acde48001122row2_col2\" class=\"data row2 col2\" >0.800710</td>\n",
       "                        <td id=\"T_a023eb56_c295_11eb_9989_acde48001122row2_col3\" class=\"data row2 col3\" >0.800710</td>\n",
       "            </tr>\n",
       "            <tr>\n",
       "                        <th id=\"T_a023eb56_c295_11eb_9989_acde48001122level0_row3\" class=\"row_heading level0 row3\" >macro avg</th>\n",
       "                        <td id=\"T_a023eb56_c295_11eb_9989_acde48001122row3_col0\" class=\"data row3 col0\" >0.745911</td>\n",
       "                        <td id=\"T_a023eb56_c295_11eb_9989_acde48001122row3_col1\" class=\"data row3 col1\" >0.722130</td>\n",
       "                        <td id=\"T_a023eb56_c295_11eb_9989_acde48001122row3_col2\" class=\"data row3 col2\" >0.732047</td>\n",
       "                        <td id=\"T_a023eb56_c295_11eb_9989_acde48001122row3_col3\" class=\"data row3 col3\" >1691.000000</td>\n",
       "            </tr>\n",
       "            <tr>\n",
       "                        <th id=\"T_a023eb56_c295_11eb_9989_acde48001122level0_row4\" class=\"row_heading level0 row4\" >weighted avg</th>\n",
       "                        <td id=\"T_a023eb56_c295_11eb_9989_acde48001122row4_col0\" class=\"data row4 col0\" >0.793196</td>\n",
       "                        <td id=\"T_a023eb56_c295_11eb_9989_acde48001122row4_col1\" class=\"data row4 col1\" >0.800710</td>\n",
       "                        <td id=\"T_a023eb56_c295_11eb_9989_acde48001122row4_col2\" class=\"data row4 col2\" >0.795656</td>\n",
       "                        <td id=\"T_a023eb56_c295_11eb_9989_acde48001122row4_col3\" class=\"data row4 col3\" >1691.000000</td>\n",
       "            </tr>\n",
       "    </tbody></table>                                             <style  type=\"text/css\" >\n",
       "</style><table id=\"T_a0244902_c295_11eb_9989_acde48001122\" style='display:inline'><caption>Model 2 Classification Report</caption><thead>    <tr>        <th class=\"blank level0\" ></th>        <th class=\"col_heading level0 col0\" >precision</th>        <th class=\"col_heading level0 col1\" >recall</th>        <th class=\"col_heading level0 col2\" >f1-score</th>        <th class=\"col_heading level0 col3\" >support</th>    </tr></thead><tbody>\n",
       "                <tr>\n",
       "                        <th id=\"T_a0244902_c295_11eb_9989_acde48001122level0_row0\" class=\"row_heading level0 row0\" >no_churn</th>\n",
       "                        <td id=\"T_a0244902_c295_11eb_9989_acde48001122row0_col0\" class=\"data row0 col0\" >0.822430</td>\n",
       "                        <td id=\"T_a0244902_c295_11eb_9989_acde48001122row0_col1\" class=\"data row0 col1\" >0.921095</td>\n",
       "                        <td id=\"T_a0244902_c295_11eb_9989_acde48001122row0_col2\" class=\"data row0 col2\" >0.868971</td>\n",
       "                        <td id=\"T_a0244902_c295_11eb_9989_acde48001122row0_col3\" class=\"data row0 col3\" >1242.000000</td>\n",
       "            </tr>\n",
       "            <tr>\n",
       "                        <th id=\"T_a0244902_c295_11eb_9989_acde48001122level0_row1\" class=\"row_heading level0 row1\" >churn</th>\n",
       "                        <td id=\"T_a0244902_c295_11eb_9989_acde48001122row1_col0\" class=\"data row1 col0\" >0.673333</td>\n",
       "                        <td id=\"T_a0244902_c295_11eb_9989_acde48001122row1_col1\" class=\"data row1 col1\" >0.449889</td>\n",
       "                        <td id=\"T_a0244902_c295_11eb_9989_acde48001122row1_col2\" class=\"data row1 col2\" >0.539386</td>\n",
       "                        <td id=\"T_a0244902_c295_11eb_9989_acde48001122row1_col3\" class=\"data row1 col3\" >449.000000</td>\n",
       "            </tr>\n",
       "            <tr>\n",
       "                        <th id=\"T_a0244902_c295_11eb_9989_acde48001122level0_row2\" class=\"row_heading level0 row2\" >accuracy</th>\n",
       "                        <td id=\"T_a0244902_c295_11eb_9989_acde48001122row2_col0\" class=\"data row2 col0\" >0.795979</td>\n",
       "                        <td id=\"T_a0244902_c295_11eb_9989_acde48001122row2_col1\" class=\"data row2 col1\" >0.795979</td>\n",
       "                        <td id=\"T_a0244902_c295_11eb_9989_acde48001122row2_col2\" class=\"data row2 col2\" >0.795979</td>\n",
       "                        <td id=\"T_a0244902_c295_11eb_9989_acde48001122row2_col3\" class=\"data row2 col3\" >0.795979</td>\n",
       "            </tr>\n",
       "            <tr>\n",
       "                        <th id=\"T_a0244902_c295_11eb_9989_acde48001122level0_row3\" class=\"row_heading level0 row3\" >macro avg</th>\n",
       "                        <td id=\"T_a0244902_c295_11eb_9989_acde48001122row3_col0\" class=\"data row3 col0\" >0.747882</td>\n",
       "                        <td id=\"T_a0244902_c295_11eb_9989_acde48001122row3_col1\" class=\"data row3 col1\" >0.685492</td>\n",
       "                        <td id=\"T_a0244902_c295_11eb_9989_acde48001122row3_col2\" class=\"data row3 col2\" >0.704178</td>\n",
       "                        <td id=\"T_a0244902_c295_11eb_9989_acde48001122row3_col3\" class=\"data row3 col3\" >1691.000000</td>\n",
       "            </tr>\n",
       "            <tr>\n",
       "                        <th id=\"T_a0244902_c295_11eb_9989_acde48001122level0_row4\" class=\"row_heading level0 row4\" >weighted avg</th>\n",
       "                        <td id=\"T_a0244902_c295_11eb_9989_acde48001122row4_col0\" class=\"data row4 col0\" >0.782841</td>\n",
       "                        <td id=\"T_a0244902_c295_11eb_9989_acde48001122row4_col1\" class=\"data row4 col1\" >0.795979</td>\n",
       "                        <td id=\"T_a0244902_c295_11eb_9989_acde48001122row4_col2\" class=\"data row4 col2\" >0.781458</td>\n",
       "                        <td id=\"T_a0244902_c295_11eb_9989_acde48001122row4_col3\" class=\"data row4 col3\" >1691.000000</td>\n",
       "            </tr>\n",
       "    </tbody></table>"
      ]
     },
     "metadata": {},
     "output_type": "display_data"
    }
   ],
   "source": [
    "#comparing my 2 best models (logistic regresion and Random forest) using my function\n",
    "model_func.compare(model_lr1, model_rf2, X_validate[columns], y_validate)"
   ]
  },
  {
   "cell_type": "code",
   "execution_count": 36,
   "metadata": {
    "scrolled": false
   },
   "outputs": [
    {
     "name": "stdout",
     "output_type": "stream",
     "text": [
      "\n",
      "    ******    Train       ******                              ******     validate    ****** \n",
      "       Overall Accuracy:  80.22%              |                Overall Accuracy:  80.07%  \n",
      "                                                \n",
      "    True Positive Rate:  54.88%               |          The True Positive Rate:  55.46%  \n",
      "    False Positive Rate:  10.63%              |          The False Positive Rate:  11.03% \n",
      "    True Negative Rate:  89.37%               |          The True Negative Rate:  88.97% \n",
      "    False Negative Rate:  45.12%              |          The False Negative Rate:  44.54%\n",
      "    _________________________________________________________________________________\n",
      "    \n",
      "\n",
      "    Positive =  'churn'\n",
      "    Confusion Matrix\n",
      "    \n"
     ]
    },
    {
     "data": {
      "text/html": [
       "<style  type=\"text/css\" >\n",
       "</style><table id=\"T_a02fb152_c295_11eb_9989_acde48001122\" style='display:inline'><caption>Train Confusion Matrix</caption><thead>    <tr>        <th class=\"blank level0\" ></th>        <th class=\"col_heading level0 col0\" >pred_no_churn</th>        <th class=\"col_heading level0 col1\" >pred_churn</th>    </tr></thead><tbody>\n",
       "                <tr>\n",
       "                        <th id=\"T_a02fb152_c295_11eb_9989_acde48001122level0_row0\" class=\"row_heading level0 row0\" >actual_no_churn</th>\n",
       "                        <td id=\"T_a02fb152_c295_11eb_9989_acde48001122row0_col0\" class=\"data row0 col0\" >TN : 2589</td>\n",
       "                        <td id=\"T_a02fb152_c295_11eb_9989_acde48001122row0_col1\" class=\"data row0 col1\" >FP : 308</td>\n",
       "            </tr>\n",
       "            <tr>\n",
       "                        <th id=\"T_a02fb152_c295_11eb_9989_acde48001122level0_row1\" class=\"row_heading level0 row1\" >actual_churn</th>\n",
       "                        <td id=\"T_a02fb152_c295_11eb_9989_acde48001122row1_col0\" class=\"data row1 col0\" >FN : 472</td>\n",
       "                        <td id=\"T_a02fb152_c295_11eb_9989_acde48001122row1_col1\" class=\"data row1 col1\" >TP : 574</td>\n",
       "            </tr>\n",
       "    </tbody></table>                                                  <style  type=\"text/css\" >\n",
       "</style><table id=\"T_a02fe884_c295_11eb_9989_acde48001122\" style='display:inline'><caption>validate Confusion Matrix</caption><thead>    <tr>        <th class=\"blank level0\" ></th>        <th class=\"col_heading level0 col0\" >pred_no_churn</th>        <th class=\"col_heading level0 col1\" >pred_churn</th>    </tr></thead><tbody>\n",
       "                <tr>\n",
       "                        <th id=\"T_a02fe884_c295_11eb_9989_acde48001122level0_row0\" class=\"row_heading level0 row0\" >actual_no_churn</th>\n",
       "                        <td id=\"T_a02fe884_c295_11eb_9989_acde48001122row0_col0\" class=\"data row0 col0\" >TN : 1105</td>\n",
       "                        <td id=\"T_a02fe884_c295_11eb_9989_acde48001122row0_col1\" class=\"data row0 col1\" >FP : 137</td>\n",
       "            </tr>\n",
       "            <tr>\n",
       "                        <th id=\"T_a02fe884_c295_11eb_9989_acde48001122level0_row1\" class=\"row_heading level0 row1\" >actual_churn</th>\n",
       "                        <td id=\"T_a02fe884_c295_11eb_9989_acde48001122row1_col0\" class=\"data row1 col0\" >FN : 200</td>\n",
       "                        <td id=\"T_a02fe884_c295_11eb_9989_acde48001122row1_col1\" class=\"data row1 col1\" >TP : 249</td>\n",
       "            </tr>\n",
       "    </tbody></table>"
      ]
     },
     "metadata": {},
     "output_type": "display_data"
    },
    {
     "name": "stdout",
     "output_type": "stream",
     "text": [
      "\n",
      "    ________________________________________________________________________________\n",
      "    \n",
      "    Classification Report:\n",
      "    \n"
     ]
    },
    {
     "data": {
      "text/html": [
       "<style  type=\"text/css\" >\n",
       "</style><table id=\"T_a0306db8_c295_11eb_9989_acde48001122\" style='display:inline'><caption>Train Classification Report</caption><thead>    <tr>        <th class=\"blank level0\" ></th>        <th class=\"col_heading level0 col0\" >precision</th>        <th class=\"col_heading level0 col1\" >recall</th>        <th class=\"col_heading level0 col2\" >f1-score</th>        <th class=\"col_heading level0 col3\" >support</th>    </tr></thead><tbody>\n",
       "                <tr>\n",
       "                        <th id=\"T_a0306db8_c295_11eb_9989_acde48001122level0_row0\" class=\"row_heading level0 row0\" >no_churn</th>\n",
       "                        <td id=\"T_a0306db8_c295_11eb_9989_acde48001122row0_col0\" class=\"data row0 col0\" >0.845802</td>\n",
       "                        <td id=\"T_a0306db8_c295_11eb_9989_acde48001122row0_col1\" class=\"data row0 col1\" >0.893683</td>\n",
       "                        <td id=\"T_a0306db8_c295_11eb_9989_acde48001122row0_col2\" class=\"data row0 col2\" >0.869084</td>\n",
       "                        <td id=\"T_a0306db8_c295_11eb_9989_acde48001122row0_col3\" class=\"data row0 col3\" >2897.000000</td>\n",
       "            </tr>\n",
       "            <tr>\n",
       "                        <th id=\"T_a0306db8_c295_11eb_9989_acde48001122level0_row1\" class=\"row_heading level0 row1\" >churn</th>\n",
       "                        <td id=\"T_a0306db8_c295_11eb_9989_acde48001122row1_col0\" class=\"data row1 col0\" >0.650794</td>\n",
       "                        <td id=\"T_a0306db8_c295_11eb_9989_acde48001122row1_col1\" class=\"data row1 col1\" >0.548757</td>\n",
       "                        <td id=\"T_a0306db8_c295_11eb_9989_acde48001122row1_col2\" class=\"data row1 col2\" >0.595436</td>\n",
       "                        <td id=\"T_a0306db8_c295_11eb_9989_acde48001122row1_col3\" class=\"data row1 col3\" >1046.000000</td>\n",
       "            </tr>\n",
       "            <tr>\n",
       "                        <th id=\"T_a0306db8_c295_11eb_9989_acde48001122level0_row2\" class=\"row_heading level0 row2\" >accuracy</th>\n",
       "                        <td id=\"T_a0306db8_c295_11eb_9989_acde48001122row2_col0\" class=\"data row2 col0\" >0.802181</td>\n",
       "                        <td id=\"T_a0306db8_c295_11eb_9989_acde48001122row2_col1\" class=\"data row2 col1\" >0.802181</td>\n",
       "                        <td id=\"T_a0306db8_c295_11eb_9989_acde48001122row2_col2\" class=\"data row2 col2\" >0.802181</td>\n",
       "                        <td id=\"T_a0306db8_c295_11eb_9989_acde48001122row2_col3\" class=\"data row2 col3\" >0.802181</td>\n",
       "            </tr>\n",
       "            <tr>\n",
       "                        <th id=\"T_a0306db8_c295_11eb_9989_acde48001122level0_row3\" class=\"row_heading level0 row3\" >macro avg</th>\n",
       "                        <td id=\"T_a0306db8_c295_11eb_9989_acde48001122row3_col0\" class=\"data row3 col0\" >0.748298</td>\n",
       "                        <td id=\"T_a0306db8_c295_11eb_9989_acde48001122row3_col1\" class=\"data row3 col1\" >0.721220</td>\n",
       "                        <td id=\"T_a0306db8_c295_11eb_9989_acde48001122row3_col2\" class=\"data row3 col2\" >0.732260</td>\n",
       "                        <td id=\"T_a0306db8_c295_11eb_9989_acde48001122row3_col3\" class=\"data row3 col3\" >3943.000000</td>\n",
       "            </tr>\n",
       "            <tr>\n",
       "                        <th id=\"T_a0306db8_c295_11eb_9989_acde48001122level0_row4\" class=\"row_heading level0 row4\" >weighted avg</th>\n",
       "                        <td id=\"T_a0306db8_c295_11eb_9989_acde48001122row4_col0\" class=\"data row4 col0\" >0.794070</td>\n",
       "                        <td id=\"T_a0306db8_c295_11eb_9989_acde48001122row4_col1\" class=\"data row4 col1\" >0.802181</td>\n",
       "                        <td id=\"T_a0306db8_c295_11eb_9989_acde48001122row4_col2\" class=\"data row4 col2\" >0.796490</td>\n",
       "                        <td id=\"T_a0306db8_c295_11eb_9989_acde48001122row4_col3\" class=\"data row4 col3\" >3943.000000</td>\n",
       "            </tr>\n",
       "    </tbody></table>                                             <style  type=\"text/css\" >\n",
       "</style><table id=\"T_a030e11c_c295_11eb_9989_acde48001122\" style='display:inline'><caption>validate Classification Report</caption><thead>    <tr>        <th class=\"blank level0\" ></th>        <th class=\"col_heading level0 col0\" >precision</th>        <th class=\"col_heading level0 col1\" >recall</th>        <th class=\"col_heading level0 col2\" >f1-score</th>        <th class=\"col_heading level0 col3\" >support</th>    </tr></thead><tbody>\n",
       "                <tr>\n",
       "                        <th id=\"T_a030e11c_c295_11eb_9989_acde48001122level0_row0\" class=\"row_heading level0 row0\" >no_churn</th>\n",
       "                        <td id=\"T_a030e11c_c295_11eb_9989_acde48001122row0_col0\" class=\"data row0 col0\" >0.846743</td>\n",
       "                        <td id=\"T_a030e11c_c295_11eb_9989_acde48001122row0_col1\" class=\"data row0 col1\" >0.889694</td>\n",
       "                        <td id=\"T_a030e11c_c295_11eb_9989_acde48001122row0_col2\" class=\"data row0 col2\" >0.867687</td>\n",
       "                        <td id=\"T_a030e11c_c295_11eb_9989_acde48001122row0_col3\" class=\"data row0 col3\" >1242.000000</td>\n",
       "            </tr>\n",
       "            <tr>\n",
       "                        <th id=\"T_a030e11c_c295_11eb_9989_acde48001122level0_row1\" class=\"row_heading level0 row1\" >churn</th>\n",
       "                        <td id=\"T_a030e11c_c295_11eb_9989_acde48001122row1_col0\" class=\"data row1 col0\" >0.645078</td>\n",
       "                        <td id=\"T_a030e11c_c295_11eb_9989_acde48001122row1_col1\" class=\"data row1 col1\" >0.554566</td>\n",
       "                        <td id=\"T_a030e11c_c295_11eb_9989_acde48001122row1_col2\" class=\"data row1 col2\" >0.596407</td>\n",
       "                        <td id=\"T_a030e11c_c295_11eb_9989_acde48001122row1_col3\" class=\"data row1 col3\" >449.000000</td>\n",
       "            </tr>\n",
       "            <tr>\n",
       "                        <th id=\"T_a030e11c_c295_11eb_9989_acde48001122level0_row2\" class=\"row_heading level0 row2\" >accuracy</th>\n",
       "                        <td id=\"T_a030e11c_c295_11eb_9989_acde48001122row2_col0\" class=\"data row2 col0\" >0.800710</td>\n",
       "                        <td id=\"T_a030e11c_c295_11eb_9989_acde48001122row2_col1\" class=\"data row2 col1\" >0.800710</td>\n",
       "                        <td id=\"T_a030e11c_c295_11eb_9989_acde48001122row2_col2\" class=\"data row2 col2\" >0.800710</td>\n",
       "                        <td id=\"T_a030e11c_c295_11eb_9989_acde48001122row2_col3\" class=\"data row2 col3\" >0.800710</td>\n",
       "            </tr>\n",
       "            <tr>\n",
       "                        <th id=\"T_a030e11c_c295_11eb_9989_acde48001122level0_row3\" class=\"row_heading level0 row3\" >macro avg</th>\n",
       "                        <td id=\"T_a030e11c_c295_11eb_9989_acde48001122row3_col0\" class=\"data row3 col0\" >0.745911</td>\n",
       "                        <td id=\"T_a030e11c_c295_11eb_9989_acde48001122row3_col1\" class=\"data row3 col1\" >0.722130</td>\n",
       "                        <td id=\"T_a030e11c_c295_11eb_9989_acde48001122row3_col2\" class=\"data row3 col2\" >0.732047</td>\n",
       "                        <td id=\"T_a030e11c_c295_11eb_9989_acde48001122row3_col3\" class=\"data row3 col3\" >1691.000000</td>\n",
       "            </tr>\n",
       "            <tr>\n",
       "                        <th id=\"T_a030e11c_c295_11eb_9989_acde48001122level0_row4\" class=\"row_heading level0 row4\" >weighted avg</th>\n",
       "                        <td id=\"T_a030e11c_c295_11eb_9989_acde48001122row4_col0\" class=\"data row4 col0\" >0.793196</td>\n",
       "                        <td id=\"T_a030e11c_c295_11eb_9989_acde48001122row4_col1\" class=\"data row4 col1\" >0.800710</td>\n",
       "                        <td id=\"T_a030e11c_c295_11eb_9989_acde48001122row4_col2\" class=\"data row4 col2\" >0.795656</td>\n",
       "                        <td id=\"T_a030e11c_c295_11eb_9989_acde48001122row4_col3\" class=\"data row4 col3\" >1691.000000</td>\n",
       "            </tr>\n",
       "    </tbody></table>"
      ]
     },
     "metadata": {},
     "output_type": "display_data"
    }
   ],
   "source": [
    "#compare my best model (model_lr1) train and validate\n",
    "model_func.compare_metrics(model_lr1,'Train',X_train[columns], y_train,'validate', X_validate[columns], y_validate)"
   ]
  },
  {
   "cell_type": "markdown",
   "metadata": {},
   "source": [
    "<div class=\"alert alert-block alert-info\">\n",
    "<b>Takeaways:</b>\n",
    "    \n",
    "- All my  models that I created perfomed better than my baseline (no churn). Baseline accuracy is 73.472%\n",
    "- I select least dropoff in accuracy from train to validate and highest accuracy * this time (other times I need to choose the least dropoff in accuracy from train to validate rather than the highest accuracy ) \n",
    "- My best model is logistic regression."
   ]
  },
  {
   "cell_type": "markdown",
   "metadata": {},
   "source": [
    "## Test the Best Model\n"
   ]
  },
  {
   "cell_type": "code",
   "execution_count": 37,
   "metadata": {
    "scrolled": false
   },
   "outputs": [
    {
     "name": "stdout",
     "output_type": "stream",
     "text": [
      "\n",
      "    The accuracy for our model is 80.4826%\n",
      "\n",
      "    The True Positive Rate is 59.626%,    The False Positive Rate is 11.981%,\n",
      "    The True Negative Rate is 88.019%,    The False Negative Rate is 40.374%\n",
      "\n",
      "    ________________________________________________________________________________\n",
      "    \n",
      "\n",
      "    The positive is  'Churn'\n",
      "\n",
      "    Confusion Matrix\n",
      "    \n"
     ]
    },
    {
     "data": {
      "text/html": [
       "<div>\n",
       "<style scoped>\n",
       "    .dataframe tbody tr th:only-of-type {\n",
       "        vertical-align: middle;\n",
       "    }\n",
       "\n",
       "    .dataframe tbody tr th {\n",
       "        vertical-align: top;\n",
       "    }\n",
       "\n",
       "    .dataframe thead th {\n",
       "        text-align: right;\n",
       "    }\n",
       "</style>\n",
       "<table border=\"1\" class=\"dataframe\">\n",
       "  <thead>\n",
       "    <tr style=\"text-align: right;\">\n",
       "      <th></th>\n",
       "      <th>pred_no_churn</th>\n",
       "      <th>pred_churn</th>\n",
       "    </tr>\n",
       "  </thead>\n",
       "  <tbody>\n",
       "    <tr>\n",
       "      <th>actual_no_churn</th>\n",
       "      <td>True Negative: 911</td>\n",
       "      <td>False positive: 124</td>\n",
       "    </tr>\n",
       "    <tr>\n",
       "      <th>actual_churn</th>\n",
       "      <td>False Negative: 151</td>\n",
       "      <td>True Positive: 223</td>\n",
       "    </tr>\n",
       "  </tbody>\n",
       "</table>\n",
       "</div>"
      ],
      "text/plain": [
       "                       pred_no_churn           pred_churn\n",
       "actual_no_churn   True Negative: 911  False positive: 124\n",
       "actual_churn     False Negative: 151   True Positive: 223"
      ]
     },
     "metadata": {},
     "output_type": "display_data"
    },
    {
     "name": "stdout",
     "output_type": "stream",
     "text": [
      "\n",
      "\n",
      "    ________________________________________________________________________________\n",
      "    \n",
      "    Classification Report:\n",
      "    \n"
     ]
    },
    {
     "data": {
      "text/html": [
       "<div>\n",
       "<style scoped>\n",
       "    .dataframe tbody tr th:only-of-type {\n",
       "        vertical-align: middle;\n",
       "    }\n",
       "\n",
       "    .dataframe tbody tr th {\n",
       "        vertical-align: top;\n",
       "    }\n",
       "\n",
       "    .dataframe thead th {\n",
       "        text-align: right;\n",
       "    }\n",
       "</style>\n",
       "<table border=\"1\" class=\"dataframe\">\n",
       "  <thead>\n",
       "    <tr style=\"text-align: right;\">\n",
       "      <th></th>\n",
       "      <th>precision</th>\n",
       "      <th>recall</th>\n",
       "      <th>f1-score</th>\n",
       "      <th>support</th>\n",
       "    </tr>\n",
       "  </thead>\n",
       "  <tbody>\n",
       "    <tr>\n",
       "      <th>No Churn</th>\n",
       "      <td>0.857815</td>\n",
       "      <td>0.880193</td>\n",
       "      <td>0.868860</td>\n",
       "      <td>1035.000000</td>\n",
       "    </tr>\n",
       "    <tr>\n",
       "      <th>Churn</th>\n",
       "      <td>0.642651</td>\n",
       "      <td>0.596257</td>\n",
       "      <td>0.618585</td>\n",
       "      <td>374.000000</td>\n",
       "    </tr>\n",
       "    <tr>\n",
       "      <th>accuracy</th>\n",
       "      <td>0.804826</td>\n",
       "      <td>0.804826</td>\n",
       "      <td>0.804826</td>\n",
       "      <td>0.804826</td>\n",
       "    </tr>\n",
       "    <tr>\n",
       "      <th>macro avg</th>\n",
       "      <td>0.750233</td>\n",
       "      <td>0.738225</td>\n",
       "      <td>0.743723</td>\n",
       "      <td>1409.000000</td>\n",
       "    </tr>\n",
       "    <tr>\n",
       "      <th>weighted avg</th>\n",
       "      <td>0.800703</td>\n",
       "      <td>0.804826</td>\n",
       "      <td>0.802428</td>\n",
       "      <td>1409.000000</td>\n",
       "    </tr>\n",
       "  </tbody>\n",
       "</table>\n",
       "</div>"
      ],
      "text/plain": [
       "              precision    recall  f1-score      support\n",
       "No Churn       0.857815  0.880193  0.868860  1035.000000\n",
       "Churn          0.642651  0.596257  0.618585   374.000000\n",
       "accuracy       0.804826  0.804826  0.804826     0.804826\n",
       "macro avg      0.750233  0.738225  0.743723  1409.000000\n",
       "weighted avg   0.800703  0.804826  0.802428  1409.000000"
      ]
     },
     "metadata": {},
     "output_type": "display_data"
    }
   ],
   "source": [
    "model_func.model_performs(X_test[columns], y_test, model_lr1)"
   ]
  },
  {
   "cell_type": "markdown",
   "metadata": {},
   "source": []
  },
  {
   "cell_type": "markdown",
   "metadata": {},
   "source": [
    "## Plan -> Acquire -> Prepare  -> Explore -> Model -> <font color=green>Deliver"
   ]
  },
  {
   "cell_type": "code",
   "execution_count": 38,
   "metadata": {},
   "outputs": [],
   "source": [
    "### Create the Predictions CSV"
   ]
  },
  {
   "cell_type": "code",
   "execution_count": 39,
   "metadata": {},
   "outputs": [
    {
     "data": {
      "text/html": [
       "<div>\n",
       "<style scoped>\n",
       "    .dataframe tbody tr th:only-of-type {\n",
       "        vertical-align: middle;\n",
       "    }\n",
       "\n",
       "    .dataframe tbody tr th {\n",
       "        vertical-align: top;\n",
       "    }\n",
       "\n",
       "    .dataframe thead th {\n",
       "        text-align: right;\n",
       "    }\n",
       "</style>\n",
       "<table border=\"1\" class=\"dataframe\">\n",
       "  <thead>\n",
       "    <tr style=\"text-align: right;\">\n",
       "      <th></th>\n",
       "      <th>churn_prob</th>\n",
       "    </tr>\n",
       "  </thead>\n",
       "  <tbody>\n",
       "    <tr>\n",
       "      <th>0</th>\n",
       "      <td>0.044263</td>\n",
       "    </tr>\n",
       "    <tr>\n",
       "      <th>1</th>\n",
       "      <td>0.429395</td>\n",
       "    </tr>\n",
       "    <tr>\n",
       "      <th>2</th>\n",
       "      <td>0.155935</td>\n",
       "    </tr>\n",
       "    <tr>\n",
       "      <th>3</th>\n",
       "      <td>0.198863</td>\n",
       "    </tr>\n",
       "    <tr>\n",
       "      <th>4</th>\n",
       "      <td>0.437662</td>\n",
       "    </tr>\n",
       "  </tbody>\n",
       "</table>\n",
       "</div>"
      ],
      "text/plain": [
       "   churn_prob\n",
       "0    0.044263\n",
       "1    0.429395\n",
       "2    0.155935\n",
       "3    0.198863\n",
       "4    0.437662"
      ]
     },
     "execution_count": 39,
     "metadata": {},
     "output_type": "execute_result"
    }
   ],
   "source": [
    "#get probability\n",
    "proba_test = model_lr1.predict_proba(X_test[columns])\n",
    "#convert it into a df\n",
    "prob_df = pd.DataFrame(proba_test, columns =['no_churn', 'churn_prob'])\n",
    "#dropping one column\n",
    "prob_df.drop(columns= 'no_churn',inplace =True)\n",
    "prob_df.head()"
   ]
  },
  {
   "cell_type": "code",
   "execution_count": 40,
   "metadata": {},
   "outputs": [
    {
     "data": {
      "text/html": [
       "<div>\n",
       "<style scoped>\n",
       "    .dataframe tbody tr th:only-of-type {\n",
       "        vertical-align: middle;\n",
       "    }\n",
       "\n",
       "    .dataframe tbody tr th {\n",
       "        vertical-align: top;\n",
       "    }\n",
       "\n",
       "    .dataframe thead th {\n",
       "        text-align: right;\n",
       "    }\n",
       "</style>\n",
       "<table border=\"1\" class=\"dataframe\">\n",
       "  <thead>\n",
       "    <tr style=\"text-align: right;\">\n",
       "      <th></th>\n",
       "      <th>customer_id</th>\n",
       "    </tr>\n",
       "  </thead>\n",
       "  <tbody>\n",
       "    <tr>\n",
       "      <th>0</th>\n",
       "      <td>8670-ERCJH</td>\n",
       "    </tr>\n",
       "    <tr>\n",
       "      <th>1</th>\n",
       "      <td>0356-ERHVT</td>\n",
       "    </tr>\n",
       "    <tr>\n",
       "      <th>2</th>\n",
       "      <td>4786-UKSNZ</td>\n",
       "    </tr>\n",
       "    <tr>\n",
       "      <th>3</th>\n",
       "      <td>5945-AZYHT</td>\n",
       "    </tr>\n",
       "    <tr>\n",
       "      <th>4</th>\n",
       "      <td>4432-ADRLB</td>\n",
       "    </tr>\n",
       "  </tbody>\n",
       "</table>\n",
       "</div>"
      ],
      "text/plain": [
       "  customer_id\n",
       "0  8670-ERCJH\n",
       "1  0356-ERHVT\n",
       "2  4786-UKSNZ\n",
       "3  5945-AZYHT\n",
       "4  4432-ADRLB"
      ]
     },
     "execution_count": 40,
     "metadata": {},
     "output_type": "execute_result"
    }
   ],
   "source": [
    "#reset index to concat in test df (getting only the customer_id)\n",
    "reset_test = test['customer_id'].reset_index()\n",
    "#dropping index column\n",
    "reset_test.drop(columns='index', inplace=True)\n",
    "reset_test.head()"
   ]
  },
  {
   "cell_type": "code",
   "execution_count": 41,
   "metadata": {},
   "outputs": [],
   "source": [
    "#concat the two df\n",
    "test_proba_df = pd.concat([reset_test, prob_df], axis=1)"
   ]
  },
  {
   "cell_type": "code",
   "execution_count": 42,
   "metadata": {},
   "outputs": [
    {
     "data": {
      "text/html": [
       "<div>\n",
       "<style scoped>\n",
       "    .dataframe tbody tr th:only-of-type {\n",
       "        vertical-align: middle;\n",
       "    }\n",
       "\n",
       "    .dataframe tbody tr th {\n",
       "        vertical-align: top;\n",
       "    }\n",
       "\n",
       "    .dataframe thead th {\n",
       "        text-align: right;\n",
       "    }\n",
       "</style>\n",
       "<table border=\"1\" class=\"dataframe\">\n",
       "  <thead>\n",
       "    <tr style=\"text-align: right;\">\n",
       "      <th></th>\n",
       "      <th>customer_id</th>\n",
       "      <th>churn_prob</th>\n",
       "      <th>predicted</th>\n",
       "    </tr>\n",
       "  </thead>\n",
       "  <tbody>\n",
       "    <tr>\n",
       "      <th>0</th>\n",
       "      <td>8670-ERCJH</td>\n",
       "      <td>0.044263</td>\n",
       "      <td>0</td>\n",
       "    </tr>\n",
       "    <tr>\n",
       "      <th>1</th>\n",
       "      <td>0356-ERHVT</td>\n",
       "      <td>0.429395</td>\n",
       "      <td>0</td>\n",
       "    </tr>\n",
       "    <tr>\n",
       "      <th>2</th>\n",
       "      <td>4786-UKSNZ</td>\n",
       "      <td>0.155935</td>\n",
       "      <td>0</td>\n",
       "    </tr>\n",
       "    <tr>\n",
       "      <th>3</th>\n",
       "      <td>5945-AZYHT</td>\n",
       "      <td>0.198863</td>\n",
       "      <td>0</td>\n",
       "    </tr>\n",
       "    <tr>\n",
       "      <th>4</th>\n",
       "      <td>4432-ADRLB</td>\n",
       "      <td>0.437662</td>\n",
       "      <td>0</td>\n",
       "    </tr>\n",
       "  </tbody>\n",
       "</table>\n",
       "</div>"
      ],
      "text/plain": [
       "  customer_id  churn_prob  predicted\n",
       "0  8670-ERCJH    0.044263          0\n",
       "1  0356-ERHVT    0.429395          0\n",
       "2  4786-UKSNZ    0.155935          0\n",
       "3  5945-AZYHT    0.198863          0\n",
       "4  4432-ADRLB    0.437662          0"
      ]
     },
     "execution_count": 42,
     "metadata": {},
     "output_type": "execute_result"
    }
   ],
   "source": [
    "# calculate predictions\n",
    "pred1 = model_lr1.predict(X_test[columns])\n",
    "#add my prediction to the  test_proba_df\n",
    "test_proba_df['predicted'] = pred1\n",
    "test_proba_df.head()"
   ]
  },
  {
   "cell_type": "code",
   "execution_count": 43,
   "metadata": {},
   "outputs": [],
   "source": [
    "# Write DataFrame to a csv file for deliverable.\n",
    "\n",
    "test_proba_df.to_csv('predictions.csv')"
   ]
  },
  {
   "cell_type": "markdown",
   "metadata": {},
   "source": [
    "<div class=\"alert alert-block alert-info\">\n",
    "<b>Conclusion and Next Steps:</b>\n",
    "    \n",
    "- The customers who canceled in the first month of service also have something in common: more than 50 % used electronic checks (not autopay option) and paperless billing.  \n",
    "- We can make a recommendation based on the first months of tenure, paperless billing with any auto payment option. (change electronic check to auto payment option)\n",
    "- With more time:\n",
    "    - I would include more features (or create an option to select some features) in my report functions, create tables so it can be easy to compare.\n",
    "    - I would like to check why customers with fiber optic are canceled more than DSL \n",
    "    "
   ]
  },
  {
   "cell_type": "code",
   "execution_count": null,
   "metadata": {},
   "outputs": [],
   "source": []
  }
 ],
 "metadata": {
  "kernelspec": {
   "display_name": "Python 3",
   "language": "python",
   "name": "python3"
  },
  "language_info": {
   "codemirror_mode": {
    "name": "ipython",
    "version": 3
   },
   "file_extension": ".py",
   "mimetype": "text/x-python",
   "name": "python",
   "nbconvert_exporter": "python",
   "pygments_lexer": "ipython3",
   "version": "3.8.5"
  }
 },
 "nbformat": 4,
 "nbformat_minor": 4
}
