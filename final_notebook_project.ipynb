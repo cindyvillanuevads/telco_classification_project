{
 "cells": [
  {
   "cell_type": "markdown",
   "metadata": {},
   "source": [
    "# Import"
   ]
  },
  {
   "cell_type": "code",
   "execution_count": 5,
   "metadata": {},
   "outputs": [],
   "source": [
    "import pandas as pd\n",
    "import numpy as np\n",
    "import os\n",
    "import scipy.stats as stats\n",
    "# visualize\n",
    "import seaborn as sns\n",
    "import matplotlib.pyplot as plt\n",
    "\n",
    "# turn off pink warning boxes\n",
    "import warnings\n",
    "warnings.filterwarnings(\"ignore\")\n",
    "\n",
    "#import my modules\n",
    "import prepare\n",
    "import acquire\n",
    "import model_func as mf\n",
    "\n",
    "\n",
    "# for preparation state\n",
    "from sklearn.model_selection import train_test_split\n",
    "\n",
    "from sklearn.ensemble import RandomForestClassifier\n",
    "from sklearn.neighbors import KNeighborsClassifier\n",
    "from sklearn.linear_model import LogisticRegression\n",
    "from sklearn.tree import DecisionTreeClassifier, plot_tree, export_text\n",
    "from sklearn.dummy import DummyClassifier\n",
    "from sklearn.metrics import classification_report"
   ]
  },
  {
   "cell_type": "markdown",
   "metadata": {},
   "source": [
    "## <font color=green>Plan <font color=black>-> Acquire -> Prepare -> Explore -> Model -> Deliver"
   ]
  },
  {
   "cell_type": "markdown",
   "metadata": {},
   "source": [
    "### Business Goals\n",
    "- Find drivers for customer churn at Telco.\n",
    "\n",
    "- Construct a ML classification model that accurately predicts customer churn.\n",
    "\n",
    "- Document your process well enough to be presented or read like a report"
   ]
  },
  {
   "cell_type": "markdown",
   "metadata": {},
   "source": [
    "## Summary:\n"
   ]
  },
  {
   "cell_type": "markdown",
   "metadata": {},
   "source": [
    "## Deliver:\n",
    "- a Jupyter Notebook Report showing process and analysis with goal of finding drivers for customer churn.\n",
    "- a README.md file containing project description with goals, a data dictionary, project planning (lay out your process through the data science pipeline), instructions or an explanation of how someone else can recreate your project and findings (What would someone need to be able to recreate your project on their own?), and key findings and takeaways from your project.\n",
    "- a CSV file with customer_id, probability of churn, and prediction of churn. (1=churn, 0=not_churn)\n",
    "- individual modules, .py files, that hold your functions to acquire and prepare your data."
   ]
  },
  {
   "cell_type": "markdown",
   "metadata": {},
   "source": [
    "## Plan -><font color=green> Acquire -> <font color=black>Prepare -> Explore -> Model -> Deliver"
   ]
  },
  {
   "cell_type": "code",
   "execution_count": 6,
   "metadata": {},
   "outputs": [],
   "source": [
    "#acquire data from  MySQL db\n",
    "#using my function to acquire data\n",
    "df = acquire.get_telco_churn()"
   ]
  },
  {
   "cell_type": "code",
   "execution_count": 7,
   "metadata": {},
   "outputs": [
    {
     "data": {
      "text/html": [
       "<div>\n",
       "<style scoped>\n",
       "    .dataframe tbody tr th:only-of-type {\n",
       "        vertical-align: middle;\n",
       "    }\n",
       "\n",
       "    .dataframe tbody tr th {\n",
       "        vertical-align: top;\n",
       "    }\n",
       "\n",
       "    .dataframe thead th {\n",
       "        text-align: right;\n",
       "    }\n",
       "</style>\n",
       "<table border=\"1\" class=\"dataframe\">\n",
       "  <thead>\n",
       "    <tr style=\"text-align: right;\">\n",
       "      <th></th>\n",
       "      <th>payment_type_id</th>\n",
       "      <th>internet_service_type_id</th>\n",
       "      <th>contract_type_id</th>\n",
       "      <th>customer_id</th>\n",
       "      <th>gender</th>\n",
       "      <th>senior_citizen</th>\n",
       "      <th>partner</th>\n",
       "      <th>dependents</th>\n",
       "      <th>tenure</th>\n",
       "      <th>phone_service</th>\n",
       "      <th>...</th>\n",
       "      <th>tech_support</th>\n",
       "      <th>streaming_tv</th>\n",
       "      <th>streaming_movies</th>\n",
       "      <th>paperless_billing</th>\n",
       "      <th>monthly_charges</th>\n",
       "      <th>total_charges</th>\n",
       "      <th>churn</th>\n",
       "      <th>contract_type</th>\n",
       "      <th>internet_service_type</th>\n",
       "      <th>payment_type</th>\n",
       "    </tr>\n",
       "  </thead>\n",
       "  <tbody>\n",
       "    <tr>\n",
       "      <th>0</th>\n",
       "      <td>2</td>\n",
       "      <td>1</td>\n",
       "      <td>3</td>\n",
       "      <td>0016-QLJIS</td>\n",
       "      <td>Female</td>\n",
       "      <td>0</td>\n",
       "      <td>Yes</td>\n",
       "      <td>Yes</td>\n",
       "      <td>65</td>\n",
       "      <td>Yes</td>\n",
       "      <td>...</td>\n",
       "      <td>Yes</td>\n",
       "      <td>Yes</td>\n",
       "      <td>Yes</td>\n",
       "      <td>Yes</td>\n",
       "      <td>90.45</td>\n",
       "      <td>5957.9</td>\n",
       "      <td>No</td>\n",
       "      <td>Two year</td>\n",
       "      <td>DSL</td>\n",
       "      <td>Mailed check</td>\n",
       "    </tr>\n",
       "    <tr>\n",
       "      <th>1</th>\n",
       "      <td>4</td>\n",
       "      <td>1</td>\n",
       "      <td>3</td>\n",
       "      <td>0017-DINOC</td>\n",
       "      <td>Male</td>\n",
       "      <td>0</td>\n",
       "      <td>No</td>\n",
       "      <td>No</td>\n",
       "      <td>54</td>\n",
       "      <td>No</td>\n",
       "      <td>...</td>\n",
       "      <td>Yes</td>\n",
       "      <td>Yes</td>\n",
       "      <td>No</td>\n",
       "      <td>No</td>\n",
       "      <td>45.20</td>\n",
       "      <td>2460.55</td>\n",
       "      <td>No</td>\n",
       "      <td>Two year</td>\n",
       "      <td>DSL</td>\n",
       "      <td>Credit card (automatic)</td>\n",
       "    </tr>\n",
       "    <tr>\n",
       "      <th>2</th>\n",
       "      <td>3</td>\n",
       "      <td>1</td>\n",
       "      <td>3</td>\n",
       "      <td>0019-GFNTW</td>\n",
       "      <td>Female</td>\n",
       "      <td>0</td>\n",
       "      <td>No</td>\n",
       "      <td>No</td>\n",
       "      <td>56</td>\n",
       "      <td>No</td>\n",
       "      <td>...</td>\n",
       "      <td>Yes</td>\n",
       "      <td>No</td>\n",
       "      <td>No</td>\n",
       "      <td>No</td>\n",
       "      <td>45.05</td>\n",
       "      <td>2560.1</td>\n",
       "      <td>No</td>\n",
       "      <td>Two year</td>\n",
       "      <td>DSL</td>\n",
       "      <td>Bank transfer (automatic)</td>\n",
       "    </tr>\n",
       "    <tr>\n",
       "      <th>3</th>\n",
       "      <td>4</td>\n",
       "      <td>1</td>\n",
       "      <td>3</td>\n",
       "      <td>0056-EPFBG</td>\n",
       "      <td>Male</td>\n",
       "      <td>0</td>\n",
       "      <td>Yes</td>\n",
       "      <td>Yes</td>\n",
       "      <td>20</td>\n",
       "      <td>No</td>\n",
       "      <td>...</td>\n",
       "      <td>Yes</td>\n",
       "      <td>No</td>\n",
       "      <td>No</td>\n",
       "      <td>Yes</td>\n",
       "      <td>39.40</td>\n",
       "      <td>825.4</td>\n",
       "      <td>No</td>\n",
       "      <td>Two year</td>\n",
       "      <td>DSL</td>\n",
       "      <td>Credit card (automatic)</td>\n",
       "    </tr>\n",
       "    <tr>\n",
       "      <th>4</th>\n",
       "      <td>3</td>\n",
       "      <td>1</td>\n",
       "      <td>3</td>\n",
       "      <td>0078-XZMHT</td>\n",
       "      <td>Male</td>\n",
       "      <td>0</td>\n",
       "      <td>Yes</td>\n",
       "      <td>No</td>\n",
       "      <td>72</td>\n",
       "      <td>Yes</td>\n",
       "      <td>...</td>\n",
       "      <td>Yes</td>\n",
       "      <td>Yes</td>\n",
       "      <td>Yes</td>\n",
       "      <td>Yes</td>\n",
       "      <td>85.15</td>\n",
       "      <td>6316.2</td>\n",
       "      <td>No</td>\n",
       "      <td>Two year</td>\n",
       "      <td>DSL</td>\n",
       "      <td>Bank transfer (automatic)</td>\n",
       "    </tr>\n",
       "  </tbody>\n",
       "</table>\n",
       "<p>5 rows × 24 columns</p>\n",
       "</div>"
      ],
      "text/plain": [
       "   payment_type_id  internet_service_type_id  contract_type_id customer_id  \\\n",
       "0                2                         1                 3  0016-QLJIS   \n",
       "1                4                         1                 3  0017-DINOC   \n",
       "2                3                         1                 3  0019-GFNTW   \n",
       "3                4                         1                 3  0056-EPFBG   \n",
       "4                3                         1                 3  0078-XZMHT   \n",
       "\n",
       "   gender  senior_citizen partner dependents  tenure phone_service  ...  \\\n",
       "0  Female               0     Yes        Yes      65           Yes  ...   \n",
       "1    Male               0      No         No      54            No  ...   \n",
       "2  Female               0      No         No      56            No  ...   \n",
       "3    Male               0     Yes        Yes      20            No  ...   \n",
       "4    Male               0     Yes         No      72           Yes  ...   \n",
       "\n",
       "  tech_support streaming_tv streaming_movies paperless_billing  \\\n",
       "0          Yes          Yes              Yes               Yes   \n",
       "1          Yes          Yes               No                No   \n",
       "2          Yes           No               No                No   \n",
       "3          Yes           No               No               Yes   \n",
       "4          Yes          Yes              Yes               Yes   \n",
       "\n",
       "  monthly_charges total_charges churn contract_type  internet_service_type  \\\n",
       "0           90.45        5957.9    No      Two year                    DSL   \n",
       "1           45.20       2460.55    No      Two year                    DSL   \n",
       "2           45.05        2560.1    No      Two year                    DSL   \n",
       "3           39.40         825.4    No      Two year                    DSL   \n",
       "4           85.15        6316.2    No      Two year                    DSL   \n",
       "\n",
       "                payment_type  \n",
       "0               Mailed check  \n",
       "1    Credit card (automatic)  \n",
       "2  Bank transfer (automatic)  \n",
       "3    Credit card (automatic)  \n",
       "4  Bank transfer (automatic)  \n",
       "\n",
       "[5 rows x 24 columns]"
      ]
     },
     "execution_count": 7,
     "metadata": {},
     "output_type": "execute_result"
    }
   ],
   "source": [
    "#check the acuired df\n",
    "df.head()"
   ]
  },
  {
   "cell_type": "code",
   "execution_count": 8,
   "metadata": {},
   "outputs": [
    {
     "data": {
      "text/plain": [
       "(7043, 24)"
      ]
     },
     "execution_count": 8,
     "metadata": {},
     "output_type": "execute_result"
    }
   ],
   "source": [
    "#check how many rows and columns \n",
    "df.shape"
   ]
  },
  {
   "cell_type": "code",
   "execution_count": 9,
   "metadata": {},
   "outputs": [
    {
     "name": "stdout",
     "output_type": "stream",
     "text": [
      "<class 'pandas.core.frame.DataFrame'>\n",
      "Int64Index: 7043 entries, 0 to 7042\n",
      "Data columns (total 24 columns):\n",
      " #   Column                    Non-Null Count  Dtype  \n",
      "---  ------                    --------------  -----  \n",
      " 0   payment_type_id           7043 non-null   int64  \n",
      " 1   internet_service_type_id  7043 non-null   int64  \n",
      " 2   contract_type_id          7043 non-null   int64  \n",
      " 3   customer_id               7043 non-null   object \n",
      " 4   gender                    7043 non-null   object \n",
      " 5   senior_citizen            7043 non-null   int64  \n",
      " 6   partner                   7043 non-null   object \n",
      " 7   dependents                7043 non-null   object \n",
      " 8   tenure                    7043 non-null   int64  \n",
      " 9   phone_service             7043 non-null   object \n",
      " 10  multiple_lines            7043 non-null   object \n",
      " 11  online_security           7043 non-null   object \n",
      " 12  online_backup             7043 non-null   object \n",
      " 13  device_protection         7043 non-null   object \n",
      " 14  tech_support              7043 non-null   object \n",
      " 15  streaming_tv              7043 non-null   object \n",
      " 16  streaming_movies          7043 non-null   object \n",
      " 17  paperless_billing         7043 non-null   object \n",
      " 18  monthly_charges           7043 non-null   float64\n",
      " 19  total_charges             7043 non-null   object \n",
      " 20  churn                     7043 non-null   object \n",
      " 21  contract_type             7043 non-null   object \n",
      " 22  internet_service_type     7043 non-null   object \n",
      " 23  payment_type              7043 non-null   object \n",
      "dtypes: float64(1), int64(5), object(18)\n",
      "memory usage: 1.3+ MB\n"
     ]
    }
   ],
   "source": [
    "# check the columns, type of columns and nulls\n",
    "df.info()"
   ]
  },
  {
   "cell_type": "code",
   "execution_count": null,
   "metadata": {},
   "outputs": [],
   "source": [
    "#checking the type of  the columns. I notice total_charges is an object type"
   ]
  }
 ],
 "metadata": {
  "kernelspec": {
   "display_name": "Python 3",
   "language": "python",
   "name": "python3"
  },
  "language_info": {
   "codemirror_mode": {
    "name": "ipython",
    "version": 3
   },
   "file_extension": ".py",
   "mimetype": "text/x-python",
   "name": "python",
   "nbconvert_exporter": "python",
   "pygments_lexer": "ipython3",
   "version": "3.8.5"
  }
 },
 "nbformat": 4,
 "nbformat_minor": 4
}
