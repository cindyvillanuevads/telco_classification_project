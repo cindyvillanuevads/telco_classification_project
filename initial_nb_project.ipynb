{
 "cells": [
  {
   "cell_type": "code",
   "execution_count": 66,
   "metadata": {},
   "outputs": [],
   "source": [
    "import pandas as pd\n",
    "import numpy as np\n",
    "import os\n",
    "\n",
    "# visualize\n",
    "import seaborn as sns\n",
    "import matplotlib.pyplot as plt\n",
    "\n",
    "# turn off pink warning boxes\n",
    "import warnings\n",
    "warnings.filterwarnings(\"ignore\")\n",
    "\n",
    "# acquire\n",
    "from pydataset import data\n",
    "# for preparation state\n",
    "from sklearn.model_selection import train_test_split"
   ]
  },
  {
   "cell_type": "code",
   "execution_count": 67,
   "metadata": {},
   "outputs": [],
   "source": [
    "# *************************************  connection url **********************************************\n",
    "\n",
    "# Create helper function to get the necessary connection url.\n",
    "def get_connection(db_name):\n",
    "    '''\n",
    "    This function uses my info from my env file to\n",
    "    create a connection url to access the Codeup db.\n",
    "    '''\n",
    "    from env import host, username, password\n",
    "    return f'mysql+pymysql://{username}:{password}@{host}/{db_name}'\n"
   ]
  },
  {
   "cell_type": "code",
   "execution_count": 68,
   "metadata": {},
   "outputs": [],
   "source": [
    "# acquire data"
   ]
  },
  {
   "cell_type": "code",
   "execution_count": 69,
   "metadata": {},
   "outputs": [],
   "source": [
    "#acquire data for the first time\n",
    "def get_new_telco_churn():\n",
    "    '''\n",
    "    This function reads in the telco_churn data from the Codeup db\n",
    "    and returns a pandas DataFrame with all columns and joined with other tables.\n",
    "    '''\n",
    "    sql_query = '''\n",
    "    SELECT * FROM customers\n",
    "    JOIN contract_types USING (contract_type_id)\n",
    "    JOIN internet_service_types USING (internet_service_type_id)\n",
    "    JOIN payment_types USING (payment_type_id)\n",
    "    '''\n",
    "    return pd.read_sql(sql_query, get_connection('telco_churn'))\n"
   ]
  },
  {
   "cell_type": "code",
   "execution_count": 70,
   "metadata": {},
   "outputs": [],
   "source": [
    "#acquire data \n",
    "def get_telco_churn():\n",
    "    '''\n",
    "    This function reads in telco_churn data from Codeup database, writes data to\n",
    "    a csv file if a local file does not exist, and returns a df.\n",
    "    '''\n",
    "    if os.path.isfile('telco_churn.csv'):\n",
    "        \n",
    "        # If csv file exists, read in data from csv file.\n",
    "        df = pd.read_csv('telco_churn.csv', index_col=0)\n",
    "        \n",
    "    else:\n",
    "        \n",
    "        # Read fresh data from db into a DataFrame.\n",
    "        df = get_new_telco_churn()\n",
    "        \n",
    "        # Write DataFrame to a csv file.\n",
    "        df.to_csv('telco_churn.csv')\n",
    "        \n",
    "    return df"
   ]
  },
  {
   "cell_type": "code",
   "execution_count": 71,
   "metadata": {},
   "outputs": [],
   "source": [
    "#acquire data with my function\n",
    "df= get_telco_churn()"
   ]
  },
  {
   "cell_type": "code",
   "execution_count": 72,
   "metadata": {},
   "outputs": [
    {
     "data": {
      "text/html": [
       "<div>\n",
       "<style scoped>\n",
       "    .dataframe tbody tr th:only-of-type {\n",
       "        vertical-align: middle;\n",
       "    }\n",
       "\n",
       "    .dataframe tbody tr th {\n",
       "        vertical-align: top;\n",
       "    }\n",
       "\n",
       "    .dataframe thead th {\n",
       "        text-align: right;\n",
       "    }\n",
       "</style>\n",
       "<table border=\"1\" class=\"dataframe\">\n",
       "  <thead>\n",
       "    <tr style=\"text-align: right;\">\n",
       "      <th></th>\n",
       "      <th>payment_type_id</th>\n",
       "      <th>internet_service_type_id</th>\n",
       "      <th>contract_type_id</th>\n",
       "      <th>customer_id</th>\n",
       "      <th>gender</th>\n",
       "      <th>senior_citizen</th>\n",
       "      <th>partner</th>\n",
       "      <th>dependents</th>\n",
       "      <th>tenure</th>\n",
       "      <th>phone_service</th>\n",
       "      <th>...</th>\n",
       "      <th>tech_support</th>\n",
       "      <th>streaming_tv</th>\n",
       "      <th>streaming_movies</th>\n",
       "      <th>paperless_billing</th>\n",
       "      <th>monthly_charges</th>\n",
       "      <th>total_charges</th>\n",
       "      <th>churn</th>\n",
       "      <th>contract_type</th>\n",
       "      <th>internet_service_type</th>\n",
       "      <th>payment_type</th>\n",
       "    </tr>\n",
       "  </thead>\n",
       "  <tbody>\n",
       "    <tr>\n",
       "      <th>0</th>\n",
       "      <td>2</td>\n",
       "      <td>1</td>\n",
       "      <td>3</td>\n",
       "      <td>0016-QLJIS</td>\n",
       "      <td>Female</td>\n",
       "      <td>0</td>\n",
       "      <td>Yes</td>\n",
       "      <td>Yes</td>\n",
       "      <td>65</td>\n",
       "      <td>Yes</td>\n",
       "      <td>...</td>\n",
       "      <td>Yes</td>\n",
       "      <td>Yes</td>\n",
       "      <td>Yes</td>\n",
       "      <td>Yes</td>\n",
       "      <td>90.45</td>\n",
       "      <td>5957.9</td>\n",
       "      <td>No</td>\n",
       "      <td>Two year</td>\n",
       "      <td>DSL</td>\n",
       "      <td>Mailed check</td>\n",
       "    </tr>\n",
       "    <tr>\n",
       "      <th>1</th>\n",
       "      <td>4</td>\n",
       "      <td>1</td>\n",
       "      <td>3</td>\n",
       "      <td>0017-DINOC</td>\n",
       "      <td>Male</td>\n",
       "      <td>0</td>\n",
       "      <td>No</td>\n",
       "      <td>No</td>\n",
       "      <td>54</td>\n",
       "      <td>No</td>\n",
       "      <td>...</td>\n",
       "      <td>Yes</td>\n",
       "      <td>Yes</td>\n",
       "      <td>No</td>\n",
       "      <td>No</td>\n",
       "      <td>45.20</td>\n",
       "      <td>2460.55</td>\n",
       "      <td>No</td>\n",
       "      <td>Two year</td>\n",
       "      <td>DSL</td>\n",
       "      <td>Credit card (automatic)</td>\n",
       "    </tr>\n",
       "    <tr>\n",
       "      <th>2</th>\n",
       "      <td>3</td>\n",
       "      <td>1</td>\n",
       "      <td>3</td>\n",
       "      <td>0019-GFNTW</td>\n",
       "      <td>Female</td>\n",
       "      <td>0</td>\n",
       "      <td>No</td>\n",
       "      <td>No</td>\n",
       "      <td>56</td>\n",
       "      <td>No</td>\n",
       "      <td>...</td>\n",
       "      <td>Yes</td>\n",
       "      <td>No</td>\n",
       "      <td>No</td>\n",
       "      <td>No</td>\n",
       "      <td>45.05</td>\n",
       "      <td>2560.1</td>\n",
       "      <td>No</td>\n",
       "      <td>Two year</td>\n",
       "      <td>DSL</td>\n",
       "      <td>Bank transfer (automatic)</td>\n",
       "    </tr>\n",
       "    <tr>\n",
       "      <th>3</th>\n",
       "      <td>4</td>\n",
       "      <td>1</td>\n",
       "      <td>3</td>\n",
       "      <td>0056-EPFBG</td>\n",
       "      <td>Male</td>\n",
       "      <td>0</td>\n",
       "      <td>Yes</td>\n",
       "      <td>Yes</td>\n",
       "      <td>20</td>\n",
       "      <td>No</td>\n",
       "      <td>...</td>\n",
       "      <td>Yes</td>\n",
       "      <td>No</td>\n",
       "      <td>No</td>\n",
       "      <td>Yes</td>\n",
       "      <td>39.40</td>\n",
       "      <td>825.4</td>\n",
       "      <td>No</td>\n",
       "      <td>Two year</td>\n",
       "      <td>DSL</td>\n",
       "      <td>Credit card (automatic)</td>\n",
       "    </tr>\n",
       "    <tr>\n",
       "      <th>4</th>\n",
       "      <td>3</td>\n",
       "      <td>1</td>\n",
       "      <td>3</td>\n",
       "      <td>0078-XZMHT</td>\n",
       "      <td>Male</td>\n",
       "      <td>0</td>\n",
       "      <td>Yes</td>\n",
       "      <td>No</td>\n",
       "      <td>72</td>\n",
       "      <td>Yes</td>\n",
       "      <td>...</td>\n",
       "      <td>Yes</td>\n",
       "      <td>Yes</td>\n",
       "      <td>Yes</td>\n",
       "      <td>Yes</td>\n",
       "      <td>85.15</td>\n",
       "      <td>6316.2</td>\n",
       "      <td>No</td>\n",
       "      <td>Two year</td>\n",
       "      <td>DSL</td>\n",
       "      <td>Bank transfer (automatic)</td>\n",
       "    </tr>\n",
       "  </tbody>\n",
       "</table>\n",
       "<p>5 rows × 24 columns</p>\n",
       "</div>"
      ],
      "text/plain": [
       "   payment_type_id  internet_service_type_id  contract_type_id customer_id  \\\n",
       "0                2                         1                 3  0016-QLJIS   \n",
       "1                4                         1                 3  0017-DINOC   \n",
       "2                3                         1                 3  0019-GFNTW   \n",
       "3                4                         1                 3  0056-EPFBG   \n",
       "4                3                         1                 3  0078-XZMHT   \n",
       "\n",
       "   gender  senior_citizen partner dependents  tenure phone_service  ...  \\\n",
       "0  Female               0     Yes        Yes      65           Yes  ...   \n",
       "1    Male               0      No         No      54            No  ...   \n",
       "2  Female               0      No         No      56            No  ...   \n",
       "3    Male               0     Yes        Yes      20            No  ...   \n",
       "4    Male               0     Yes         No      72           Yes  ...   \n",
       "\n",
       "  tech_support streaming_tv streaming_movies paperless_billing  \\\n",
       "0          Yes          Yes              Yes               Yes   \n",
       "1          Yes          Yes               No                No   \n",
       "2          Yes           No               No                No   \n",
       "3          Yes           No               No               Yes   \n",
       "4          Yes          Yes              Yes               Yes   \n",
       "\n",
       "  monthly_charges total_charges churn contract_type  internet_service_type  \\\n",
       "0           90.45        5957.9    No      Two year                    DSL   \n",
       "1           45.20       2460.55    No      Two year                    DSL   \n",
       "2           45.05        2560.1    No      Two year                    DSL   \n",
       "3           39.40         825.4    No      Two year                    DSL   \n",
       "4           85.15        6316.2    No      Two year                    DSL   \n",
       "\n",
       "                payment_type  \n",
       "0               Mailed check  \n",
       "1    Credit card (automatic)  \n",
       "2  Bank transfer (automatic)  \n",
       "3    Credit card (automatic)  \n",
       "4  Bank transfer (automatic)  \n",
       "\n",
       "[5 rows x 24 columns]"
      ]
     },
     "execution_count": 72,
     "metadata": {},
     "output_type": "execute_result"
    }
   ],
   "source": [
    "# check the information before preparation process\n",
    "df.head()"
   ]
  },
  {
   "cell_type": "code",
   "execution_count": 73,
   "metadata": {
    "scrolled": true
   },
   "outputs": [
    {
     "data": {
      "text/plain": [
       "(7043, 24)"
      ]
     },
     "execution_count": 73,
     "metadata": {},
     "output_type": "execute_result"
    }
   ],
   "source": [
    "df.shape"
   ]
  },
  {
   "cell_type": "markdown",
   "metadata": {},
   "source": [
    "# preparation "
   ]
  },
  {
   "cell_type": "code",
   "execution_count": 74,
   "metadata": {
    "scrolled": false
   },
   "outputs": [
    {
     "name": "stdout",
     "output_type": "stream",
     "text": [
      "<class 'pandas.core.frame.DataFrame'>\n",
      "Int64Index: 7043 entries, 0 to 7042\n",
      "Data columns (total 24 columns):\n",
      " #   Column                    Non-Null Count  Dtype  \n",
      "---  ------                    --------------  -----  \n",
      " 0   payment_type_id           7043 non-null   int64  \n",
      " 1   internet_service_type_id  7043 non-null   int64  \n",
      " 2   contract_type_id          7043 non-null   int64  \n",
      " 3   customer_id               7043 non-null   object \n",
      " 4   gender                    7043 non-null   object \n",
      " 5   senior_citizen            7043 non-null   int64  \n",
      " 6   partner                   7043 non-null   object \n",
      " 7   dependents                7043 non-null   object \n",
      " 8   tenure                    7043 non-null   int64  \n",
      " 9   phone_service             7043 non-null   object \n",
      " 10  multiple_lines            7043 non-null   object \n",
      " 11  online_security           7043 non-null   object \n",
      " 12  online_backup             7043 non-null   object \n",
      " 13  device_protection         7043 non-null   object \n",
      " 14  tech_support              7043 non-null   object \n",
      " 15  streaming_tv              7043 non-null   object \n",
      " 16  streaming_movies          7043 non-null   object \n",
      " 17  paperless_billing         7043 non-null   object \n",
      " 18  monthly_charges           7043 non-null   float64\n",
      " 19  total_charges             7043 non-null   object \n",
      " 20  churn                     7043 non-null   object \n",
      " 21  contract_type             7043 non-null   object \n",
      " 22  internet_service_type     7043 non-null   object \n",
      " 23  payment_type              7043 non-null   object \n",
      "dtypes: float64(1), int64(5), object(18)\n",
      "memory usage: 1.3+ MB\n"
     ]
    }
   ],
   "source": [
    "#check the type of the columns\n",
    "\n",
    "df.info()"
   ]
  },
  {
   "cell_type": "code",
   "execution_count": 75,
   "metadata": {},
   "outputs": [],
   "source": [
    "#checking the type of  the columns. I notice total_charges is an object type\n"
   ]
  },
  {
   "cell_type": "code",
   "execution_count": 76,
   "metadata": {},
   "outputs": [],
   "source": [
    "#we cannot conver total_charges to float because there are ' '\n",
    "#df['total_charges'].astype('float')"
   ]
  },
  {
   "cell_type": "code",
   "execution_count": 77,
   "metadata": {
    "scrolled": true
   },
   "outputs": [
    {
     "data": {
      "text/plain": [
       "85       \n",
       "156      \n",
       "236      \n",
       "255      \n",
       "339      \n",
       "5681     \n",
       "5717     \n",
       "5727     \n",
       "5798     \n",
       "6007     \n",
       "6257     \n",
       "Name: total_charges, dtype: object"
      ]
     },
     "execution_count": 77,
     "metadata": {},
     "output_type": "execute_result"
    }
   ],
   "source": [
    "#take a look at the rows with space\n",
    "df['total_charges'][df['total_charges']== ' ']"
   ]
  },
  {
   "cell_type": "code",
   "execution_count": 78,
   "metadata": {
    "scrolled": true
   },
   "outputs": [],
   "source": [
    "#we will replace space with '0' for only these columns\n",
    "df['total_charges'][df['total_charges']== ' ']= df['total_charges'][df['total_charges']== ' '].replace(' ', '0')"
   ]
  },
  {
   "cell_type": "code",
   "execution_count": 79,
   "metadata": {},
   "outputs": [
    {
     "data": {
      "text/plain": [
       "Series([], Name: total_charges, dtype: object)"
      ]
     },
     "execution_count": 79,
     "metadata": {},
     "output_type": "execute_result"
    }
   ],
   "source": [
    "#checking if we replace it\n",
    "df['total_charges'][df['total_charges']== ' ']"
   ]
  },
  {
   "cell_type": "code",
   "execution_count": 80,
   "metadata": {},
   "outputs": [],
   "source": [
    "#in order to conver total_charges to float, I need will add '0' to ' '\n",
    "#df['total_charges'] = df['total_charges'] + '0'"
   ]
  },
  {
   "cell_type": "code",
   "execution_count": 81,
   "metadata": {},
   "outputs": [
    {
     "data": {
      "text/plain": [
       "dtype('float64')"
      ]
     },
     "execution_count": 81,
     "metadata": {},
     "output_type": "execute_result"
    }
   ],
   "source": [
    "#convert to a float type\n",
    "df['total_charges'] = df['total_charges'].astype('float')\n",
    "df['total_charges'].dtype"
   ]
  },
  {
   "cell_type": "code",
   "execution_count": 82,
   "metadata": {},
   "outputs": [
    {
     "data": {
      "text/plain": [
       "payment_type_id             0\n",
       "internet_service_type_id    0\n",
       "contract_type_id            0\n",
       "customer_id                 0\n",
       "gender                      0\n",
       "senior_citizen              0\n",
       "partner                     0\n",
       "dependents                  0\n",
       "tenure                      0\n",
       "phone_service               0\n",
       "multiple_lines              0\n",
       "online_security             0\n",
       "online_backup               0\n",
       "device_protection           0\n",
       "tech_support                0\n",
       "streaming_tv                0\n",
       "streaming_movies            0\n",
       "paperless_billing           0\n",
       "monthly_charges             0\n",
       "total_charges               0\n",
       "churn                       0\n",
       "contract_type               0\n",
       "internet_service_type       0\n",
       "payment_type                0\n",
       "dtype: int64"
      ]
     },
     "execution_count": 82,
     "metadata": {},
     "output_type": "execute_result"
    }
   ],
   "source": [
    "#checking nulls\n",
    "df.isnull().sum()\n",
    "\n",
    "df.isna().sum()"
   ]
  },
  {
   "cell_type": "code",
   "execution_count": null,
   "metadata": {},
   "outputs": [],
   "source": [
    "#checking for duplicates\n",
    "df.duplicated().sum()"
   ]
  },
  {
   "cell_type": "code",
   "execution_count": 84,
   "metadata": {
    "scrolled": true
   },
   "outputs": [
    {
     "data": {
      "image/png": "[encoded data removed]",
      "text/plain": [
       "<Figure size 432x288 with 1 Axes>"
      ]
     },
     "metadata": {
      "needs_background": "light"
     },
     "output_type": "display_data"
    }
   ],
   "source": [
    "# individual variable distributions are plotted\n",
    "plt.hist(df['gender'])\n",
    "plt.show()"
   ]
  },
  {
   "cell_type": "code",
   "execution_count": 96,
   "metadata": {
    "scrolled": true
   },
   "outputs": [
    {
     "data": {
      "text/plain": [
       "['payment_type_id',\n",
       " 'internet_service_type_id',\n",
       " 'contract_type_id',\n",
       " 'customer_id',\n",
       " 'gender',\n",
       " 'senior_citizen',\n",
       " 'partner',\n",
       " 'dependents',\n",
       " 'tenure',\n",
       " 'phone_service',\n",
       " 'multiple_lines',\n",
       " 'online_security',\n",
       " 'online_backup',\n",
       " 'device_protection',\n",
       " 'tech_support',\n",
       " 'streaming_tv',\n",
       " 'streaming_movies',\n",
       " 'paperless_billing',\n",
       " 'monthly_charges',\n",
       " 'total_charges',\n",
       " 'churn',\n",
       " 'contract_type',\n",
       " 'internet_service_type',\n",
       " 'payment_type']"
      ]
     },
     "execution_count": 96,
     "metadata": {},
     "output_type": "execute_result"
    }
   ],
   "source": [
    "# plot each column, exclude the first 4 columns\n",
    "cols =df.columns.to_list()\n",
    "cols"
   ]
  },
  {
   "cell_type": "code",
   "execution_count": 97,
   "metadata": {
    "scrolled": true
   },
   "outputs": [
    {
     "data": {
      "text/plain": [
       "['gender',\n",
       " 'senior_citizen',\n",
       " 'partner',\n",
       " 'dependents',\n",
       " 'tenure',\n",
       " 'phone_service',\n",
       " 'multiple_lines',\n",
       " 'online_security',\n",
       " 'online_backup',\n",
       " 'device_protection',\n",
       " 'tech_support',\n",
       " 'streaming_tv',\n",
       " 'streaming_movies',\n",
       " 'paperless_billing',\n",
       " 'monthly_charges',\n",
       " 'total_charges',\n",
       " 'churn',\n",
       " 'contract_type',\n",
       " 'internet_service_type',\n",
       " 'payment_type']"
      ]
     },
     "execution_count": 97,
     "metadata": {},
     "output_type": "execute_result"
    }
   ],
   "source": [
    "# plot each column, exclude the first 4 columns\n",
    "cols[4:]"
   ]
  },
  {
   "cell_type": "code",
   "execution_count": null,
   "metadata": {},
   "outputs": [],
   "source": []
  },
  {
   "cell_type": "code",
   "execution_count": 99,
   "metadata": {
    "scrolled": false
   },
   "outputs": [
    {
     "data": {
      "image/png": "[encoded data removed]",
      "text/plain": [
       "<Figure size 432x288 with 1 Axes>"
      ]
     },
     "metadata": {
      "needs_background": "light"
     },
     "output_type": "display_data"
    },
    {
     "data": {
      "image/png": "[encoded data removed]",
      "text/plain": [
       "<Figure size 432x288 with 1 Axes>"
      ]
     },
     "metadata": {
      "needs_background": "light"
     },
     "output_type": "display_data"
    },
    {
     "data": {
      "image/png": "[encoded data removed]",
      "text/plain": [
       "<Figure size 432x288 with 1 Axes>"
      ]
     },
     "metadata": {
      "needs_background": "light"
     },
     "output_type": "display_data"
    },
    {
     "data": {
      "image/png": "[encoded data removed]",
      "text/plain": [
       "<Figure size 432x288 with 1 Axes>"
      ]
     },
     "metadata": {
      "needs_background": "light"
     },
     "output_type": "display_data"
    },
    {
     "data": {
      "image/png": "[encoded data removed]",
      "text/plain": [
       "<Figure size 432x288 with 1 Axes>"
      ]
     },
     "metadata": {
      "needs_background": "light"
     },
     "output_type": "display_data"
    },
    {
     "data": {
      "image/png": "[encoded data removed]",
      "text/plain": [
       "<Figure size 432x288 with 1 Axes>"
      ]
     },
     "metadata": {
      "needs_background": "light"
     },
     "output_type": "display_data"
    },
    {
     "data": {
      "image/png": "[encoded data removed]",
      "text/plain": [
       "<Figure size 432x288 with 1 Axes>"
      ]
     },
     "metadata": {
      "needs_background": "light"
     },
     "output_type": "display_data"
    },
    {
     "data": {
      "image/png": "[encoded data removed]",
      "text/plain": [
       "<Figure size 432x288 with 1 Axes>"
      ]
     },
     "metadata": {
      "needs_background": "light"
     },
     "output_type": "display_data"
    },
    {
     "data": {
      "image/png": "[encoded data removed]",
      "text/plain": [
       "<Figure size 432x288 with 1 Axes>"
      ]
     },
     "metadata": {
      "needs_background": "light"
     },
     "output_type": "display_data"
    },
    {
     "data": {
      "image/png": "[encoded data removed]",
      "text/plain": [
       "<Figure size 432x288 with 1 Axes>"
      ]
     },
     "metadata": {
      "needs_background": "light"
     },
     "output_type": "display_data"
    },
    {
     "data": {
      "image/png": "[encoded data removed]",
      "text/plain": [
       "<Figure size 432x288 with 1 Axes>"
      ]
     },
     "metadata": {
      "needs_background": "light"
     },
     "output_type": "display_data"
    },
    {
     "data": {
      "image/png": "[encoded data removed]",
      "text/plain": [
       "<Figure size 432x288 with 1 Axes>"
      ]
     },
     "metadata": {
      "needs_background": "light"
     },
     "output_type": "display_data"
    },
    {
     "data": {
      "image/png": "[encoded data removed]",
      "text/plain": [
       "<Figure size 432x288 with 1 Axes>"
      ]
     },
     "metadata": {
      "needs_background": "light"
     },
     "output_type": "display_data"
    },
    {
     "data": {
      "image/png": "[encoded data removed]",
      "text/plain": [
       "<Figure size 432x288 with 1 Axes>"
      ]
     },
     "metadata": {
      "needs_background": "light"
     },
     "output_type": "display_data"
    },
    {
     "data": {
      "image/png": "[encoded data removed]",
      "text/plain": [
       "<Figure size 432x288 with 1 Axes>"
      ]
     },
     "metadata": {
      "needs_background": "light"
     },
     "output_type": "display_data"
    },
    {
     "data": {
      "image/png": "[encoded data removed]",
      "text/plain": [
       "<Figure size 432x288 with 1 Axes>"
      ]
     },
     "metadata": {
      "needs_background": "light"
     },
     "output_type": "display_data"
    },
    {
     "data": {
      "image/png": "[encoded data removed]",
      "text/plain": [
       "<Figure size 432x288 with 1 Axes>"
      ]
     },
     "metadata": {
      "needs_background": "light"
     },
     "output_type": "display_data"
    },
    {
     "data": {
      "image/png": "[encoded data removed]",
      "text/plain": [
       "<Figure size 432x288 with 1 Axes>"
      ]
     },
     "metadata": {
      "needs_background": "light"
     },
     "output_type": "display_data"
    },
    {
     "data": {
      "image/png": "[encoded data removed]",
      "text/plain": [
       "<Figure size 432x288 with 1 Axes>"
      ]
     },
     "metadata": {
      "needs_background": "light"
     },
     "output_type": "display_data"
    },
    {
     "data": {
      "image/png": "[encoded data removed]",
      "text/plain": [
       "<Figure size 432x288 with 1 Axes>"
      ]
     },
     "metadata": {
      "needs_background": "light"
     },
     "output_type": "display_data"
    }
   ],
   "source": [
    "for col in cols[4:]:\n",
    "    plt.hist(df[col])\n",
    "    plt.title(f'Distribution of {col}')\n",
    "    plt.show()"
   ]
  },
  {
   "cell_type": "code",
   "execution_count": 150,
   "metadata": {},
   "outputs": [],
   "source": [
    "#make a function\n",
    "def distribution (df):\n",
    "    cols =df.columns.to_list()\n",
    "    for col in cols[4:]:\n",
    "        plt.hist(df[col])\n",
    "        plt.title(f'Distribution of {col}')\n",
    "        plt.show()"
   ]
  },
  {
   "cell_type": "code",
   "execution_count": null,
   "metadata": {},
   "outputs": [],
   "source": []
  },
  {
   "cell_type": "code",
   "execution_count": null,
   "metadata": {},
   "outputs": [],
   "source": [
    "#checking again\n",
    "df.info()"
   ]
  },
  {
   "cell_type": "code",
   "execution_count": null,
   "metadata": {},
   "outputs": [],
   "source": [
    "#check the columns yes?no columns\n",
    "df.head(1)"
   ]
  },
  {
   "cell_type": "code",
   "execution_count": null,
   "metadata": {},
   "outputs": [],
   "source": [
    "#all the columns that have yes/no\n",
    "col_list = ['partner', 'dependents','phone_service', 'paperless_billing','churn' ]"
   ]
  },
  {
   "cell_type": "code",
   "execution_count": null,
   "metadata": {},
   "outputs": [],
   "source": [
    "#check all the values for these columns\n",
    "for col in col_list:\n",
    "    print(col)\n",
    "    print(df[col].value_counts())\n",
    "    print('__________________________')"
   ]
  },
  {
   "cell_type": "code",
   "execution_count": null,
   "metadata": {},
   "outputs": [],
   "source": [
    "#checking if we can change no/yes to 0/1 and compare above\n",
    "(df.churn == 'Yes').astype(int).value_counts()"
   ]
  },
  {
   "cell_type": "code",
   "execution_count": null,
   "metadata": {},
   "outputs": [],
   "source": [
    "#using this code we can change it\n",
    "(df[col_list] == 'Yes').astype(int)"
   ]
  },
  {
   "cell_type": "code",
   "execution_count": null,
   "metadata": {},
   "outputs": [],
   "source": [
    "# changgin the value no/yes to 0/1\n",
    "df[col_list] = (df[col_list] == 'Yes').astype(int)"
   ]
  },
  {
   "cell_type": "code",
   "execution_count": null,
   "metadata": {},
   "outputs": [],
   "source": [
    "df[col_list].head()"
   ]
  },
  {
   "cell_type": "code",
   "execution_count": null,
   "metadata": {},
   "outputs": [],
   "source": [
    "#check all the values for these columns to make sure it is correct\n",
    "for col in col_list:\n",
    "    print(col)\n",
    "    print(df[col].value_counts(dropna = False))\n",
    "    print('__________________________')"
   ]
  },
  {
   "cell_type": "code",
   "execution_count": null,
   "metadata": {},
   "outputs": [],
   "source": [
    "df.info()"
   ]
  },
  {
   "cell_type": "code",
   "execution_count": null,
   "metadata": {},
   "outputs": [],
   "source": []
  },
  {
   "cell_type": "code",
   "execution_count": null,
   "metadata": {
    "scrolled": true
   },
   "outputs": [],
   "source": [
    "#selecting all the columns that are object type\n",
    "df.select_dtypes('object').columns"
   ]
  },
  {
   "cell_type": "code",
   "execution_count": null,
   "metadata": {},
   "outputs": [],
   "source": [
    "#make a list of these type of columns , excluding 'customer_id'\n",
    "list(df.select_dtypes('object').columns)[1:]"
   ]
  },
  {
   "cell_type": "code",
   "execution_count": null,
   "metadata": {},
   "outputs": [],
   "source": [
    "#checking the value of each columns\n",
    "col_list = list(df.select_dtypes('object').columns)[1:]\n",
    "for col in col_list:\n",
    "    print(col)\n",
    "    print(df[col].value_counts())\n",
    "    print('__________________________')"
   ]
  },
  {
   "cell_type": "code",
   "execution_count": null,
   "metadata": {
    "scrolled": true
   },
   "outputs": [],
   "source": [
    "#the columns 'online_security','online_backup','device_protection','tech_support','streaming_tv','streaming_movies'\n",
    "#have the same values \n",
    "col_list[2:8]"
   ]
  },
  {
   "cell_type": "code",
   "execution_count": null,
   "metadata": {},
   "outputs": [],
   "source": [
    "#create a dicttionary that have the values that we are going to change\n",
    "var= {\n",
    "    'No':0,\n",
    "    'Yes':1,\n",
    "    'No internet service':3\n",
    "}"
   ]
  },
  {
   "cell_type": "code",
   "execution_count": null,
   "metadata": {},
   "outputs": [],
   "source": [
    "#using .map and for loop to change the values of each column on the list"
   ]
  },
  {
   "cell_type": "code",
   "execution_count": null,
   "metadata": {},
   "outputs": [],
   "source": [
    "for col in col_list[2:8]:\n",
    "      df[col]= df[col].map(var) \n"
   ]
  },
  {
   "cell_type": "code",
   "execution_count": null,
   "metadata": {
    "scrolled": true
   },
   "outputs": [],
   "source": [
    "#check the changes\n",
    "df[col_list[2:8]].head()"
   ]
  },
  {
   "cell_type": "code",
   "execution_count": null,
   "metadata": {
    "scrolled": true
   },
   "outputs": [],
   "source": [
    "#checking again the list of columns as 'object type'\n",
    "df.select_dtypes('object').columns"
   ]
  },
  {
   "cell_type": "code",
   "execution_count": null,
   "metadata": {
    "scrolled": true
   },
   "outputs": [],
   "source": [
    "#I decide to convert this column to a values\n",
    "df['multiple_lines'].unique()"
   ]
  },
  {
   "cell_type": "code",
   "execution_count": null,
   "metadata": {},
   "outputs": [],
   "source": [
    "#replace the values for numeric\n",
    "df.replace({'multiple_lines': {'No':1, 'Yes':2, 'No phone service': 0}}, inplace=True)\n"
   ]
  },
  {
   "cell_type": "code",
   "execution_count": null,
   "metadata": {},
   "outputs": [],
   "source": [
    "df['multiple_lines'].unique()"
   ]
  },
  {
   "cell_type": "code",
   "execution_count": null,
   "metadata": {},
   "outputs": [],
   "source": [
    "# make a list of the columns that are object type , exclude \"customer_id\"\n",
    "col_list = list(df.select_dtypes('object').columns)[1:]"
   ]
  },
  {
   "cell_type": "code",
   "execution_count": null,
   "metadata": {
    "scrolled": true
   },
   "outputs": [],
   "source": [
    "col_list"
   ]
  },
  {
   "cell_type": "code",
   "execution_count": null,
   "metadata": {},
   "outputs": [],
   "source": []
  },
  {
   "cell_type": "code",
   "execution_count": null,
   "metadata": {
    "scrolled": true
   },
   "outputs": [],
   "source": []
  },
  {
   "cell_type": "code",
   "execution_count": null,
   "metadata": {},
   "outputs": [],
   "source": [
    "#create a dummy df of each column on the list\n",
    "for col in col_list:\n",
    "    dummy_df = pd.get_dummies(df[col], drop_first=True)\n",
    "    df = pd.concat([df, dummy_df], axis=1)"
   ]
  },
  {
   "cell_type": "code",
   "execution_count": null,
   "metadata": {},
   "outputs": [],
   "source": [
    "# drop the columns that we already use to create dummy_df\n",
    "df.drop(columns=col_list, inplace=True)"
   ]
  },
  {
   "cell_type": "code",
   "execution_count": null,
   "metadata": {},
   "outputs": [],
   "source": [
    "df.info()"
   ]
  },
  {
   "cell_type": "code",
   "execution_count": null,
   "metadata": {
    "scrolled": true
   },
   "outputs": [],
   "source": [
    "#there is a column named None, that means no internet service. \n",
    "#0 = false (no internet service)\n",
    "#1 = true (no internet service)\n",
    "\n",
    "df['None'].value_counts()"
   ]
  },
  {
   "cell_type": "code",
   "execution_count": null,
   "metadata": {
    "scrolled": true
   },
   "outputs": [],
   "source": [
    "# I will rename the column as has_internet\n",
    "df.rename(columns={'None':'has_internet'}, inplace= True )"
   ]
  },
  {
   "cell_type": "code",
   "execution_count": null,
   "metadata": {},
   "outputs": [],
   "source": [
    "#checking the change\n",
    "df['has_internet'].value_counts()"
   ]
  },
  {
   "cell_type": "code",
   "execution_count": null,
   "metadata": {
    "scrolled": true
   },
   "outputs": [],
   "source": [
    "#to match the values we want \n",
    "#0  = false (has internet)\n",
    "#1 = true (has_internet)\n",
    "df['has_internet'] = df['has_internet'].replace({0: 1, 1: 0})"
   ]
  },
  {
   "cell_type": "code",
   "execution_count": null,
   "metadata": {},
   "outputs": [],
   "source": [
    "df['has_internet'].value_counts()"
   ]
  },
  {
   "cell_type": "code",
   "execution_count": null,
   "metadata": {},
   "outputs": [],
   "source": []
  },
  {
   "cell_type": "code",
   "execution_count": null,
   "metadata": {},
   "outputs": [],
   "source": []
  },
  {
   "cell_type": "code",
   "execution_count": 20,
   "metadata": {},
   "outputs": [],
   "source": [
    "#creating my function\n",
    "\n",
    "def clean_data(df):\n",
    "    '''\n",
    "    This function will drop payment_type_id', 'internet_service_type_id','contract_type_id', \n",
    "    convert all the columns that have yes/no to 0/1, \n",
    "    create dummy vars from 'gender', 'contract_type', 'internet_service_type', 'payment_type',\n",
    "    change total_charges to a float type. \n",
    "    '''\n",
    "\n",
    "    #clean data\n",
    "    # conver total_charges to float\n",
    "    df['total_charges'][df['total_charges']== ' ']= df['total_charges'][df['total_charges']== ' '].replace(' ', '0')\n",
    "    df['total_charges'] = df['total_charges'].astype('float')\n",
    "    \n",
    "    #convert all the columns that have yes/no to 0/1\n",
    "    col_list = ['partner', 'dependents','phone_service', 'paperless_billing','churn' ]\n",
    "    df[col_list] = (df[col_list] == 'Yes').astype(int)\n",
    "    \n",
    "    #change columns to 0,1,2\n",
    "    #getting a list of the  columns that I want to change\n",
    "    col_list = list(df.select_dtypes('object').columns)[1:]\n",
    "    #create a dicttionary to change the value\n",
    "    var= {\n",
    "        'No':0,\n",
    "        'Yes':1,\n",
    "        'No internet service':3\n",
    "    }\n",
    "    #use a for loop to change every column\n",
    "    for col in col_list[2:8]:\n",
    "      df[col]= df[col].map(var) \n",
    "    \n",
    "    #replace the values of multiple_lines\n",
    "    df.replace({'multiple_lines': {'No':1, 'Yes':2, 'No phone service': 0}}, inplace=True)\n",
    "    \n",
    "    #create a dummy df\n",
    "    col_list = list(df.select_dtypes('object').columns)[1:]\n",
    "    #create a dummy df\n",
    "    for col in col_list:\n",
    "        dummy_df = pd.get_dummies(df[col])\n",
    "         ## Concatenate the dummy_df dataframe above with the original df\n",
    "        df = pd.concat([df, dummy_df], axis=1)\n",
    "    # drop the columns that we already use to create dummy_df\n",
    "    df.drop(columns=col_list, inplace=True)\n",
    "    \n",
    "    #drop duplicates columns\n",
    "    df.drop(columns = ['payment_type_id', 'internet_service_type_id','contract_type_id'], inplace=True)\n",
    "    \n",
    "    #  rename the column as has_internet\n",
    "    df.rename(columns={'None':'has_internet'}, inplace= True )\n",
    "    #changing the values to undestand better the meaning\n",
    "    df['has_internet'] = df['has_internet'].replace({0: 1, 1: 0})\n",
    "    # columns name change (remove space and -)\n",
    "    df.columns = [col.lower().replace(' ', '_').replace('-','_') for col in df]\n",
    "    df.columns\n",
    "    return df\n"
   ]
  },
  {
   "cell_type": "code",
   "execution_count": null,
   "metadata": {},
   "outputs": [],
   "source": []
  },
  {
   "cell_type": "code",
   "execution_count": 45,
   "metadata": {},
   "outputs": [],
   "source": [
    "#acquire data\n",
    "df = get_telco_churn()"
   ]
  },
  {
   "cell_type": "code",
   "execution_count": 46,
   "metadata": {
    "scrolled": true
   },
   "outputs": [
    {
     "data": {
      "text/plain": [
       "(7043, 24)"
      ]
     },
     "execution_count": 46,
     "metadata": {},
     "output_type": "execute_result"
    }
   ],
   "source": [
    "df.shape"
   ]
  },
  {
   "cell_type": "code",
   "execution_count": 47,
   "metadata": {},
   "outputs": [
    {
     "data": {
      "text/plain": [
       "Index(['payment_type_id', 'internet_service_type_id', 'contract_type_id',\n",
       "       'customer_id', 'gender', 'senior_citizen', 'partner', 'dependents',\n",
       "       'tenure', 'phone_service', 'multiple_lines', 'online_security',\n",
       "       'online_backup', 'device_protection', 'tech_support', 'streaming_tv',\n",
       "       'streaming_movies', 'paperless_billing', 'monthly_charges',\n",
       "       'total_charges', 'churn', 'contract_type', 'internet_service_type',\n",
       "       'payment_type'],\n",
       "      dtype='object')"
      ]
     },
     "execution_count": 47,
     "metadata": {},
     "output_type": "execute_result"
    }
   ],
   "source": [
    "df.columns"
   ]
  },
  {
   "cell_type": "code",
   "execution_count": 48,
   "metadata": {},
   "outputs": [],
   "source": [
    "#use my clean function\n",
    "df_clean = clean_data(df)"
   ]
  },
  {
   "cell_type": "code",
   "execution_count": 53,
   "metadata": {},
   "outputs": [
    {
     "data": {
      "text/plain": [
       "(7043, 29)"
      ]
     },
     "execution_count": 53,
     "metadata": {},
     "output_type": "execute_result"
    }
   ],
   "source": [
    "df_clean.shape"
   ]
  },
  {
   "cell_type": "code",
   "execution_count": 50,
   "metadata": {
    "scrolled": true
   },
   "outputs": [
    {
     "name": "stdout",
     "output_type": "stream",
     "text": [
      "<class 'pandas.core.frame.DataFrame'>\n",
      "Int64Index: 7043 entries, 0 to 7042\n",
      "Data columns (total 29 columns):\n",
      " #   Column                     Non-Null Count  Dtype  \n",
      "---  ------                     --------------  -----  \n",
      " 0   customer_id                7043 non-null   object \n",
      " 1   senior_citizen             7043 non-null   int64  \n",
      " 2   partner                    7043 non-null   int64  \n",
      " 3   dependents                 7043 non-null   int64  \n",
      " 4   tenure                     7043 non-null   int64  \n",
      " 5   phone_service              7043 non-null   int64  \n",
      " 6   multiple_lines             7043 non-null   int64  \n",
      " 7   online_security            7043 non-null   int64  \n",
      " 8   online_backup              7043 non-null   int64  \n",
      " 9   device_protection          7043 non-null   int64  \n",
      " 10  tech_support               7043 non-null   int64  \n",
      " 11  streaming_tv               7043 non-null   int64  \n",
      " 12  streaming_movies           7043 non-null   int64  \n",
      " 13  paperless_billing          7043 non-null   int64  \n",
      " 14  monthly_charges            7043 non-null   float64\n",
      " 15  total_charges              7043 non-null   float64\n",
      " 16  churn                      7043 non-null   int64  \n",
      " 17  female                     7043 non-null   uint8  \n",
      " 18  male                       7043 non-null   uint8  \n",
      " 19  month_to_month             7043 non-null   uint8  \n",
      " 20  one_year                   7043 non-null   uint8  \n",
      " 21  two_year                   7043 non-null   uint8  \n",
      " 22  dsl                        7043 non-null   uint8  \n",
      " 23  fiber_optic                7043 non-null   uint8  \n",
      " 24  has_internet               7043 non-null   int64  \n",
      " 25  bank_transfer_(automatic)  7043 non-null   uint8  \n",
      " 26  credit_card_(automatic)    7043 non-null   uint8  \n",
      " 27  electronic_check           7043 non-null   uint8  \n",
      " 28  mailed_check               7043 non-null   uint8  \n",
      "dtypes: float64(2), int64(15), object(1), uint8(11)\n",
      "memory usage: 1.4+ MB\n"
     ]
    }
   ],
   "source": [
    "df_clean.info()"
   ]
  },
  {
   "cell_type": "code",
   "execution_count": null,
   "metadata": {},
   "outputs": [],
   "source": []
  },
  {
   "cell_type": "code",
   "execution_count": 51,
   "metadata": {},
   "outputs": [],
   "source": [
    "#calculate corr\n",
    "df_corr = df_clean.corr()"
   ]
  },
  {
   "cell_type": "code",
   "execution_count": 29,
   "metadata": {
    "scrolled": true
   },
   "outputs": [
    {
     "data": {
      "text/html": [
       "<div>\n",
       "<style scoped>\n",
       "    .dataframe tbody tr th:only-of-type {\n",
       "        vertical-align: middle;\n",
       "    }\n",
       "\n",
       "    .dataframe tbody tr th {\n",
       "        vertical-align: top;\n",
       "    }\n",
       "\n",
       "    .dataframe thead th {\n",
       "        text-align: right;\n",
       "    }\n",
       "</style>\n",
       "<table border=\"1\" class=\"dataframe\">\n",
       "  <thead>\n",
       "    <tr style=\"text-align: right;\">\n",
       "      <th></th>\n",
       "      <th>senior_citizen</th>\n",
       "      <th>partner</th>\n",
       "      <th>dependents</th>\n",
       "      <th>tenure</th>\n",
       "      <th>phone_service</th>\n",
       "      <th>multiple_lines</th>\n",
       "      <th>online_security</th>\n",
       "      <th>online_backup</th>\n",
       "      <th>device_protection</th>\n",
       "      <th>tech_support</th>\n",
       "      <th>...</th>\n",
       "      <th>month_to_month</th>\n",
       "      <th>one_year</th>\n",
       "      <th>two_year</th>\n",
       "      <th>dsl</th>\n",
       "      <th>fiber_optic</th>\n",
       "      <th>has_internet</th>\n",
       "      <th>bank_transfer_(automatic)</th>\n",
       "      <th>credit_card_(automatic)</th>\n",
       "      <th>electronic_check</th>\n",
       "      <th>mailed_check</th>\n",
       "    </tr>\n",
       "  </thead>\n",
       "  <tbody>\n",
       "    <tr>\n",
       "      <th>senior_citizen</th>\n",
       "      <td>1.000000</td>\n",
       "      <td>0.016479</td>\n",
       "      <td>-0.211185</td>\n",
       "      <td>0.016567</td>\n",
       "      <td>0.008576</td>\n",
       "      <td>0.113791</td>\n",
       "      <td>-0.208709</td>\n",
       "      <td>-0.170002</td>\n",
       "      <td>-0.172926</td>\n",
       "      <td>-0.217566</td>\n",
       "      <td>...</td>\n",
       "      <td>0.138360</td>\n",
       "      <td>-0.046262</td>\n",
       "      <td>-0.117000</td>\n",
       "      <td>-0.108322</td>\n",
       "      <td>0.255338</td>\n",
       "      <td>0.182742</td>\n",
       "      <td>-0.016159</td>\n",
       "      <td>-0.024135</td>\n",
       "      <td>0.171718</td>\n",
       "      <td>-0.153477</td>\n",
       "    </tr>\n",
       "    <tr>\n",
       "      <th>partner</th>\n",
       "      <td>0.016479</td>\n",
       "      <td>1.000000</td>\n",
       "      <td>0.452676</td>\n",
       "      <td>0.379697</td>\n",
       "      <td>0.017706</td>\n",
       "      <td>0.117307</td>\n",
       "      <td>0.056157</td>\n",
       "      <td>0.059540</td>\n",
       "      <td>0.064584</td>\n",
       "      <td>0.047420</td>\n",
       "      <td>...</td>\n",
       "      <td>-0.280865</td>\n",
       "      <td>0.082783</td>\n",
       "      <td>0.248091</td>\n",
       "      <td>-0.000851</td>\n",
       "      <td>0.000304</td>\n",
       "      <td>-0.000615</td>\n",
       "      <td>0.110706</td>\n",
       "      <td>0.082029</td>\n",
       "      <td>-0.083852</td>\n",
       "      <td>-0.095125</td>\n",
       "    </tr>\n",
       "    <tr>\n",
       "      <th>dependents</th>\n",
       "      <td>-0.211185</td>\n",
       "      <td>0.452676</td>\n",
       "      <td>1.000000</td>\n",
       "      <td>0.159712</td>\n",
       "      <td>-0.001762</td>\n",
       "      <td>-0.019657</td>\n",
       "      <td>0.179614</td>\n",
       "      <td>0.161106</td>\n",
       "      <td>0.157003</td>\n",
       "      <td>0.173036</td>\n",
       "      <td>...</td>\n",
       "      <td>-0.231720</td>\n",
       "      <td>0.068368</td>\n",
       "      <td>0.204613</td>\n",
       "      <td>0.052010</td>\n",
       "      <td>-0.165818</td>\n",
       "      <td>-0.139812</td>\n",
       "      <td>0.052021</td>\n",
       "      <td>0.060267</td>\n",
       "      <td>-0.150642</td>\n",
       "      <td>0.059071</td>\n",
       "    </tr>\n",
       "    <tr>\n",
       "      <th>tenure</th>\n",
       "      <td>0.016567</td>\n",
       "      <td>0.379697</td>\n",
       "      <td>0.159712</td>\n",
       "      <td>1.000000</td>\n",
       "      <td>0.008448</td>\n",
       "      <td>0.258958</td>\n",
       "      <td>0.085500</td>\n",
       "      <td>0.107643</td>\n",
       "      <td>0.107656</td>\n",
       "      <td>0.084902</td>\n",
       "      <td>...</td>\n",
       "      <td>-0.645561</td>\n",
       "      <td>0.202570</td>\n",
       "      <td>0.558533</td>\n",
       "      <td>0.013274</td>\n",
       "      <td>0.019720</td>\n",
       "      <td>0.039062</td>\n",
       "      <td>0.243510</td>\n",
       "      <td>0.233006</td>\n",
       "      <td>-0.208363</td>\n",
       "      <td>-0.233852</td>\n",
       "    </tr>\n",
       "    <tr>\n",
       "      <th>phone_service</th>\n",
       "      <td>0.008576</td>\n",
       "      <td>0.017706</td>\n",
       "      <td>-0.001762</td>\n",
       "      <td>0.008448</td>\n",
       "      <td>1.000000</td>\n",
       "      <td>0.675070</td>\n",
       "      <td>0.146522</td>\n",
       "      <td>0.164540</td>\n",
       "      <td>0.156631</td>\n",
       "      <td>0.145215</td>\n",
       "      <td>...</td>\n",
       "      <td>-0.000742</td>\n",
       "      <td>-0.002791</td>\n",
       "      <td>0.003519</td>\n",
       "      <td>-0.452425</td>\n",
       "      <td>0.289999</td>\n",
       "      <td>-0.172209</td>\n",
       "      <td>0.007556</td>\n",
       "      <td>-0.007721</td>\n",
       "      <td>0.003062</td>\n",
       "      <td>-0.003319</td>\n",
       "    </tr>\n",
       "    <tr>\n",
       "      <th>multiple_lines</th>\n",
       "      <td>0.113791</td>\n",
       "      <td>0.117307</td>\n",
       "      <td>-0.019657</td>\n",
       "      <td>0.258958</td>\n",
       "      <td>0.675070</td>\n",
       "      <td>1.000000</td>\n",
       "      <td>-0.074857</td>\n",
       "      <td>-0.034674</td>\n",
       "      <td>-0.038667</td>\n",
       "      <td>-0.074777</td>\n",
       "      <td>...</td>\n",
       "      <td>-0.068119</td>\n",
       "      <td>-0.004199</td>\n",
       "      <td>0.083266</td>\n",
       "      <td>-0.361806</td>\n",
       "      <td>0.414749</td>\n",
       "      <td>0.082560</td>\n",
       "      <td>0.061513</td>\n",
       "      <td>0.042590</td>\n",
       "      <td>0.065663</td>\n",
       "      <td>-0.176117</td>\n",
       "    </tr>\n",
       "    <tr>\n",
       "      <th>online_security</th>\n",
       "      <td>-0.208709</td>\n",
       "      <td>0.056157</td>\n",
       "      <td>0.179614</td>\n",
       "      <td>0.085500</td>\n",
       "      <td>0.146522</td>\n",
       "      <td>-0.074857</td>\n",
       "      <td>1.000000</td>\n",
       "      <td>0.884432</td>\n",
       "      <td>0.883200</td>\n",
       "      <td>0.902492</td>\n",
       "      <td>...</td>\n",
       "      <td>-0.327446</td>\n",
       "      <td>0.079135</td>\n",
       "      <td>0.305769</td>\n",
       "      <td>-0.278888</td>\n",
       "      <td>-0.505673</td>\n",
       "      <td>-0.930746</td>\n",
       "      <td>0.034667</td>\n",
       "      <td>0.045975</td>\n",
       "      <td>-0.345600</td>\n",
       "      <td>0.309323</td>\n",
       "    </tr>\n",
       "    <tr>\n",
       "      <th>online_backup</th>\n",
       "      <td>-0.170002</td>\n",
       "      <td>0.059540</td>\n",
       "      <td>0.161106</td>\n",
       "      <td>0.107643</td>\n",
       "      <td>0.164540</td>\n",
       "      <td>-0.034674</td>\n",
       "      <td>0.884432</td>\n",
       "      <td>1.000000</td>\n",
       "      <td>0.879558</td>\n",
       "      <td>0.885567</td>\n",
       "      <td>...</td>\n",
       "      <td>-0.304844</td>\n",
       "      <td>0.075950</td>\n",
       "      <td>0.282497</td>\n",
       "      <td>-0.346101</td>\n",
       "      <td>-0.434998</td>\n",
       "      <td>-0.923087</td>\n",
       "      <td>0.033914</td>\n",
       "      <td>0.038887</td>\n",
       "      <td>-0.308409</td>\n",
       "      <td>0.275201</td>\n",
       "    </tr>\n",
       "    <tr>\n",
       "      <th>device_protection</th>\n",
       "      <td>-0.172926</td>\n",
       "      <td>0.064584</td>\n",
       "      <td>0.157003</td>\n",
       "      <td>0.107656</td>\n",
       "      <td>0.156631</td>\n",
       "      <td>-0.038667</td>\n",
       "      <td>0.883200</td>\n",
       "      <td>0.879558</td>\n",
       "      <td>1.000000</td>\n",
       "      <td>0.892017</td>\n",
       "      <td>...</td>\n",
       "      <td>-0.330240</td>\n",
       "      <td>0.083700</td>\n",
       "      <td>0.304677</td>\n",
       "      <td>-0.350834</td>\n",
       "      <td>-0.430560</td>\n",
       "      <td>-0.923197</td>\n",
       "      <td>0.032260</td>\n",
       "      <td>0.047479</td>\n",
       "      <td>-0.309516</td>\n",
       "      <td>0.269657</td>\n",
       "    </tr>\n",
       "    <tr>\n",
       "      <th>tech_support</th>\n",
       "      <td>-0.217566</td>\n",
       "      <td>0.047420</td>\n",
       "      <td>0.173036</td>\n",
       "      <td>0.084902</td>\n",
       "      <td>0.145215</td>\n",
       "      <td>-0.074777</td>\n",
       "      <td>0.902492</td>\n",
       "      <td>0.885567</td>\n",
       "      <td>0.892017</td>\n",
       "      <td>1.000000</td>\n",
       "      <td>...</td>\n",
       "      <td>-0.343202</td>\n",
       "      <td>0.077659</td>\n",
       "      <td>0.325508</td>\n",
       "      <td>-0.281927</td>\n",
       "      <td>-0.502320</td>\n",
       "      <td>-0.930210</td>\n",
       "      <td>0.037218</td>\n",
       "      <td>0.046797</td>\n",
       "      <td>-0.347130</td>\n",
       "      <td>0.307727</td>\n",
       "    </tr>\n",
       "    <tr>\n",
       "      <th>streaming_tv</th>\n",
       "      <td>-0.155266</td>\n",
       "      <td>0.054605</td>\n",
       "      <td>0.146505</td>\n",
       "      <td>0.078087</td>\n",
       "      <td>0.179510</td>\n",
       "      <td>-0.009755</td>\n",
       "      <td>0.861988</td>\n",
       "      <td>0.870863</td>\n",
       "      <td>0.890560</td>\n",
       "      <td>0.878497</td>\n",
       "      <td>...</td>\n",
       "      <td>-0.288878</td>\n",
       "      <td>0.068423</td>\n",
       "      <td>0.271077</td>\n",
       "      <td>-0.411316</td>\n",
       "      <td>-0.369480</td>\n",
       "      <td>-0.919337</td>\n",
       "      <td>0.017685</td>\n",
       "      <td>0.018623</td>\n",
       "      <td>-0.250588</td>\n",
       "      <td>0.246037</td>\n",
       "    </tr>\n",
       "    <tr>\n",
       "      <th>streaming_movies</th>\n",
       "      <td>-0.149000</td>\n",
       "      <td>0.051632</td>\n",
       "      <td>0.136652</td>\n",
       "      <td>0.081169</td>\n",
       "      <td>0.175257</td>\n",
       "      <td>-0.011171</td>\n",
       "      <td>0.863460</td>\n",
       "      <td>0.869091</td>\n",
       "      <td>0.892252</td>\n",
       "      <td>0.878355</td>\n",
       "      <td>...</td>\n",
       "      <td>-0.291285</td>\n",
       "      <td>0.070010</td>\n",
       "      <td>0.272369</td>\n",
       "      <td>-0.407834</td>\n",
       "      <td>-0.372583</td>\n",
       "      <td>-0.919061</td>\n",
       "      <td>0.018788</td>\n",
       "      <td>0.022214</td>\n",
       "      <td>-0.253750</td>\n",
       "      <td>0.244987</td>\n",
       "    </tr>\n",
       "    <tr>\n",
       "      <th>paperless_billing</th>\n",
       "      <td>0.156530</td>\n",
       "      <td>-0.014877</td>\n",
       "      <td>-0.111377</td>\n",
       "      <td>0.006152</td>\n",
       "      <td>0.016505</td>\n",
       "      <td>0.133255</td>\n",
       "      <td>-0.341703</td>\n",
       "      <td>-0.294559</td>\n",
       "      <td>-0.304018</td>\n",
       "      <td>-0.325920</td>\n",
       "      <td>...</td>\n",
       "      <td>0.169096</td>\n",
       "      <td>-0.051391</td>\n",
       "      <td>-0.147889</td>\n",
       "      <td>-0.063121</td>\n",
       "      <td>0.326853</td>\n",
       "      <td>0.321013</td>\n",
       "      <td>-0.016332</td>\n",
       "      <td>-0.013589</td>\n",
       "      <td>0.208865</td>\n",
       "      <td>-0.205398</td>\n",
       "    </tr>\n",
       "    <tr>\n",
       "      <th>monthly_charges</th>\n",
       "      <td>0.220173</td>\n",
       "      <td>0.096848</td>\n",
       "      <td>-0.113890</td>\n",
       "      <td>0.247900</td>\n",
       "      <td>0.247398</td>\n",
       "      <td>0.490700</td>\n",
       "      <td>-0.694378</td>\n",
       "      <td>-0.642246</td>\n",
       "      <td>-0.625126</td>\n",
       "      <td>-0.678497</td>\n",
       "      <td>...</td>\n",
       "      <td>0.060165</td>\n",
       "      <td>0.004904</td>\n",
       "      <td>-0.074681</td>\n",
       "      <td>-0.160189</td>\n",
       "      <td>0.787066</td>\n",
       "      <td>0.763557</td>\n",
       "      <td>0.042812</td>\n",
       "      <td>0.030550</td>\n",
       "      <td>0.271625</td>\n",
       "      <td>-0.377437</td>\n",
       "    </tr>\n",
       "    <tr>\n",
       "      <th>total_charges</th>\n",
       "      <td>0.103006</td>\n",
       "      <td>0.317504</td>\n",
       "      <td>0.062078</td>\n",
       "      <td>0.826178</td>\n",
       "      <td>0.113214</td>\n",
       "      <td>0.412104</td>\n",
       "      <td>-0.238096</td>\n",
       "      <td>-0.194061</td>\n",
       "      <td>-0.188831</td>\n",
       "      <td>-0.229898</td>\n",
       "      <td>...</td>\n",
       "      <td>-0.444255</td>\n",
       "      <td>0.170814</td>\n",
       "      <td>0.354481</td>\n",
       "      <td>-0.052469</td>\n",
       "      <td>0.361655</td>\n",
       "      <td>0.375223</td>\n",
       "      <td>0.185987</td>\n",
       "      <td>0.182915</td>\n",
       "      <td>-0.059246</td>\n",
       "      <td>-0.295758</td>\n",
       "    </tr>\n",
       "    <tr>\n",
       "      <th>churn</th>\n",
       "      <td>0.150889</td>\n",
       "      <td>-0.150448</td>\n",
       "      <td>-0.164221</td>\n",
       "      <td>-0.352229</td>\n",
       "      <td>0.011942</td>\n",
       "      <td>0.036310</td>\n",
       "      <td>-0.307989</td>\n",
       "      <td>-0.280770</td>\n",
       "      <td>-0.273951</td>\n",
       "      <td>-0.306032</td>\n",
       "      <td>...</td>\n",
       "      <td>0.405103</td>\n",
       "      <td>-0.177820</td>\n",
       "      <td>-0.302253</td>\n",
       "      <td>-0.124214</td>\n",
       "      <td>0.308020</td>\n",
       "      <td>0.227890</td>\n",
       "      <td>-0.117937</td>\n",
       "      <td>-0.134302</td>\n",
       "      <td>0.301919</td>\n",
       "      <td>-0.091683</td>\n",
       "    </tr>\n",
       "    <tr>\n",
       "      <th>female</th>\n",
       "      <td>0.001874</td>\n",
       "      <td>0.001808</td>\n",
       "      <td>-0.010517</td>\n",
       "      <td>-0.005106</td>\n",
       "      <td>0.006488</td>\n",
       "      <td>0.009451</td>\n",
       "      <td>0.000214</td>\n",
       "      <td>-0.000788</td>\n",
       "      <td>-0.005642</td>\n",
       "      <td>-0.002805</td>\n",
       "      <td>...</td>\n",
       "      <td>0.003386</td>\n",
       "      <td>-0.008026</td>\n",
       "      <td>0.003695</td>\n",
       "      <td>-0.006568</td>\n",
       "      <td>0.011286</td>\n",
       "      <td>0.006026</td>\n",
       "      <td>0.016024</td>\n",
       "      <td>-0.001215</td>\n",
       "      <td>-0.000752</td>\n",
       "      <td>-0.013744</td>\n",
       "    </tr>\n",
       "    <tr>\n",
       "      <th>male</th>\n",
       "      <td>-0.001874</td>\n",
       "      <td>-0.001808</td>\n",
       "      <td>0.010517</td>\n",
       "      <td>0.005106</td>\n",
       "      <td>-0.006488</td>\n",
       "      <td>-0.009451</td>\n",
       "      <td>-0.000214</td>\n",
       "      <td>0.000788</td>\n",
       "      <td>0.005642</td>\n",
       "      <td>0.002805</td>\n",
       "      <td>...</td>\n",
       "      <td>-0.003386</td>\n",
       "      <td>0.008026</td>\n",
       "      <td>-0.003695</td>\n",
       "      <td>0.006568</td>\n",
       "      <td>-0.011286</td>\n",
       "      <td>-0.006026</td>\n",
       "      <td>-0.016024</td>\n",
       "      <td>0.001215</td>\n",
       "      <td>0.000752</td>\n",
       "      <td>0.013744</td>\n",
       "    </tr>\n",
       "    <tr>\n",
       "      <th>month_to_month</th>\n",
       "      <td>0.138360</td>\n",
       "      <td>-0.280865</td>\n",
       "      <td>-0.231720</td>\n",
       "      <td>-0.645561</td>\n",
       "      <td>-0.000742</td>\n",
       "      <td>-0.068119</td>\n",
       "      <td>-0.327446</td>\n",
       "      <td>-0.304844</td>\n",
       "      <td>-0.330240</td>\n",
       "      <td>-0.343202</td>\n",
       "      <td>...</td>\n",
       "      <td>1.000000</td>\n",
       "      <td>-0.568744</td>\n",
       "      <td>-0.622633</td>\n",
       "      <td>-0.065509</td>\n",
       "      <td>0.244164</td>\n",
       "      <td>0.218639</td>\n",
       "      <td>-0.179707</td>\n",
       "      <td>-0.204145</td>\n",
       "      <td>0.331661</td>\n",
       "      <td>0.004138</td>\n",
       "    </tr>\n",
       "    <tr>\n",
       "      <th>one_year</th>\n",
       "      <td>-0.046262</td>\n",
       "      <td>0.082783</td>\n",
       "      <td>0.068368</td>\n",
       "      <td>0.202570</td>\n",
       "      <td>-0.002791</td>\n",
       "      <td>-0.004199</td>\n",
       "      <td>0.079135</td>\n",
       "      <td>0.075950</td>\n",
       "      <td>0.083700</td>\n",
       "      <td>0.077659</td>\n",
       "      <td>...</td>\n",
       "      <td>-0.568744</td>\n",
       "      <td>1.000000</td>\n",
       "      <td>-0.289510</td>\n",
       "      <td>0.046795</td>\n",
       "      <td>-0.076324</td>\n",
       "      <td>-0.038004</td>\n",
       "      <td>0.057451</td>\n",
       "      <td>0.067589</td>\n",
       "      <td>-0.109130</td>\n",
       "      <td>-0.000116</td>\n",
       "    </tr>\n",
       "    <tr>\n",
       "      <th>two_year</th>\n",
       "      <td>-0.117000</td>\n",
       "      <td>0.248091</td>\n",
       "      <td>0.204613</td>\n",
       "      <td>0.558533</td>\n",
       "      <td>0.003519</td>\n",
       "      <td>0.083266</td>\n",
       "      <td>0.305769</td>\n",
       "      <td>0.282497</td>\n",
       "      <td>0.304677</td>\n",
       "      <td>0.325508</td>\n",
       "      <td>...</td>\n",
       "      <td>-0.622633</td>\n",
       "      <td>-0.289510</td>\n",
       "      <td>1.000000</td>\n",
       "      <td>0.031714</td>\n",
       "      <td>-0.211526</td>\n",
       "      <td>-0.218278</td>\n",
       "      <td>0.154471</td>\n",
       "      <td>0.173265</td>\n",
       "      <td>-0.282138</td>\n",
       "      <td>-0.004705</td>\n",
       "    </tr>\n",
       "    <tr>\n",
       "      <th>dsl</th>\n",
       "      <td>-0.108322</td>\n",
       "      <td>-0.000851</td>\n",
       "      <td>0.052010</td>\n",
       "      <td>0.013274</td>\n",
       "      <td>-0.452425</td>\n",
       "      <td>-0.361806</td>\n",
       "      <td>-0.278888</td>\n",
       "      <td>-0.346101</td>\n",
       "      <td>-0.350834</td>\n",
       "      <td>-0.281927</td>\n",
       "      <td>...</td>\n",
       "      <td>-0.065509</td>\n",
       "      <td>0.046795</td>\n",
       "      <td>0.031714</td>\n",
       "      <td>1.000000</td>\n",
       "      <td>-0.640987</td>\n",
       "      <td>0.380635</td>\n",
       "      <td>0.025476</td>\n",
       "      <td>0.051438</td>\n",
       "      <td>-0.104418</td>\n",
       "      <td>0.041899</td>\n",
       "    </tr>\n",
       "    <tr>\n",
       "      <th>fiber_optic</th>\n",
       "      <td>0.255338</td>\n",
       "      <td>0.000304</td>\n",
       "      <td>-0.165818</td>\n",
       "      <td>0.019720</td>\n",
       "      <td>0.289999</td>\n",
       "      <td>0.414749</td>\n",
       "      <td>-0.505673</td>\n",
       "      <td>-0.434998</td>\n",
       "      <td>-0.430560</td>\n",
       "      <td>-0.502320</td>\n",
       "      <td>...</td>\n",
       "      <td>0.244164</td>\n",
       "      <td>-0.076324</td>\n",
       "      <td>-0.211526</td>\n",
       "      <td>-0.640987</td>\n",
       "      <td>1.000000</td>\n",
       "      <td>0.465793</td>\n",
       "      <td>-0.022624</td>\n",
       "      <td>-0.050077</td>\n",
       "      <td>0.336410</td>\n",
       "      <td>-0.306834</td>\n",
       "    </tr>\n",
       "    <tr>\n",
       "      <th>has_internet</th>\n",
       "      <td>0.182742</td>\n",
       "      <td>-0.000615</td>\n",
       "      <td>-0.139812</td>\n",
       "      <td>0.039062</td>\n",
       "      <td>-0.172209</td>\n",
       "      <td>0.082560</td>\n",
       "      <td>-0.930746</td>\n",
       "      <td>-0.923087</td>\n",
       "      <td>-0.923197</td>\n",
       "      <td>-0.930210</td>\n",
       "      <td>...</td>\n",
       "      <td>0.218639</td>\n",
       "      <td>-0.038004</td>\n",
       "      <td>-0.218278</td>\n",
       "      <td>0.380635</td>\n",
       "      <td>0.465793</td>\n",
       "      <td>1.000000</td>\n",
       "      <td>0.002113</td>\n",
       "      <td>-0.001030</td>\n",
       "      <td>0.284917</td>\n",
       "      <td>-0.321361</td>\n",
       "    </tr>\n",
       "    <tr>\n",
       "      <th>bank_transfer_(automatic)</th>\n",
       "      <td>-0.016159</td>\n",
       "      <td>0.110706</td>\n",
       "      <td>0.052021</td>\n",
       "      <td>0.243510</td>\n",
       "      <td>0.007556</td>\n",
       "      <td>0.061513</td>\n",
       "      <td>0.034667</td>\n",
       "      <td>0.033914</td>\n",
       "      <td>0.032260</td>\n",
       "      <td>0.037218</td>\n",
       "      <td>...</td>\n",
       "      <td>-0.179707</td>\n",
       "      <td>0.057451</td>\n",
       "      <td>0.154471</td>\n",
       "      <td>0.025476</td>\n",
       "      <td>-0.022624</td>\n",
       "      <td>0.002113</td>\n",
       "      <td>1.000000</td>\n",
       "      <td>-0.278215</td>\n",
       "      <td>-0.376762</td>\n",
       "      <td>-0.288685</td>\n",
       "    </tr>\n",
       "    <tr>\n",
       "      <th>credit_card_(automatic)</th>\n",
       "      <td>-0.024135</td>\n",
       "      <td>0.082029</td>\n",
       "      <td>0.060267</td>\n",
       "      <td>0.233006</td>\n",
       "      <td>-0.007721</td>\n",
       "      <td>0.042590</td>\n",
       "      <td>0.045975</td>\n",
       "      <td>0.038887</td>\n",
       "      <td>0.047479</td>\n",
       "      <td>0.046797</td>\n",
       "      <td>...</td>\n",
       "      <td>-0.204145</td>\n",
       "      <td>0.067589</td>\n",
       "      <td>0.173265</td>\n",
       "      <td>0.051438</td>\n",
       "      <td>-0.050077</td>\n",
       "      <td>-0.001030</td>\n",
       "      <td>-0.278215</td>\n",
       "      <td>1.000000</td>\n",
       "      <td>-0.373322</td>\n",
       "      <td>-0.286049</td>\n",
       "    </tr>\n",
       "    <tr>\n",
       "      <th>electronic_check</th>\n",
       "      <td>0.171718</td>\n",
       "      <td>-0.083852</td>\n",
       "      <td>-0.150642</td>\n",
       "      <td>-0.208363</td>\n",
       "      <td>0.003062</td>\n",
       "      <td>0.065663</td>\n",
       "      <td>-0.345600</td>\n",
       "      <td>-0.308409</td>\n",
       "      <td>-0.309516</td>\n",
       "      <td>-0.347130</td>\n",
       "      <td>...</td>\n",
       "      <td>0.331661</td>\n",
       "      <td>-0.109130</td>\n",
       "      <td>-0.282138</td>\n",
       "      <td>-0.104418</td>\n",
       "      <td>0.336410</td>\n",
       "      <td>0.284917</td>\n",
       "      <td>-0.376762</td>\n",
       "      <td>-0.373322</td>\n",
       "      <td>1.000000</td>\n",
       "      <td>-0.387372</td>\n",
       "    </tr>\n",
       "    <tr>\n",
       "      <th>mailed_check</th>\n",
       "      <td>-0.153477</td>\n",
       "      <td>-0.095125</td>\n",
       "      <td>0.059071</td>\n",
       "      <td>-0.233852</td>\n",
       "      <td>-0.003319</td>\n",
       "      <td>-0.176117</td>\n",
       "      <td>0.309323</td>\n",
       "      <td>0.275201</td>\n",
       "      <td>0.269657</td>\n",
       "      <td>0.307727</td>\n",
       "      <td>...</td>\n",
       "      <td>0.004138</td>\n",
       "      <td>-0.000116</td>\n",
       "      <td>-0.004705</td>\n",
       "      <td>0.041899</td>\n",
       "      <td>-0.306834</td>\n",
       "      <td>-0.321361</td>\n",
       "      <td>-0.288685</td>\n",
       "      <td>-0.286049</td>\n",
       "      <td>-0.387372</td>\n",
       "      <td>1.000000</td>\n",
       "    </tr>\n",
       "  </tbody>\n",
       "</table>\n",
       "<p>28 rows × 28 columns</p>\n",
       "</div>"
      ],
      "text/plain": [
       "                           senior_citizen   partner  dependents    tenure  \\\n",
       "senior_citizen                   1.000000  0.016479   -0.211185  0.016567   \n",
       "partner                          0.016479  1.000000    0.452676  0.379697   \n",
       "dependents                      -0.211185  0.452676    1.000000  0.159712   \n",
       "tenure                           0.016567  0.379697    0.159712  1.000000   \n",
       "phone_service                    0.008576  0.017706   -0.001762  0.008448   \n",
       "multiple_lines                   0.113791  0.117307   -0.019657  0.258958   \n",
       "online_security                 -0.208709  0.056157    0.179614  0.085500   \n",
       "online_backup                   -0.170002  0.059540    0.161106  0.107643   \n",
       "device_protection               -0.172926  0.064584    0.157003  0.107656   \n",
       "tech_support                    -0.217566  0.047420    0.173036  0.084902   \n",
       "streaming_tv                    -0.155266  0.054605    0.146505  0.078087   \n",
       "streaming_movies                -0.149000  0.051632    0.136652  0.081169   \n",
       "paperless_billing                0.156530 -0.014877   -0.111377  0.006152   \n",
       "monthly_charges                  0.220173  0.096848   -0.113890  0.247900   \n",
       "total_charges                    0.103006  0.317504    0.062078  0.826178   \n",
       "churn                            0.150889 -0.150448   -0.164221 -0.352229   \n",
       "female                           0.001874  0.001808   -0.010517 -0.005106   \n",
       "male                            -0.001874 -0.001808    0.010517  0.005106   \n",
       "month_to_month                   0.138360 -0.280865   -0.231720 -0.645561   \n",
       "one_year                        -0.046262  0.082783    0.068368  0.202570   \n",
       "two_year                        -0.117000  0.248091    0.204613  0.558533   \n",
       "dsl                             -0.108322 -0.000851    0.052010  0.013274   \n",
       "fiber_optic                      0.255338  0.000304   -0.165818  0.019720   \n",
       "has_internet                     0.182742 -0.000615   -0.139812  0.039062   \n",
       "bank_transfer_(automatic)       -0.016159  0.110706    0.052021  0.243510   \n",
       "credit_card_(automatic)         -0.024135  0.082029    0.060267  0.233006   \n",
       "electronic_check                 0.171718 -0.083852   -0.150642 -0.208363   \n",
       "mailed_check                    -0.153477 -0.095125    0.059071 -0.233852   \n",
       "\n",
       "                           phone_service  multiple_lines  online_security  \\\n",
       "senior_citizen                  0.008576        0.113791        -0.208709   \n",
       "partner                         0.017706        0.117307         0.056157   \n",
       "dependents                     -0.001762       -0.019657         0.179614   \n",
       "tenure                          0.008448        0.258958         0.085500   \n",
       "phone_service                   1.000000        0.675070         0.146522   \n",
       "multiple_lines                  0.675070        1.000000        -0.074857   \n",
       "online_security                 0.146522       -0.074857         1.000000   \n",
       "online_backup                   0.164540       -0.034674         0.884432   \n",
       "device_protection               0.156631       -0.038667         0.883200   \n",
       "tech_support                    0.145215       -0.074777         0.902492   \n",
       "streaming_tv                    0.179510       -0.009755         0.861988   \n",
       "streaming_movies                0.175257       -0.011171         0.863460   \n",
       "paperless_billing               0.016505        0.133255        -0.341703   \n",
       "monthly_charges                 0.247398        0.490700        -0.694378   \n",
       "total_charges                   0.113214        0.412104        -0.238096   \n",
       "churn                           0.011942        0.036310        -0.307989   \n",
       "female                          0.006488        0.009451         0.000214   \n",
       "male                           -0.006488       -0.009451        -0.000214   \n",
       "month_to_month                 -0.000742       -0.068119        -0.327446   \n",
       "one_year                       -0.002791       -0.004199         0.079135   \n",
       "two_year                        0.003519        0.083266         0.305769   \n",
       "dsl                            -0.452425       -0.361806        -0.278888   \n",
       "fiber_optic                     0.289999        0.414749        -0.505673   \n",
       "has_internet                   -0.172209        0.082560        -0.930746   \n",
       "bank_transfer_(automatic)       0.007556        0.061513         0.034667   \n",
       "credit_card_(automatic)        -0.007721        0.042590         0.045975   \n",
       "electronic_check                0.003062        0.065663        -0.345600   \n",
       "mailed_check                   -0.003319       -0.176117         0.309323   \n",
       "\n",
       "                           online_backup  device_protection  tech_support  \\\n",
       "senior_citizen                 -0.170002          -0.172926     -0.217566   \n",
       "partner                         0.059540           0.064584      0.047420   \n",
       "dependents                      0.161106           0.157003      0.173036   \n",
       "tenure                          0.107643           0.107656      0.084902   \n",
       "phone_service                   0.164540           0.156631      0.145215   \n",
       "multiple_lines                 -0.034674          -0.038667     -0.074777   \n",
       "online_security                 0.884432           0.883200      0.902492   \n",
       "online_backup                   1.000000           0.879558      0.885567   \n",
       "device_protection               0.879558           1.000000      0.892017   \n",
       "tech_support                    0.885567           0.892017      1.000000   \n",
       "streaming_tv                    0.870863           0.890560      0.878497   \n",
       "streaming_movies                0.869091           0.892252      0.878355   \n",
       "paperless_billing              -0.294559          -0.304018     -0.325920   \n",
       "monthly_charges                -0.642246          -0.625126     -0.678497   \n",
       "total_charges                  -0.194061          -0.188831     -0.229898   \n",
       "churn                          -0.280770          -0.273951     -0.306032   \n",
       "female                         -0.000788          -0.005642     -0.002805   \n",
       "male                            0.000788           0.005642      0.002805   \n",
       "month_to_month                 -0.304844          -0.330240     -0.343202   \n",
       "one_year                        0.075950           0.083700      0.077659   \n",
       "two_year                        0.282497           0.304677      0.325508   \n",
       "dsl                            -0.346101          -0.350834     -0.281927   \n",
       "fiber_optic                    -0.434998          -0.430560     -0.502320   \n",
       "has_internet                   -0.923087          -0.923197     -0.930210   \n",
       "bank_transfer_(automatic)       0.033914           0.032260      0.037218   \n",
       "credit_card_(automatic)         0.038887           0.047479      0.046797   \n",
       "electronic_check               -0.308409          -0.309516     -0.347130   \n",
       "mailed_check                    0.275201           0.269657      0.307727   \n",
       "\n",
       "                           ...  month_to_month  one_year  two_year       dsl  \\\n",
       "senior_citizen             ...        0.138360 -0.046262 -0.117000 -0.108322   \n",
       "partner                    ...       -0.280865  0.082783  0.248091 -0.000851   \n",
       "dependents                 ...       -0.231720  0.068368  0.204613  0.052010   \n",
       "tenure                     ...       -0.645561  0.202570  0.558533  0.013274   \n",
       "phone_service              ...       -0.000742 -0.002791  0.003519 -0.452425   \n",
       "multiple_lines             ...       -0.068119 -0.004199  0.083266 -0.361806   \n",
       "online_security            ...       -0.327446  0.079135  0.305769 -0.278888   \n",
       "online_backup              ...       -0.304844  0.075950  0.282497 -0.346101   \n",
       "device_protection          ...       -0.330240  0.083700  0.304677 -0.350834   \n",
       "tech_support               ...       -0.343202  0.077659  0.325508 -0.281927   \n",
       "streaming_tv               ...       -0.288878  0.068423  0.271077 -0.411316   \n",
       "streaming_movies           ...       -0.291285  0.070010  0.272369 -0.407834   \n",
       "paperless_billing          ...        0.169096 -0.051391 -0.147889 -0.063121   \n",
       "monthly_charges            ...        0.060165  0.004904 -0.074681 -0.160189   \n",
       "total_charges              ...       -0.444255  0.170814  0.354481 -0.052469   \n",
       "churn                      ...        0.405103 -0.177820 -0.302253 -0.124214   \n",
       "female                     ...        0.003386 -0.008026  0.003695 -0.006568   \n",
       "male                       ...       -0.003386  0.008026 -0.003695  0.006568   \n",
       "month_to_month             ...        1.000000 -0.568744 -0.622633 -0.065509   \n",
       "one_year                   ...       -0.568744  1.000000 -0.289510  0.046795   \n",
       "two_year                   ...       -0.622633 -0.289510  1.000000  0.031714   \n",
       "dsl                        ...       -0.065509  0.046795  0.031714  1.000000   \n",
       "fiber_optic                ...        0.244164 -0.076324 -0.211526 -0.640987   \n",
       "has_internet               ...        0.218639 -0.038004 -0.218278  0.380635   \n",
       "bank_transfer_(automatic)  ...       -0.179707  0.057451  0.154471  0.025476   \n",
       "credit_card_(automatic)    ...       -0.204145  0.067589  0.173265  0.051438   \n",
       "electronic_check           ...        0.331661 -0.109130 -0.282138 -0.104418   \n",
       "mailed_check               ...        0.004138 -0.000116 -0.004705  0.041899   \n",
       "\n",
       "                           fiber_optic  has_internet  \\\n",
       "senior_citizen                0.255338      0.182742   \n",
       "partner                       0.000304     -0.000615   \n",
       "dependents                   -0.165818     -0.139812   \n",
       "tenure                        0.019720      0.039062   \n",
       "phone_service                 0.289999     -0.172209   \n",
       "multiple_lines                0.414749      0.082560   \n",
       "online_security              -0.505673     -0.930746   \n",
       "online_backup                -0.434998     -0.923087   \n",
       "device_protection            -0.430560     -0.923197   \n",
       "tech_support                 -0.502320     -0.930210   \n",
       "streaming_tv                 -0.369480     -0.919337   \n",
       "streaming_movies             -0.372583     -0.919061   \n",
       "paperless_billing             0.326853      0.321013   \n",
       "monthly_charges               0.787066      0.763557   \n",
       "total_charges                 0.361655      0.375223   \n",
       "churn                         0.308020      0.227890   \n",
       "female                        0.011286      0.006026   \n",
       "male                         -0.011286     -0.006026   \n",
       "month_to_month                0.244164      0.218639   \n",
       "one_year                     -0.076324     -0.038004   \n",
       "two_year                     -0.211526     -0.218278   \n",
       "dsl                          -0.640987      0.380635   \n",
       "fiber_optic                   1.000000      0.465793   \n",
       "has_internet                  0.465793      1.000000   \n",
       "bank_transfer_(automatic)    -0.022624      0.002113   \n",
       "credit_card_(automatic)      -0.050077     -0.001030   \n",
       "electronic_check              0.336410      0.284917   \n",
       "mailed_check                 -0.306834     -0.321361   \n",
       "\n",
       "                           bank_transfer_(automatic)  credit_card_(automatic)  \\\n",
       "senior_citizen                             -0.016159                -0.024135   \n",
       "partner                                     0.110706                 0.082029   \n",
       "dependents                                  0.052021                 0.060267   \n",
       "tenure                                      0.243510                 0.233006   \n",
       "phone_service                               0.007556                -0.007721   \n",
       "multiple_lines                              0.061513                 0.042590   \n",
       "online_security                             0.034667                 0.045975   \n",
       "online_backup                               0.033914                 0.038887   \n",
       "device_protection                           0.032260                 0.047479   \n",
       "tech_support                                0.037218                 0.046797   \n",
       "streaming_tv                                0.017685                 0.018623   \n",
       "streaming_movies                            0.018788                 0.022214   \n",
       "paperless_billing                          -0.016332                -0.013589   \n",
       "monthly_charges                             0.042812                 0.030550   \n",
       "total_charges                               0.185987                 0.182915   \n",
       "churn                                      -0.117937                -0.134302   \n",
       "female                                      0.016024                -0.001215   \n",
       "male                                       -0.016024                 0.001215   \n",
       "month_to_month                             -0.179707                -0.204145   \n",
       "one_year                                    0.057451                 0.067589   \n",
       "two_year                                    0.154471                 0.173265   \n",
       "dsl                                         0.025476                 0.051438   \n",
       "fiber_optic                                -0.022624                -0.050077   \n",
       "has_internet                                0.002113                -0.001030   \n",
       "bank_transfer_(automatic)                   1.000000                -0.278215   \n",
       "credit_card_(automatic)                    -0.278215                 1.000000   \n",
       "electronic_check                           -0.376762                -0.373322   \n",
       "mailed_check                               -0.288685                -0.286049   \n",
       "\n",
       "                           electronic_check  mailed_check  \n",
       "senior_citizen                     0.171718     -0.153477  \n",
       "partner                           -0.083852     -0.095125  \n",
       "dependents                        -0.150642      0.059071  \n",
       "tenure                            -0.208363     -0.233852  \n",
       "phone_service                      0.003062     -0.003319  \n",
       "multiple_lines                     0.065663     -0.176117  \n",
       "online_security                   -0.345600      0.309323  \n",
       "online_backup                     -0.308409      0.275201  \n",
       "device_protection                 -0.309516      0.269657  \n",
       "tech_support                      -0.347130      0.307727  \n",
       "streaming_tv                      -0.250588      0.246037  \n",
       "streaming_movies                  -0.253750      0.244987  \n",
       "paperless_billing                  0.208865     -0.205398  \n",
       "monthly_charges                    0.271625     -0.377437  \n",
       "total_charges                     -0.059246     -0.295758  \n",
       "churn                              0.301919     -0.091683  \n",
       "female                            -0.000752     -0.013744  \n",
       "male                               0.000752      0.013744  \n",
       "month_to_month                     0.331661      0.004138  \n",
       "one_year                          -0.109130     -0.000116  \n",
       "two_year                          -0.282138     -0.004705  \n",
       "dsl                               -0.104418      0.041899  \n",
       "fiber_optic                        0.336410     -0.306834  \n",
       "has_internet                       0.284917     -0.321361  \n",
       "bank_transfer_(automatic)         -0.376762     -0.288685  \n",
       "credit_card_(automatic)           -0.373322     -0.286049  \n",
       "electronic_check                   1.000000     -0.387372  \n",
       "mailed_check                      -0.387372      1.000000  \n",
       "\n",
       "[28 rows x 28 columns]"
      ]
     },
     "execution_count": 29,
     "metadata": {},
     "output_type": "execute_result"
    }
   ],
   "source": [
    "df_corr"
   ]
  },
  {
   "cell_type": "code",
   "execution_count": null,
   "metadata": {},
   "outputs": [],
   "source": [
    "df_corr.shape"
   ]
  },
  {
   "cell_type": "code",
   "execution_count": 30,
   "metadata": {},
   "outputs": [
    {
     "data": {
      "text/plain": [
       "senior_citizen               0.150889\n",
       "partner                     -0.150448\n",
       "dependents                  -0.164221\n",
       "tenure                      -0.352229\n",
       "phone_service                0.011942\n",
       "multiple_lines               0.036310\n",
       "online_security             -0.307989\n",
       "online_backup               -0.280770\n",
       "device_protection           -0.273951\n",
       "tech_support                -0.306032\n",
       "streaming_tv                -0.223123\n",
       "streaming_movies            -0.224214\n",
       "paperless_billing            0.191825\n",
       "monthly_charges              0.193356\n",
       "total_charges               -0.198324\n",
       "churn                        1.000000\n",
       "female                       0.008612\n",
       "male                        -0.008612\n",
       "month_to_month               0.405103\n",
       "one_year                    -0.177820\n",
       "two_year                    -0.302253\n",
       "dsl                         -0.124214\n",
       "fiber_optic                  0.308020\n",
       "has_internet                 0.227890\n",
       "bank_transfer_(automatic)   -0.117937\n",
       "credit_card_(automatic)     -0.134302\n",
       "electronic_check             0.301919\n",
       "mailed_check                -0.091683\n",
       "Name: churn, dtype: float64"
      ]
     },
     "execution_count": 30,
     "metadata": {},
     "output_type": "execute_result"
    }
   ],
   "source": [
    "# I just wat to see churn\n",
    "df_corr['churn']"
   ]
  },
  {
   "cell_type": "code",
   "execution_count": 31,
   "metadata": {},
   "outputs": [
    {
     "data": {
      "text/plain": [
       "churn                        1.000000\n",
       "month_to_month               0.405103\n",
       "fiber_optic                  0.308020\n",
       "electronic_check             0.301919\n",
       "has_internet                 0.227890\n",
       "monthly_charges              0.193356\n",
       "paperless_billing            0.191825\n",
       "senior_citizen               0.150889\n",
       "multiple_lines               0.036310\n",
       "phone_service                0.011942\n",
       "female                       0.008612\n",
       "male                        -0.008612\n",
       "mailed_check                -0.091683\n",
       "bank_transfer_(automatic)   -0.117937\n",
       "dsl                         -0.124214\n",
       "credit_card_(automatic)     -0.134302\n",
       "partner                     -0.150448\n",
       "dependents                  -0.164221\n",
       "one_year                    -0.177820\n",
       "total_charges               -0.198324\n",
       "streaming_tv                -0.223123\n",
       "streaming_movies            -0.224214\n",
       "device_protection           -0.273951\n",
       "online_backup               -0.280770\n",
       "two_year                    -0.302253\n",
       "tech_support                -0.306032\n",
       "online_security             -0.307989\n",
       "tenure                      -0.352229\n",
       "Name: churn, dtype: float64"
      ]
     },
     "execution_count": 31,
     "metadata": {},
     "output_type": "execute_result"
    }
   ],
   "source": [
    "df_corr['churn'].sort_values(ascending=False)"
   ]
  },
  {
   "cell_type": "code",
   "execution_count": 55,
   "metadata": {},
   "outputs": [
    {
     "data": {
      "text/html": [
       "<div>\n",
       "<style scoped>\n",
       "    .dataframe tbody tr th:only-of-type {\n",
       "        vertical-align: middle;\n",
       "    }\n",
       "\n",
       "    .dataframe tbody tr th {\n",
       "        vertical-align: top;\n",
       "    }\n",
       "\n",
       "    .dataframe thead th {\n",
       "        text-align: right;\n",
       "    }\n",
       "</style>\n",
       "<table border=\"1\" class=\"dataframe\">\n",
       "  <thead>\n",
       "    <tr style=\"text-align: right;\">\n",
       "      <th></th>\n",
       "      <th>count</th>\n",
       "      <th>mean</th>\n",
       "      <th>std</th>\n",
       "      <th>min</th>\n",
       "      <th>25%</th>\n",
       "      <th>50%</th>\n",
       "      <th>75%</th>\n",
       "      <th>max</th>\n",
       "    </tr>\n",
       "  </thead>\n",
       "  <tbody>\n",
       "    <tr>\n",
       "      <th>senior_citizen</th>\n",
       "      <td>7043.0</td>\n",
       "      <td>0.162147</td>\n",
       "      <td>0.368612</td>\n",
       "      <td>0.00</td>\n",
       "      <td>0.00</td>\n",
       "      <td>0.00</td>\n",
       "      <td>0.00</td>\n",
       "      <td>1.00</td>\n",
       "    </tr>\n",
       "    <tr>\n",
       "      <th>partner</th>\n",
       "      <td>7043.0</td>\n",
       "      <td>0.483033</td>\n",
       "      <td>0.499748</td>\n",
       "      <td>0.00</td>\n",
       "      <td>0.00</td>\n",
       "      <td>0.00</td>\n",
       "      <td>1.00</td>\n",
       "      <td>1.00</td>\n",
       "    </tr>\n",
       "    <tr>\n",
       "      <th>dependents</th>\n",
       "      <td>7043.0</td>\n",
       "      <td>0.299588</td>\n",
       "      <td>0.458110</td>\n",
       "      <td>0.00</td>\n",
       "      <td>0.00</td>\n",
       "      <td>0.00</td>\n",
       "      <td>1.00</td>\n",
       "      <td>1.00</td>\n",
       "    </tr>\n",
       "    <tr>\n",
       "      <th>tenure</th>\n",
       "      <td>7043.0</td>\n",
       "      <td>32.371149</td>\n",
       "      <td>24.559481</td>\n",
       "      <td>0.00</td>\n",
       "      <td>9.00</td>\n",
       "      <td>29.00</td>\n",
       "      <td>55.00</td>\n",
       "      <td>72.00</td>\n",
       "    </tr>\n",
       "    <tr>\n",
       "      <th>phone_service</th>\n",
       "      <td>7043.0</td>\n",
       "      <td>0.903166</td>\n",
       "      <td>0.295752</td>\n",
       "      <td>0.00</td>\n",
       "      <td>1.00</td>\n",
       "      <td>1.00</td>\n",
       "      <td>1.00</td>\n",
       "      <td>1.00</td>\n",
       "    </tr>\n",
       "    <tr>\n",
       "      <th>multiple_lines</th>\n",
       "      <td>7043.0</td>\n",
       "      <td>1.325004</td>\n",
       "      <td>0.642730</td>\n",
       "      <td>0.00</td>\n",
       "      <td>1.00</td>\n",
       "      <td>1.00</td>\n",
       "      <td>2.00</td>\n",
       "      <td>2.00</td>\n",
       "    </tr>\n",
       "    <tr>\n",
       "      <th>online_security</th>\n",
       "      <td>7043.0</td>\n",
       "      <td>0.936675</td>\n",
       "      <td>1.165986</td>\n",
       "      <td>0.00</td>\n",
       "      <td>0.00</td>\n",
       "      <td>1.00</td>\n",
       "      <td>1.00</td>\n",
       "      <td>3.00</td>\n",
       "    </tr>\n",
       "    <tr>\n",
       "      <th>online_backup</th>\n",
       "      <td>7043.0</td>\n",
       "      <td>0.994889</td>\n",
       "      <td>1.142491</td>\n",
       "      <td>0.00</td>\n",
       "      <td>0.00</td>\n",
       "      <td>1.00</td>\n",
       "      <td>1.00</td>\n",
       "      <td>3.00</td>\n",
       "    </tr>\n",
       "    <tr>\n",
       "      <th>device_protection</th>\n",
       "      <td>7043.0</td>\n",
       "      <td>0.993895</td>\n",
       "      <td>1.142921</td>\n",
       "      <td>0.00</td>\n",
       "      <td>0.00</td>\n",
       "      <td>1.00</td>\n",
       "      <td>1.00</td>\n",
       "      <td>3.00</td>\n",
       "    </tr>\n",
       "    <tr>\n",
       "      <th>tech_support</th>\n",
       "      <td>7043.0</td>\n",
       "      <td>0.940224</td>\n",
       "      <td>1.164650</td>\n",
       "      <td>0.00</td>\n",
       "      <td>0.00</td>\n",
       "      <td>1.00</td>\n",
       "      <td>1.00</td>\n",
       "      <td>3.00</td>\n",
       "    </tr>\n",
       "    <tr>\n",
       "      <th>streaming_tv</th>\n",
       "      <td>7043.0</td>\n",
       "      <td>1.034360</td>\n",
       "      <td>1.124568</td>\n",
       "      <td>0.00</td>\n",
       "      <td>0.00</td>\n",
       "      <td>1.00</td>\n",
       "      <td>1.00</td>\n",
       "      <td>3.00</td>\n",
       "    </tr>\n",
       "    <tr>\n",
       "      <th>streaming_movies</th>\n",
       "      <td>7043.0</td>\n",
       "      <td>1.037910</td>\n",
       "      <td>1.122874</td>\n",
       "      <td>0.00</td>\n",
       "      <td>0.00</td>\n",
       "      <td>1.00</td>\n",
       "      <td>1.00</td>\n",
       "      <td>3.00</td>\n",
       "    </tr>\n",
       "    <tr>\n",
       "      <th>paperless_billing</th>\n",
       "      <td>7043.0</td>\n",
       "      <td>0.592219</td>\n",
       "      <td>0.491457</td>\n",
       "      <td>0.00</td>\n",
       "      <td>0.00</td>\n",
       "      <td>1.00</td>\n",
       "      <td>1.00</td>\n",
       "      <td>1.00</td>\n",
       "    </tr>\n",
       "    <tr>\n",
       "      <th>monthly_charges</th>\n",
       "      <td>7043.0</td>\n",
       "      <td>64.761692</td>\n",
       "      <td>30.090047</td>\n",
       "      <td>18.25</td>\n",
       "      <td>35.50</td>\n",
       "      <td>70.35</td>\n",
       "      <td>89.85</td>\n",
       "      <td>118.75</td>\n",
       "    </tr>\n",
       "    <tr>\n",
       "      <th>total_charges</th>\n",
       "      <td>7043.0</td>\n",
       "      <td>2279.734304</td>\n",
       "      <td>2266.794470</td>\n",
       "      <td>0.00</td>\n",
       "      <td>398.55</td>\n",
       "      <td>1394.55</td>\n",
       "      <td>3786.60</td>\n",
       "      <td>8684.80</td>\n",
       "    </tr>\n",
       "    <tr>\n",
       "      <th>churn</th>\n",
       "      <td>7043.0</td>\n",
       "      <td>0.265370</td>\n",
       "      <td>0.441561</td>\n",
       "      <td>0.00</td>\n",
       "      <td>0.00</td>\n",
       "      <td>0.00</td>\n",
       "      <td>1.00</td>\n",
       "      <td>1.00</td>\n",
       "    </tr>\n",
       "    <tr>\n",
       "      <th>female</th>\n",
       "      <td>7043.0</td>\n",
       "      <td>0.495244</td>\n",
       "      <td>0.500013</td>\n",
       "      <td>0.00</td>\n",
       "      <td>0.00</td>\n",
       "      <td>0.00</td>\n",
       "      <td>1.00</td>\n",
       "      <td>1.00</td>\n",
       "    </tr>\n",
       "    <tr>\n",
       "      <th>male</th>\n",
       "      <td>7043.0</td>\n",
       "      <td>0.504756</td>\n",
       "      <td>0.500013</td>\n",
       "      <td>0.00</td>\n",
       "      <td>0.00</td>\n",
       "      <td>1.00</td>\n",
       "      <td>1.00</td>\n",
       "      <td>1.00</td>\n",
       "    </tr>\n",
       "    <tr>\n",
       "      <th>month_to_month</th>\n",
       "      <td>7043.0</td>\n",
       "      <td>0.550192</td>\n",
       "      <td>0.497510</td>\n",
       "      <td>0.00</td>\n",
       "      <td>0.00</td>\n",
       "      <td>1.00</td>\n",
       "      <td>1.00</td>\n",
       "      <td>1.00</td>\n",
       "    </tr>\n",
       "    <tr>\n",
       "      <th>one_year</th>\n",
       "      <td>7043.0</td>\n",
       "      <td>0.209144</td>\n",
       "      <td>0.406726</td>\n",
       "      <td>0.00</td>\n",
       "      <td>0.00</td>\n",
       "      <td>0.00</td>\n",
       "      <td>0.00</td>\n",
       "      <td>1.00</td>\n",
       "    </tr>\n",
       "    <tr>\n",
       "      <th>two_year</th>\n",
       "      <td>7043.0</td>\n",
       "      <td>0.240664</td>\n",
       "      <td>0.427517</td>\n",
       "      <td>0.00</td>\n",
       "      <td>0.00</td>\n",
       "      <td>0.00</td>\n",
       "      <td>0.00</td>\n",
       "      <td>1.00</td>\n",
       "    </tr>\n",
       "    <tr>\n",
       "      <th>dsl</th>\n",
       "      <td>7043.0</td>\n",
       "      <td>0.343746</td>\n",
       "      <td>0.474991</td>\n",
       "      <td>0.00</td>\n",
       "      <td>0.00</td>\n",
       "      <td>0.00</td>\n",
       "      <td>1.00</td>\n",
       "      <td>1.00</td>\n",
       "    </tr>\n",
       "    <tr>\n",
       "      <th>fiber_optic</th>\n",
       "      <td>7043.0</td>\n",
       "      <td>0.439585</td>\n",
       "      <td>0.496372</td>\n",
       "      <td>0.00</td>\n",
       "      <td>0.00</td>\n",
       "      <td>0.00</td>\n",
       "      <td>1.00</td>\n",
       "      <td>1.00</td>\n",
       "    </tr>\n",
       "    <tr>\n",
       "      <th>has_internet</th>\n",
       "      <td>7043.0</td>\n",
       "      <td>0.783331</td>\n",
       "      <td>0.412004</td>\n",
       "      <td>0.00</td>\n",
       "      <td>1.00</td>\n",
       "      <td>1.00</td>\n",
       "      <td>1.00</td>\n",
       "      <td>1.00</td>\n",
       "    </tr>\n",
       "    <tr>\n",
       "      <th>bank_transfer_(automatic)</th>\n",
       "      <td>7043.0</td>\n",
       "      <td>0.219225</td>\n",
       "      <td>0.413751</td>\n",
       "      <td>0.00</td>\n",
       "      <td>0.00</td>\n",
       "      <td>0.00</td>\n",
       "      <td>0.00</td>\n",
       "      <td>1.00</td>\n",
       "    </tr>\n",
       "    <tr>\n",
       "      <th>credit_card_(automatic)</th>\n",
       "      <td>7043.0</td>\n",
       "      <td>0.216101</td>\n",
       "      <td>0.411613</td>\n",
       "      <td>0.00</td>\n",
       "      <td>0.00</td>\n",
       "      <td>0.00</td>\n",
       "      <td>0.00</td>\n",
       "      <td>1.00</td>\n",
       "    </tr>\n",
       "    <tr>\n",
       "      <th>electronic_check</th>\n",
       "      <td>7043.0</td>\n",
       "      <td>0.335794</td>\n",
       "      <td>0.472301</td>\n",
       "      <td>0.00</td>\n",
       "      <td>0.00</td>\n",
       "      <td>0.00</td>\n",
       "      <td>1.00</td>\n",
       "      <td>1.00</td>\n",
       "    </tr>\n",
       "    <tr>\n",
       "      <th>mailed_check</th>\n",
       "      <td>7043.0</td>\n",
       "      <td>0.228880</td>\n",
       "      <td>0.420141</td>\n",
       "      <td>0.00</td>\n",
       "      <td>0.00</td>\n",
       "      <td>0.00</td>\n",
       "      <td>0.00</td>\n",
       "      <td>1.00</td>\n",
       "    </tr>\n",
       "  </tbody>\n",
       "</table>\n",
       "</div>"
      ],
      "text/plain": [
       "                            count         mean          std    min     25%  \\\n",
       "senior_citizen             7043.0     0.162147     0.368612   0.00    0.00   \n",
       "partner                    7043.0     0.483033     0.499748   0.00    0.00   \n",
       "dependents                 7043.0     0.299588     0.458110   0.00    0.00   \n",
       "tenure                     7043.0    32.371149    24.559481   0.00    9.00   \n",
       "phone_service              7043.0     0.903166     0.295752   0.00    1.00   \n",
       "multiple_lines             7043.0     1.325004     0.642730   0.00    1.00   \n",
       "online_security            7043.0     0.936675     1.165986   0.00    0.00   \n",
       "online_backup              7043.0     0.994889     1.142491   0.00    0.00   \n",
       "device_protection          7043.0     0.993895     1.142921   0.00    0.00   \n",
       "tech_support               7043.0     0.940224     1.164650   0.00    0.00   \n",
       "streaming_tv               7043.0     1.034360     1.124568   0.00    0.00   \n",
       "streaming_movies           7043.0     1.037910     1.122874   0.00    0.00   \n",
       "paperless_billing          7043.0     0.592219     0.491457   0.00    0.00   \n",
       "monthly_charges            7043.0    64.761692    30.090047  18.25   35.50   \n",
       "total_charges              7043.0  2279.734304  2266.794470   0.00  398.55   \n",
       "churn                      7043.0     0.265370     0.441561   0.00    0.00   \n",
       "female                     7043.0     0.495244     0.500013   0.00    0.00   \n",
       "male                       7043.0     0.504756     0.500013   0.00    0.00   \n",
       "month_to_month             7043.0     0.550192     0.497510   0.00    0.00   \n",
       "one_year                   7043.0     0.209144     0.406726   0.00    0.00   \n",
       "two_year                   7043.0     0.240664     0.427517   0.00    0.00   \n",
       "dsl                        7043.0     0.343746     0.474991   0.00    0.00   \n",
       "fiber_optic                7043.0     0.439585     0.496372   0.00    0.00   \n",
       "has_internet               7043.0     0.783331     0.412004   0.00    1.00   \n",
       "bank_transfer_(automatic)  7043.0     0.219225     0.413751   0.00    0.00   \n",
       "credit_card_(automatic)    7043.0     0.216101     0.411613   0.00    0.00   \n",
       "electronic_check           7043.0     0.335794     0.472301   0.00    0.00   \n",
       "mailed_check               7043.0     0.228880     0.420141   0.00    0.00   \n",
       "\n",
       "                               50%      75%      max  \n",
       "senior_citizen                0.00     0.00     1.00  \n",
       "partner                       0.00     1.00     1.00  \n",
       "dependents                    0.00     1.00     1.00  \n",
       "tenure                       29.00    55.00    72.00  \n",
       "phone_service                 1.00     1.00     1.00  \n",
       "multiple_lines                1.00     2.00     2.00  \n",
       "online_security               1.00     1.00     3.00  \n",
       "online_backup                 1.00     1.00     3.00  \n",
       "device_protection             1.00     1.00     3.00  \n",
       "tech_support                  1.00     1.00     3.00  \n",
       "streaming_tv                  1.00     1.00     3.00  \n",
       "streaming_movies              1.00     1.00     3.00  \n",
       "paperless_billing             1.00     1.00     1.00  \n",
       "monthly_charges              70.35    89.85   118.75  \n",
       "total_charges              1394.55  3786.60  8684.80  \n",
       "churn                         0.00     1.00     1.00  \n",
       "female                        0.00     1.00     1.00  \n",
       "male                          1.00     1.00     1.00  \n",
       "month_to_month                1.00     1.00     1.00  \n",
       "one_year                      0.00     0.00     1.00  \n",
       "two_year                      0.00     0.00     1.00  \n",
       "dsl                           0.00     1.00     1.00  \n",
       "fiber_optic                   0.00     1.00     1.00  \n",
       "has_internet                  1.00     1.00     1.00  \n",
       "bank_transfer_(automatic)     0.00     0.00     1.00  \n",
       "credit_card_(automatic)       0.00     0.00     1.00  \n",
       "electronic_check              0.00     1.00     1.00  \n",
       "mailed_check                  0.00     0.00     1.00  "
      ]
     },
     "execution_count": 55,
     "metadata": {},
     "output_type": "execute_result"
    }
   ],
   "source": [
    "df_clean.describe().T"
   ]
  },
  {
   "cell_type": "code",
   "execution_count": 57,
   "metadata": {},
   "outputs": [
    {
     "data": {
      "text/plain": [
       "3488"
      ]
     },
     "execution_count": 57,
     "metadata": {},
     "output_type": "execute_result"
    }
   ],
   "source": [
    "df_clean['female'].sum()"
   ]
  },
  {
   "cell_type": "code",
   "execution_count": 58,
   "metadata": {},
   "outputs": [
    {
     "data": {
      "text/plain": [
       "3555"
      ]
     },
     "execution_count": 58,
     "metadata": {},
     "output_type": "execute_result"
    }
   ],
   "source": [
    "df_clean['male'].sum()"
   ]
  },
  {
   "cell_type": "code",
   "execution_count": 59,
   "metadata": {},
   "outputs": [
    {
     "data": {
      "text/plain": [
       "1142"
      ]
     },
     "execution_count": 59,
     "metadata": {},
     "output_type": "execute_result"
    }
   ],
   "source": [
    "df_clean['senior_citizen'].sum()"
   ]
  },
  {
   "cell_type": "code",
   "execution_count": 62,
   "metadata": {
    "scrolled": true
   },
   "outputs": [
    {
     "data": {
      "text/plain": [
       "Index(['customer_id', 'senior_citizen', 'partner', 'dependents', 'tenure',\n",
       "       'phone_service', 'multiple_lines', 'online_security', 'online_backup',\n",
       "       'device_protection', 'tech_support', 'streaming_tv', 'streaming_movies',\n",
       "       'paperless_billing', 'monthly_charges', 'total_charges', 'churn',\n",
       "       'female', 'male', 'month_to_month', 'one_year', 'two_year', 'dsl',\n",
       "       'fiber_optic', 'has_internet', 'bank_transfer_(automatic)',\n",
       "       'credit_card_(automatic)', 'electronic_check', 'mailed_check'],\n",
       "      dtype='object')"
      ]
     },
     "execution_count": 62,
     "metadata": {},
     "output_type": "execute_result"
    }
   ],
   "source": [
    "df_clean.columns"
   ]
  },
  {
   "cell_type": "code",
   "execution_count": null,
   "metadata": {},
   "outputs": [],
   "source": [
    "df_clean"
   ]
  },
  {
   "cell_type": "code",
   "execution_count": 65,
   "metadata": {},
   "outputs": [
    {
     "data": {
      "image/png": "[encoded data removed]",
      "text/plain": [
       "<Figure size 432x288 with 1 Axes>"
      ]
     },
     "metadata": {
      "needs_background": "light"
     },
     "output_type": "display_data"
    }
   ],
   "source": []
  },
  {
   "cell_type": "code",
   "execution_count": null,
   "metadata": {},
   "outputs": [],
   "source": []
  },
  {
   "cell_type": "markdown",
   "metadata": {},
   "source": [
    "## Split"
   ]
  },
  {
   "cell_type": "code",
   "execution_count": 35,
   "metadata": {},
   "outputs": [],
   "source": [
    "def split_data(df):\n",
    "    '''\n",
    "    take in a DataFrame and return train, validate, and test DataFrames; stratify on survived.\n",
    "    return train, validate, test DataFrames.\n",
    "    '''\n",
    "    train_validate, test = train_test_split(df, test_size=.2, random_state=123, stratify=df.churn)\n",
    "    train, validate = train_test_split(train_validate, \n",
    "                                       test_size=.3, \n",
    "                                       random_state=123, \n",
    "                                       stratify=train_validate.churn)\n",
    "    return train, validate, test"
   ]
  },
  {
   "cell_type": "code",
   "execution_count": 105,
   "metadata": {},
   "outputs": [],
   "source": [
    "train, validate, test = split_data(df_clean)"
   ]
  },
  {
   "cell_type": "code",
   "execution_count": 106,
   "metadata": {},
   "outputs": [
    {
     "data": {
      "text/plain": [
       "(7043, 29)"
      ]
     },
     "execution_count": 106,
     "metadata": {},
     "output_type": "execute_result"
    }
   ],
   "source": [
    "df_clean.shape"
   ]
  },
  {
   "cell_type": "code",
   "execution_count": 107,
   "metadata": {},
   "outputs": [
    {
     "data": {
      "text/plain": [
       "((3943, 29), (1691, 29), (1409, 29))"
      ]
     },
     "execution_count": 107,
     "metadata": {},
     "output_type": "execute_result"
    }
   ],
   "source": [
    "train.shape, validate.shape, test.shape"
   ]
  },
  {
   "cell_type": "markdown",
   "metadata": {},
   "source": [
    "# Explore"
   ]
  },
  {
   "cell_type": "code",
   "execution_count": 108,
   "metadata": {},
   "outputs": [],
   "source": [
    "#calculate corr\n",
    "train_corr = train.corr()"
   ]
  },
  {
   "cell_type": "code",
   "execution_count": 109,
   "metadata": {},
   "outputs": [
    {
     "data": {
      "text/html": [
       "<div>\n",
       "<style scoped>\n",
       "    .dataframe tbody tr th:only-of-type {\n",
       "        vertical-align: middle;\n",
       "    }\n",
       "\n",
       "    .dataframe tbody tr th {\n",
       "        vertical-align: top;\n",
       "    }\n",
       "\n",
       "    .dataframe thead th {\n",
       "        text-align: right;\n",
       "    }\n",
       "</style>\n",
       "<table border=\"1\" class=\"dataframe\">\n",
       "  <thead>\n",
       "    <tr style=\"text-align: right;\">\n",
       "      <th></th>\n",
       "      <th>senior_citizen</th>\n",
       "      <th>partner</th>\n",
       "      <th>dependents</th>\n",
       "      <th>tenure</th>\n",
       "      <th>phone_service</th>\n",
       "      <th>multiple_lines</th>\n",
       "      <th>online_security</th>\n",
       "      <th>online_backup</th>\n",
       "      <th>device_protection</th>\n",
       "      <th>tech_support</th>\n",
       "      <th>...</th>\n",
       "      <th>month_to_month</th>\n",
       "      <th>one_year</th>\n",
       "      <th>two_year</th>\n",
       "      <th>dsl</th>\n",
       "      <th>fiber_optic</th>\n",
       "      <th>has_internet</th>\n",
       "      <th>bank_transfer_(automatic)</th>\n",
       "      <th>credit_card_(automatic)</th>\n",
       "      <th>electronic_check</th>\n",
       "      <th>mailed_check</th>\n",
       "    </tr>\n",
       "  </thead>\n",
       "  <tbody>\n",
       "    <tr>\n",
       "      <th>senior_citizen</th>\n",
       "      <td>1.000000</td>\n",
       "      <td>0.021704</td>\n",
       "      <td>-0.201859</td>\n",
       "      <td>0.007666</td>\n",
       "      <td>0.017884</td>\n",
       "      <td>0.113170</td>\n",
       "      <td>-0.223637</td>\n",
       "      <td>-0.180790</td>\n",
       "      <td>-0.184644</td>\n",
       "      <td>-0.233621</td>\n",
       "      <td>...</td>\n",
       "      <td>0.157663</td>\n",
       "      <td>-0.051119</td>\n",
       "      <td>-0.134109</td>\n",
       "      <td>-0.120798</td>\n",
       "      <td>0.273674</td>\n",
       "      <td>0.191692</td>\n",
       "      <td>-0.015985</td>\n",
       "      <td>-0.012184</td>\n",
       "      <td>0.173069</td>\n",
       "      <td>-0.167323</td>\n",
       "    </tr>\n",
       "    <tr>\n",
       "      <th>partner</th>\n",
       "      <td>0.021704</td>\n",
       "      <td>1.000000</td>\n",
       "      <td>0.463617</td>\n",
       "      <td>0.366470</td>\n",
       "      <td>0.041129</td>\n",
       "      <td>0.138106</td>\n",
       "      <td>0.062610</td>\n",
       "      <td>0.063210</td>\n",
       "      <td>0.065330</td>\n",
       "      <td>0.045711</td>\n",
       "      <td>...</td>\n",
       "      <td>-0.268490</td>\n",
       "      <td>0.070877</td>\n",
       "      <td>0.243511</td>\n",
       "      <td>-0.010031</td>\n",
       "      <td>0.005104</td>\n",
       "      <td>-0.005469</td>\n",
       "      <td>0.094710</td>\n",
       "      <td>0.084683</td>\n",
       "      <td>-0.078225</td>\n",
       "      <td>-0.089288</td>\n",
       "    </tr>\n",
       "    <tr>\n",
       "      <th>dependents</th>\n",
       "      <td>-0.201859</td>\n",
       "      <td>0.463617</td>\n",
       "      <td>1.000000</td>\n",
       "      <td>0.160178</td>\n",
       "      <td>0.000945</td>\n",
       "      <td>-0.009975</td>\n",
       "      <td>0.190725</td>\n",
       "      <td>0.170296</td>\n",
       "      <td>0.163513</td>\n",
       "      <td>0.182896</td>\n",
       "      <td>...</td>\n",
       "      <td>-0.236495</td>\n",
       "      <td>0.062744</td>\n",
       "      <td>0.214199</td>\n",
       "      <td>0.049894</td>\n",
       "      <td>-0.167655</td>\n",
       "      <td>-0.145469</td>\n",
       "      <td>0.065442</td>\n",
       "      <td>0.056857</td>\n",
       "      <td>-0.163981</td>\n",
       "      <td>0.063927</td>\n",
       "    </tr>\n",
       "    <tr>\n",
       "      <th>tenure</th>\n",
       "      <td>0.007666</td>\n",
       "      <td>0.366470</td>\n",
       "      <td>0.160178</td>\n",
       "      <td>1.000000</td>\n",
       "      <td>0.006187</td>\n",
       "      <td>0.251475</td>\n",
       "      <td>0.072982</td>\n",
       "      <td>0.096895</td>\n",
       "      <td>0.091084</td>\n",
       "      <td>0.074255</td>\n",
       "      <td>...</td>\n",
       "      <td>-0.637509</td>\n",
       "      <td>0.198606</td>\n",
       "      <td>0.549839</td>\n",
       "      <td>0.020264</td>\n",
       "      <td>0.023973</td>\n",
       "      <td>0.052663</td>\n",
       "      <td>0.229637</td>\n",
       "      <td>0.241171</td>\n",
       "      <td>-0.215684</td>\n",
       "      <td>-0.222408</td>\n",
       "    </tr>\n",
       "    <tr>\n",
       "      <th>phone_service</th>\n",
       "      <td>0.017884</td>\n",
       "      <td>0.041129</td>\n",
       "      <td>0.000945</td>\n",
       "      <td>0.006187</td>\n",
       "      <td>1.000000</td>\n",
       "      <td>0.680810</td>\n",
       "      <td>0.144817</td>\n",
       "      <td>0.172211</td>\n",
       "      <td>0.157886</td>\n",
       "      <td>0.145593</td>\n",
       "      <td>...</td>\n",
       "      <td>0.004231</td>\n",
       "      <td>-0.005385</td>\n",
       "      <td>0.000155</td>\n",
       "      <td>-0.457254</td>\n",
       "      <td>0.295699</td>\n",
       "      <td>-0.172852</td>\n",
       "      <td>-0.002827</td>\n",
       "      <td>-0.006338</td>\n",
       "      <td>0.020748</td>\n",
       "      <td>-0.014355</td>\n",
       "    </tr>\n",
       "    <tr>\n",
       "      <th>multiple_lines</th>\n",
       "      <td>0.113170</td>\n",
       "      <td>0.138106</td>\n",
       "      <td>-0.009975</td>\n",
       "      <td>0.251475</td>\n",
       "      <td>0.680810</td>\n",
       "      <td>1.000000</td>\n",
       "      <td>-0.077098</td>\n",
       "      <td>-0.029548</td>\n",
       "      <td>-0.039713</td>\n",
       "      <td>-0.074705</td>\n",
       "      <td>...</td>\n",
       "      <td>-0.063852</td>\n",
       "      <td>-0.001498</td>\n",
       "      <td>0.075081</td>\n",
       "      <td>-0.375747</td>\n",
       "      <td>0.429184</td>\n",
       "      <td>0.083952</td>\n",
       "      <td>0.063351</td>\n",
       "      <td>0.039014</td>\n",
       "      <td>0.070523</td>\n",
       "      <td>-0.180946</td>\n",
       "    </tr>\n",
       "    <tr>\n",
       "      <th>online_security</th>\n",
       "      <td>-0.223637</td>\n",
       "      <td>0.062610</td>\n",
       "      <td>0.190725</td>\n",
       "      <td>0.072982</td>\n",
       "      <td>0.144817</td>\n",
       "      <td>-0.077098</td>\n",
       "      <td>1.000000</td>\n",
       "      <td>0.880648</td>\n",
       "      <td>0.880960</td>\n",
       "      <td>0.899994</td>\n",
       "      <td>...</td>\n",
       "      <td>-0.333326</td>\n",
       "      <td>0.099498</td>\n",
       "      <td>0.291552</td>\n",
       "      <td>-0.272998</td>\n",
       "      <td>-0.503865</td>\n",
       "      <td>-0.929045</td>\n",
       "      <td>0.035474</td>\n",
       "      <td>0.040707</td>\n",
       "      <td>-0.337960</td>\n",
       "      <td>0.305863</td>\n",
       "    </tr>\n",
       "    <tr>\n",
       "      <th>online_backup</th>\n",
       "      <td>-0.180790</td>\n",
       "      <td>0.063210</td>\n",
       "      <td>0.170296</td>\n",
       "      <td>0.096895</td>\n",
       "      <td>0.172211</td>\n",
       "      <td>-0.029548</td>\n",
       "      <td>0.880648</td>\n",
       "      <td>1.000000</td>\n",
       "      <td>0.876569</td>\n",
       "      <td>0.880710</td>\n",
       "      <td>...</td>\n",
       "      <td>-0.305250</td>\n",
       "      <td>0.092452</td>\n",
       "      <td>0.265745</td>\n",
       "      <td>-0.342592</td>\n",
       "      <td>-0.430394</td>\n",
       "      <td>-0.920802</td>\n",
       "      <td>0.035530</td>\n",
       "      <td>0.034741</td>\n",
       "      <td>-0.295689</td>\n",
       "      <td>0.263997</td>\n",
       "    </tr>\n",
       "    <tr>\n",
       "      <th>device_protection</th>\n",
       "      <td>-0.184644</td>\n",
       "      <td>0.065330</td>\n",
       "      <td>0.163513</td>\n",
       "      <td>0.091084</td>\n",
       "      <td>0.157886</td>\n",
       "      <td>-0.039713</td>\n",
       "      <td>0.880960</td>\n",
       "      <td>0.876569</td>\n",
       "      <td>1.000000</td>\n",
       "      <td>0.889550</td>\n",
       "      <td>...</td>\n",
       "      <td>-0.330609</td>\n",
       "      <td>0.098942</td>\n",
       "      <td>0.288936</td>\n",
       "      <td>-0.344440</td>\n",
       "      <td>-0.428472</td>\n",
       "      <td>-0.920618</td>\n",
       "      <td>0.036868</td>\n",
       "      <td>0.038843</td>\n",
       "      <td>-0.302230</td>\n",
       "      <td>0.266008</td>\n",
       "    </tr>\n",
       "    <tr>\n",
       "      <th>tech_support</th>\n",
       "      <td>-0.233621</td>\n",
       "      <td>0.045711</td>\n",
       "      <td>0.182896</td>\n",
       "      <td>0.074255</td>\n",
       "      <td>0.145593</td>\n",
       "      <td>-0.074705</td>\n",
       "      <td>0.899994</td>\n",
       "      <td>0.880710</td>\n",
       "      <td>0.889550</td>\n",
       "      <td>1.000000</td>\n",
       "      <td>...</td>\n",
       "      <td>-0.351141</td>\n",
       "      <td>0.101329</td>\n",
       "      <td>0.310396</td>\n",
       "      <td>-0.277070</td>\n",
       "      <td>-0.498879</td>\n",
       "      <td>-0.927728</td>\n",
       "      <td>0.042540</td>\n",
       "      <td>0.031986</td>\n",
       "      <td>-0.336475</td>\n",
       "      <td>0.305737</td>\n",
       "    </tr>\n",
       "    <tr>\n",
       "      <th>streaming_tv</th>\n",
       "      <td>-0.165062</td>\n",
       "      <td>0.053448</td>\n",
       "      <td>0.148548</td>\n",
       "      <td>0.062398</td>\n",
       "      <td>0.180544</td>\n",
       "      <td>-0.011384</td>\n",
       "      <td>0.858391</td>\n",
       "      <td>0.869164</td>\n",
       "      <td>0.886540</td>\n",
       "      <td>0.876412</td>\n",
       "      <td>...</td>\n",
       "      <td>-0.279484</td>\n",
       "      <td>0.072858</td>\n",
       "      <td>0.254343</td>\n",
       "      <td>-0.411820</td>\n",
       "      <td>-0.361982</td>\n",
       "      <td>-0.918275</td>\n",
       "      <td>0.019795</td>\n",
       "      <td>0.008763</td>\n",
       "      <td>-0.235784</td>\n",
       "      <td>0.237636</td>\n",
       "    </tr>\n",
       "    <tr>\n",
       "      <th>streaming_movies</th>\n",
       "      <td>-0.153822</td>\n",
       "      <td>0.053185</td>\n",
       "      <td>0.133002</td>\n",
       "      <td>0.061627</td>\n",
       "      <td>0.178080</td>\n",
       "      <td>-0.011035</td>\n",
       "      <td>0.858938</td>\n",
       "      <td>0.866073</td>\n",
       "      <td>0.886932</td>\n",
       "      <td>0.875381</td>\n",
       "      <td>...</td>\n",
       "      <td>-0.281877</td>\n",
       "      <td>0.075803</td>\n",
       "      <td>0.254349</td>\n",
       "      <td>-0.409508</td>\n",
       "      <td>-0.363444</td>\n",
       "      <td>-0.917361</td>\n",
       "      <td>0.025220</td>\n",
       "      <td>0.013262</td>\n",
       "      <td>-0.237138</td>\n",
       "      <td>0.229341</td>\n",
       "    </tr>\n",
       "    <tr>\n",
       "      <th>paperless_billing</th>\n",
       "      <td>0.170268</td>\n",
       "      <td>-0.028135</td>\n",
       "      <td>-0.114746</td>\n",
       "      <td>-0.006974</td>\n",
       "      <td>0.021742</td>\n",
       "      <td>0.141699</td>\n",
       "      <td>-0.337421</td>\n",
       "      <td>-0.292356</td>\n",
       "      <td>-0.301727</td>\n",
       "      <td>-0.321709</td>\n",
       "      <td>...</td>\n",
       "      <td>0.185139</td>\n",
       "      <td>-0.058325</td>\n",
       "      <td>-0.159073</td>\n",
       "      <td>-0.058006</td>\n",
       "      <td>0.317130</td>\n",
       "      <td>0.317460</td>\n",
       "      <td>-0.014965</td>\n",
       "      <td>-0.020252</td>\n",
       "      <td>0.198818</td>\n",
       "      <td>-0.189443</td>\n",
       "    </tr>\n",
       "    <tr>\n",
       "      <th>monthly_charges</th>\n",
       "      <td>0.230111</td>\n",
       "      <td>0.096066</td>\n",
       "      <td>-0.117644</td>\n",
       "      <td>0.250854</td>\n",
       "      <td>0.255629</td>\n",
       "      <td>0.501492</td>\n",
       "      <td>-0.690559</td>\n",
       "      <td>-0.633451</td>\n",
       "      <td>-0.619704</td>\n",
       "      <td>-0.671290</td>\n",
       "      <td>...</td>\n",
       "      <td>0.073102</td>\n",
       "      <td>-0.027663</td>\n",
       "      <td>-0.058476</td>\n",
       "      <td>-0.169273</td>\n",
       "      <td>0.787673</td>\n",
       "      <td>0.759184</td>\n",
       "      <td>0.040693</td>\n",
       "      <td>0.043349</td>\n",
       "      <td>0.261135</td>\n",
       "      <td>-0.377666</td>\n",
       "    </tr>\n",
       "    <tr>\n",
       "      <th>total_charges</th>\n",
       "      <td>0.098212</td>\n",
       "      <td>0.306662</td>\n",
       "      <td>0.065704</td>\n",
       "      <td>0.828479</td>\n",
       "      <td>0.118415</td>\n",
       "      <td>0.415200</td>\n",
       "      <td>-0.241554</td>\n",
       "      <td>-0.194020</td>\n",
       "      <td>-0.196298</td>\n",
       "      <td>-0.229852</td>\n",
       "      <td>...</td>\n",
       "      <td>-0.435281</td>\n",
       "      <td>0.150552</td>\n",
       "      <td>0.361439</td>\n",
       "      <td>-0.056517</td>\n",
       "      <td>0.366069</td>\n",
       "      <td>0.378591</td>\n",
       "      <td>0.175718</td>\n",
       "      <td>0.196719</td>\n",
       "      <td>-0.073751</td>\n",
       "      <td>-0.285133</td>\n",
       "    </tr>\n",
       "    <tr>\n",
       "      <th>churn</th>\n",
       "      <td>0.165482</td>\n",
       "      <td>-0.137696</td>\n",
       "      <td>-0.160315</td>\n",
       "      <td>-0.352282</td>\n",
       "      <td>0.011995</td>\n",
       "      <td>0.037585</td>\n",
       "      <td>-0.307907</td>\n",
       "      <td>-0.275924</td>\n",
       "      <td>-0.269440</td>\n",
       "      <td>-0.307941</td>\n",
       "      <td>...</td>\n",
       "      <td>0.409166</td>\n",
       "      <td>-0.185215</td>\n",
       "      <td>-0.298877</td>\n",
       "      <td>-0.124500</td>\n",
       "      <td>0.303591</td>\n",
       "      <td>0.223698</td>\n",
       "      <td>-0.116189</td>\n",
       "      <td>-0.127042</td>\n",
       "      <td>0.298034</td>\n",
       "      <td>-0.095605</td>\n",
       "    </tr>\n",
       "    <tr>\n",
       "      <th>female</th>\n",
       "      <td>-0.007243</td>\n",
       "      <td>0.014710</td>\n",
       "      <td>0.007656</td>\n",
       "      <td>-0.004282</td>\n",
       "      <td>0.009084</td>\n",
       "      <td>0.009337</td>\n",
       "      <td>0.000023</td>\n",
       "      <td>0.006818</td>\n",
       "      <td>-0.000991</td>\n",
       "      <td>0.003480</td>\n",
       "      <td>...</td>\n",
       "      <td>0.005867</td>\n",
       "      <td>-0.012583</td>\n",
       "      <td>0.005001</td>\n",
       "      <td>-0.003341</td>\n",
       "      <td>0.006451</td>\n",
       "      <td>0.003944</td>\n",
       "      <td>0.014324</td>\n",
       "      <td>-0.003738</td>\n",
       "      <td>0.003110</td>\n",
       "      <td>-0.014081</td>\n",
       "    </tr>\n",
       "    <tr>\n",
       "      <th>male</th>\n",
       "      <td>0.007243</td>\n",
       "      <td>-0.014710</td>\n",
       "      <td>-0.007656</td>\n",
       "      <td>0.004282</td>\n",
       "      <td>-0.009084</td>\n",
       "      <td>-0.009337</td>\n",
       "      <td>-0.000023</td>\n",
       "      <td>-0.006818</td>\n",
       "      <td>0.000991</td>\n",
       "      <td>-0.003480</td>\n",
       "      <td>...</td>\n",
       "      <td>-0.005867</td>\n",
       "      <td>0.012583</td>\n",
       "      <td>-0.005001</td>\n",
       "      <td>0.003341</td>\n",
       "      <td>-0.006451</td>\n",
       "      <td>-0.003944</td>\n",
       "      <td>-0.014324</td>\n",
       "      <td>0.003738</td>\n",
       "      <td>-0.003110</td>\n",
       "      <td>0.014081</td>\n",
       "    </tr>\n",
       "    <tr>\n",
       "      <th>month_to_month</th>\n",
       "      <td>0.157663</td>\n",
       "      <td>-0.268490</td>\n",
       "      <td>-0.236495</td>\n",
       "      <td>-0.637509</td>\n",
       "      <td>0.004231</td>\n",
       "      <td>-0.063852</td>\n",
       "      <td>-0.333326</td>\n",
       "      <td>-0.305250</td>\n",
       "      <td>-0.330609</td>\n",
       "      <td>-0.351141</td>\n",
       "      <td>...</td>\n",
       "      <td>1.000000</td>\n",
       "      <td>-0.558914</td>\n",
       "      <td>-0.631059</td>\n",
       "      <td>-0.078675</td>\n",
       "      <td>0.256514</td>\n",
       "      <td>0.219850</td>\n",
       "      <td>-0.176276</td>\n",
       "      <td>-0.209461</td>\n",
       "      <td>0.347970</td>\n",
       "      <td>-0.011079</td>\n",
       "    </tr>\n",
       "    <tr>\n",
       "      <th>one_year</th>\n",
       "      <td>-0.051119</td>\n",
       "      <td>0.070877</td>\n",
       "      <td>0.062744</td>\n",
       "      <td>0.198606</td>\n",
       "      <td>-0.005385</td>\n",
       "      <td>-0.001498</td>\n",
       "      <td>0.099498</td>\n",
       "      <td>0.092452</td>\n",
       "      <td>0.098942</td>\n",
       "      <td>0.101329</td>\n",
       "      <td>...</td>\n",
       "      <td>-0.558914</td>\n",
       "      <td>1.000000</td>\n",
       "      <td>-0.290551</td>\n",
       "      <td>0.058969</td>\n",
       "      <td>-0.103960</td>\n",
       "      <td>-0.057605</td>\n",
       "      <td>0.054519</td>\n",
       "      <td>0.075792</td>\n",
       "      <td>-0.129420</td>\n",
       "      <td>0.017184</td>\n",
       "    </tr>\n",
       "    <tr>\n",
       "      <th>two_year</th>\n",
       "      <td>-0.134109</td>\n",
       "      <td>0.243511</td>\n",
       "      <td>0.214199</td>\n",
       "      <td>0.549839</td>\n",
       "      <td>0.000155</td>\n",
       "      <td>0.075081</td>\n",
       "      <td>0.291552</td>\n",
       "      <td>0.265745</td>\n",
       "      <td>0.288936</td>\n",
       "      <td>0.310396</td>\n",
       "      <td>...</td>\n",
       "      <td>-0.631059</td>\n",
       "      <td>-0.290551</td>\n",
       "      <td>1.000000</td>\n",
       "      <td>0.035620</td>\n",
       "      <td>-0.198742</td>\n",
       "      <td>-0.199800</td>\n",
       "      <td>0.152406</td>\n",
       "      <td>0.170798</td>\n",
       "      <td>-0.280457</td>\n",
       "      <td>-0.003292</td>\n",
       "    </tr>\n",
       "    <tr>\n",
       "      <th>dsl</th>\n",
       "      <td>-0.120798</td>\n",
       "      <td>-0.010031</td>\n",
       "      <td>0.049894</td>\n",
       "      <td>0.020264</td>\n",
       "      <td>-0.457254</td>\n",
       "      <td>-0.375747</td>\n",
       "      <td>-0.272998</td>\n",
       "      <td>-0.342592</td>\n",
       "      <td>-0.344440</td>\n",
       "      <td>-0.277070</td>\n",
       "      <td>...</td>\n",
       "      <td>-0.078675</td>\n",
       "      <td>0.058969</td>\n",
       "      <td>0.035620</td>\n",
       "      <td>1.000000</td>\n",
       "      <td>-0.646684</td>\n",
       "      <td>0.378021</td>\n",
       "      <td>0.026519</td>\n",
       "      <td>0.044105</td>\n",
       "      <td>-0.121956</td>\n",
       "      <td>0.067790</td>\n",
       "    </tr>\n",
       "    <tr>\n",
       "      <th>fiber_optic</th>\n",
       "      <td>0.273674</td>\n",
       "      <td>0.005104</td>\n",
       "      <td>-0.167655</td>\n",
       "      <td>0.023973</td>\n",
       "      <td>0.295699</td>\n",
       "      <td>0.429184</td>\n",
       "      <td>-0.503865</td>\n",
       "      <td>-0.430394</td>\n",
       "      <td>-0.428472</td>\n",
       "      <td>-0.498879</td>\n",
       "      <td>...</td>\n",
       "      <td>0.256514</td>\n",
       "      <td>-0.103960</td>\n",
       "      <td>-0.198742</td>\n",
       "      <td>-0.646684</td>\n",
       "      <td>1.000000</td>\n",
       "      <td>0.461699</td>\n",
       "      <td>-0.025639</td>\n",
       "      <td>-0.034721</td>\n",
       "      <td>0.338227</td>\n",
       "      <td>-0.321836</td>\n",
       "    </tr>\n",
       "    <tr>\n",
       "      <th>has_internet</th>\n",
       "      <td>0.191692</td>\n",
       "      <td>-0.005469</td>\n",
       "      <td>-0.145469</td>\n",
       "      <td>0.052663</td>\n",
       "      <td>-0.172852</td>\n",
       "      <td>0.083952</td>\n",
       "      <td>-0.929045</td>\n",
       "      <td>-0.920802</td>\n",
       "      <td>-0.920618</td>\n",
       "      <td>-0.927728</td>\n",
       "      <td>...</td>\n",
       "      <td>0.219850</td>\n",
       "      <td>-0.057605</td>\n",
       "      <td>-0.199800</td>\n",
       "      <td>0.378021</td>\n",
       "      <td>0.461699</td>\n",
       "      <td>1.000000</td>\n",
       "      <td>-0.000279</td>\n",
       "      <td>0.009150</td>\n",
       "      <td>0.268696</td>\n",
       "      <td>-0.311793</td>\n",
       "    </tr>\n",
       "    <tr>\n",
       "      <th>bank_transfer_(automatic)</th>\n",
       "      <td>-0.015985</td>\n",
       "      <td>0.094710</td>\n",
       "      <td>0.065442</td>\n",
       "      <td>0.229637</td>\n",
       "      <td>-0.002827</td>\n",
       "      <td>0.063351</td>\n",
       "      <td>0.035474</td>\n",
       "      <td>0.035530</td>\n",
       "      <td>0.036868</td>\n",
       "      <td>0.042540</td>\n",
       "      <td>...</td>\n",
       "      <td>-0.176276</td>\n",
       "      <td>0.054519</td>\n",
       "      <td>0.152406</td>\n",
       "      <td>0.026519</td>\n",
       "      <td>-0.025639</td>\n",
       "      <td>-0.000279</td>\n",
       "      <td>1.000000</td>\n",
       "      <td>-0.281203</td>\n",
       "      <td>-0.379960</td>\n",
       "      <td>-0.289609</td>\n",
       "    </tr>\n",
       "    <tr>\n",
       "      <th>credit_card_(automatic)</th>\n",
       "      <td>-0.012184</td>\n",
       "      <td>0.084683</td>\n",
       "      <td>0.056857</td>\n",
       "      <td>0.241171</td>\n",
       "      <td>-0.006338</td>\n",
       "      <td>0.039014</td>\n",
       "      <td>0.040707</td>\n",
       "      <td>0.034741</td>\n",
       "      <td>0.038843</td>\n",
       "      <td>0.031986</td>\n",
       "      <td>...</td>\n",
       "      <td>-0.209461</td>\n",
       "      <td>0.075792</td>\n",
       "      <td>0.170798</td>\n",
       "      <td>0.044105</td>\n",
       "      <td>-0.034721</td>\n",
       "      <td>0.009150</td>\n",
       "      <td>-0.281203</td>\n",
       "      <td>1.000000</td>\n",
       "      <td>-0.372442</td>\n",
       "      <td>-0.283878</td>\n",
       "    </tr>\n",
       "    <tr>\n",
       "      <th>electronic_check</th>\n",
       "      <td>0.173069</td>\n",
       "      <td>-0.078225</td>\n",
       "      <td>-0.163981</td>\n",
       "      <td>-0.215684</td>\n",
       "      <td>0.020748</td>\n",
       "      <td>0.070523</td>\n",
       "      <td>-0.337960</td>\n",
       "      <td>-0.295689</td>\n",
       "      <td>-0.302230</td>\n",
       "      <td>-0.336475</td>\n",
       "      <td>...</td>\n",
       "      <td>0.347970</td>\n",
       "      <td>-0.129420</td>\n",
       "      <td>-0.280457</td>\n",
       "      <td>-0.121956</td>\n",
       "      <td>0.338227</td>\n",
       "      <td>0.268696</td>\n",
       "      <td>-0.379960</td>\n",
       "      <td>-0.372442</td>\n",
       "      <td>1.000000</td>\n",
       "      <td>-0.383574</td>\n",
       "    </tr>\n",
       "    <tr>\n",
       "      <th>mailed_check</th>\n",
       "      <td>-0.167323</td>\n",
       "      <td>-0.089288</td>\n",
       "      <td>0.063927</td>\n",
       "      <td>-0.222408</td>\n",
       "      <td>-0.014355</td>\n",
       "      <td>-0.180946</td>\n",
       "      <td>0.305863</td>\n",
       "      <td>0.263997</td>\n",
       "      <td>0.266008</td>\n",
       "      <td>0.305737</td>\n",
       "      <td>...</td>\n",
       "      <td>-0.011079</td>\n",
       "      <td>0.017184</td>\n",
       "      <td>-0.003292</td>\n",
       "      <td>0.067790</td>\n",
       "      <td>-0.321836</td>\n",
       "      <td>-0.311793</td>\n",
       "      <td>-0.289609</td>\n",
       "      <td>-0.283878</td>\n",
       "      <td>-0.383574</td>\n",
       "      <td>1.000000</td>\n",
       "    </tr>\n",
       "  </tbody>\n",
       "</table>\n",
       "<p>28 rows × 28 columns</p>\n",
       "</div>"
      ],
      "text/plain": [
       "                           senior_citizen   partner  dependents    tenure  \\\n",
       "senior_citizen                   1.000000  0.021704   -0.201859  0.007666   \n",
       "partner                          0.021704  1.000000    0.463617  0.366470   \n",
       "dependents                      -0.201859  0.463617    1.000000  0.160178   \n",
       "tenure                           0.007666  0.366470    0.160178  1.000000   \n",
       "phone_service                    0.017884  0.041129    0.000945  0.006187   \n",
       "multiple_lines                   0.113170  0.138106   -0.009975  0.251475   \n",
       "online_security                 -0.223637  0.062610    0.190725  0.072982   \n",
       "online_backup                   -0.180790  0.063210    0.170296  0.096895   \n",
       "device_protection               -0.184644  0.065330    0.163513  0.091084   \n",
       "tech_support                    -0.233621  0.045711    0.182896  0.074255   \n",
       "streaming_tv                    -0.165062  0.053448    0.148548  0.062398   \n",
       "streaming_movies                -0.153822  0.053185    0.133002  0.061627   \n",
       "paperless_billing                0.170268 -0.028135   -0.114746 -0.006974   \n",
       "monthly_charges                  0.230111  0.096066   -0.117644  0.250854   \n",
       "total_charges                    0.098212  0.306662    0.065704  0.828479   \n",
       "churn                            0.165482 -0.137696   -0.160315 -0.352282   \n",
       "female                          -0.007243  0.014710    0.007656 -0.004282   \n",
       "male                             0.007243 -0.014710   -0.007656  0.004282   \n",
       "month_to_month                   0.157663 -0.268490   -0.236495 -0.637509   \n",
       "one_year                        -0.051119  0.070877    0.062744  0.198606   \n",
       "two_year                        -0.134109  0.243511    0.214199  0.549839   \n",
       "dsl                             -0.120798 -0.010031    0.049894  0.020264   \n",
       "fiber_optic                      0.273674  0.005104   -0.167655  0.023973   \n",
       "has_internet                     0.191692 -0.005469   -0.145469  0.052663   \n",
       "bank_transfer_(automatic)       -0.015985  0.094710    0.065442  0.229637   \n",
       "credit_card_(automatic)         -0.012184  0.084683    0.056857  0.241171   \n",
       "electronic_check                 0.173069 -0.078225   -0.163981 -0.215684   \n",
       "mailed_check                    -0.167323 -0.089288    0.063927 -0.222408   \n",
       "\n",
       "                           phone_service  multiple_lines  online_security  \\\n",
       "senior_citizen                  0.017884        0.113170        -0.223637   \n",
       "partner                         0.041129        0.138106         0.062610   \n",
       "dependents                      0.000945       -0.009975         0.190725   \n",
       "tenure                          0.006187        0.251475         0.072982   \n",
       "phone_service                   1.000000        0.680810         0.144817   \n",
       "multiple_lines                  0.680810        1.000000        -0.077098   \n",
       "online_security                 0.144817       -0.077098         1.000000   \n",
       "online_backup                   0.172211       -0.029548         0.880648   \n",
       "device_protection               0.157886       -0.039713         0.880960   \n",
       "tech_support                    0.145593       -0.074705         0.899994   \n",
       "streaming_tv                    0.180544       -0.011384         0.858391   \n",
       "streaming_movies                0.178080       -0.011035         0.858938   \n",
       "paperless_billing               0.021742        0.141699        -0.337421   \n",
       "monthly_charges                 0.255629        0.501492        -0.690559   \n",
       "total_charges                   0.118415        0.415200        -0.241554   \n",
       "churn                           0.011995        0.037585        -0.307907   \n",
       "female                          0.009084        0.009337         0.000023   \n",
       "male                           -0.009084       -0.009337        -0.000023   \n",
       "month_to_month                  0.004231       -0.063852        -0.333326   \n",
       "one_year                       -0.005385       -0.001498         0.099498   \n",
       "two_year                        0.000155        0.075081         0.291552   \n",
       "dsl                            -0.457254       -0.375747        -0.272998   \n",
       "fiber_optic                     0.295699        0.429184        -0.503865   \n",
       "has_internet                   -0.172852        0.083952        -0.929045   \n",
       "bank_transfer_(automatic)      -0.002827        0.063351         0.035474   \n",
       "credit_card_(automatic)        -0.006338        0.039014         0.040707   \n",
       "electronic_check                0.020748        0.070523        -0.337960   \n",
       "mailed_check                   -0.014355       -0.180946         0.305863   \n",
       "\n",
       "                           online_backup  device_protection  tech_support  \\\n",
       "senior_citizen                 -0.180790          -0.184644     -0.233621   \n",
       "partner                         0.063210           0.065330      0.045711   \n",
       "dependents                      0.170296           0.163513      0.182896   \n",
       "tenure                          0.096895           0.091084      0.074255   \n",
       "phone_service                   0.172211           0.157886      0.145593   \n",
       "multiple_lines                 -0.029548          -0.039713     -0.074705   \n",
       "online_security                 0.880648           0.880960      0.899994   \n",
       "online_backup                   1.000000           0.876569      0.880710   \n",
       "device_protection               0.876569           1.000000      0.889550   \n",
       "tech_support                    0.880710           0.889550      1.000000   \n",
       "streaming_tv                    0.869164           0.886540      0.876412   \n",
       "streaming_movies                0.866073           0.886932      0.875381   \n",
       "paperless_billing              -0.292356          -0.301727     -0.321709   \n",
       "monthly_charges                -0.633451          -0.619704     -0.671290   \n",
       "total_charges                  -0.194020          -0.196298     -0.229852   \n",
       "churn                          -0.275924          -0.269440     -0.307941   \n",
       "female                          0.006818          -0.000991      0.003480   \n",
       "male                           -0.006818           0.000991     -0.003480   \n",
       "month_to_month                 -0.305250          -0.330609     -0.351141   \n",
       "one_year                        0.092452           0.098942      0.101329   \n",
       "two_year                        0.265745           0.288936      0.310396   \n",
       "dsl                            -0.342592          -0.344440     -0.277070   \n",
       "fiber_optic                    -0.430394          -0.428472     -0.498879   \n",
       "has_internet                   -0.920802          -0.920618     -0.927728   \n",
       "bank_transfer_(automatic)       0.035530           0.036868      0.042540   \n",
       "credit_card_(automatic)         0.034741           0.038843      0.031986   \n",
       "electronic_check               -0.295689          -0.302230     -0.336475   \n",
       "mailed_check                    0.263997           0.266008      0.305737   \n",
       "\n",
       "                           ...  month_to_month  one_year  two_year       dsl  \\\n",
       "senior_citizen             ...        0.157663 -0.051119 -0.134109 -0.120798   \n",
       "partner                    ...       -0.268490  0.070877  0.243511 -0.010031   \n",
       "dependents                 ...       -0.236495  0.062744  0.214199  0.049894   \n",
       "tenure                     ...       -0.637509  0.198606  0.549839  0.020264   \n",
       "phone_service              ...        0.004231 -0.005385  0.000155 -0.457254   \n",
       "multiple_lines             ...       -0.063852 -0.001498  0.075081 -0.375747   \n",
       "online_security            ...       -0.333326  0.099498  0.291552 -0.272998   \n",
       "online_backup              ...       -0.305250  0.092452  0.265745 -0.342592   \n",
       "device_protection          ...       -0.330609  0.098942  0.288936 -0.344440   \n",
       "tech_support               ...       -0.351141  0.101329  0.310396 -0.277070   \n",
       "streaming_tv               ...       -0.279484  0.072858  0.254343 -0.411820   \n",
       "streaming_movies           ...       -0.281877  0.075803  0.254349 -0.409508   \n",
       "paperless_billing          ...        0.185139 -0.058325 -0.159073 -0.058006   \n",
       "monthly_charges            ...        0.073102 -0.027663 -0.058476 -0.169273   \n",
       "total_charges              ...       -0.435281  0.150552  0.361439 -0.056517   \n",
       "churn                      ...        0.409166 -0.185215 -0.298877 -0.124500   \n",
       "female                     ...        0.005867 -0.012583  0.005001 -0.003341   \n",
       "male                       ...       -0.005867  0.012583 -0.005001  0.003341   \n",
       "month_to_month             ...        1.000000 -0.558914 -0.631059 -0.078675   \n",
       "one_year                   ...       -0.558914  1.000000 -0.290551  0.058969   \n",
       "two_year                   ...       -0.631059 -0.290551  1.000000  0.035620   \n",
       "dsl                        ...       -0.078675  0.058969  0.035620  1.000000   \n",
       "fiber_optic                ...        0.256514 -0.103960 -0.198742 -0.646684   \n",
       "has_internet               ...        0.219850 -0.057605 -0.199800  0.378021   \n",
       "bank_transfer_(automatic)  ...       -0.176276  0.054519  0.152406  0.026519   \n",
       "credit_card_(automatic)    ...       -0.209461  0.075792  0.170798  0.044105   \n",
       "electronic_check           ...        0.347970 -0.129420 -0.280457 -0.121956   \n",
       "mailed_check               ...       -0.011079  0.017184 -0.003292  0.067790   \n",
       "\n",
       "                           fiber_optic  has_internet  \\\n",
       "senior_citizen                0.273674      0.191692   \n",
       "partner                       0.005104     -0.005469   \n",
       "dependents                   -0.167655     -0.145469   \n",
       "tenure                        0.023973      0.052663   \n",
       "phone_service                 0.295699     -0.172852   \n",
       "multiple_lines                0.429184      0.083952   \n",
       "online_security              -0.503865     -0.929045   \n",
       "online_backup                -0.430394     -0.920802   \n",
       "device_protection            -0.428472     -0.920618   \n",
       "tech_support                 -0.498879     -0.927728   \n",
       "streaming_tv                 -0.361982     -0.918275   \n",
       "streaming_movies             -0.363444     -0.917361   \n",
       "paperless_billing             0.317130      0.317460   \n",
       "monthly_charges               0.787673      0.759184   \n",
       "total_charges                 0.366069      0.378591   \n",
       "churn                         0.303591      0.223698   \n",
       "female                        0.006451      0.003944   \n",
       "male                         -0.006451     -0.003944   \n",
       "month_to_month                0.256514      0.219850   \n",
       "one_year                     -0.103960     -0.057605   \n",
       "two_year                     -0.198742     -0.199800   \n",
       "dsl                          -0.646684      0.378021   \n",
       "fiber_optic                   1.000000      0.461699   \n",
       "has_internet                  0.461699      1.000000   \n",
       "bank_transfer_(automatic)    -0.025639     -0.000279   \n",
       "credit_card_(automatic)      -0.034721      0.009150   \n",
       "electronic_check              0.338227      0.268696   \n",
       "mailed_check                 -0.321836     -0.311793   \n",
       "\n",
       "                           bank_transfer_(automatic)  credit_card_(automatic)  \\\n",
       "senior_citizen                             -0.015985                -0.012184   \n",
       "partner                                     0.094710                 0.084683   \n",
       "dependents                                  0.065442                 0.056857   \n",
       "tenure                                      0.229637                 0.241171   \n",
       "phone_service                              -0.002827                -0.006338   \n",
       "multiple_lines                              0.063351                 0.039014   \n",
       "online_security                             0.035474                 0.040707   \n",
       "online_backup                               0.035530                 0.034741   \n",
       "device_protection                           0.036868                 0.038843   \n",
       "tech_support                                0.042540                 0.031986   \n",
       "streaming_tv                                0.019795                 0.008763   \n",
       "streaming_movies                            0.025220                 0.013262   \n",
       "paperless_billing                          -0.014965                -0.020252   \n",
       "monthly_charges                             0.040693                 0.043349   \n",
       "total_charges                               0.175718                 0.196719   \n",
       "churn                                      -0.116189                -0.127042   \n",
       "female                                      0.014324                -0.003738   \n",
       "male                                       -0.014324                 0.003738   \n",
       "month_to_month                             -0.176276                -0.209461   \n",
       "one_year                                    0.054519                 0.075792   \n",
       "two_year                                    0.152406                 0.170798   \n",
       "dsl                                         0.026519                 0.044105   \n",
       "fiber_optic                                -0.025639                -0.034721   \n",
       "has_internet                               -0.000279                 0.009150   \n",
       "bank_transfer_(automatic)                   1.000000                -0.281203   \n",
       "credit_card_(automatic)                    -0.281203                 1.000000   \n",
       "electronic_check                           -0.379960                -0.372442   \n",
       "mailed_check                               -0.289609                -0.283878   \n",
       "\n",
       "                           electronic_check  mailed_check  \n",
       "senior_citizen                     0.173069     -0.167323  \n",
       "partner                           -0.078225     -0.089288  \n",
       "dependents                        -0.163981      0.063927  \n",
       "tenure                            -0.215684     -0.222408  \n",
       "phone_service                      0.020748     -0.014355  \n",
       "multiple_lines                     0.070523     -0.180946  \n",
       "online_security                   -0.337960      0.305863  \n",
       "online_backup                     -0.295689      0.263997  \n",
       "device_protection                 -0.302230      0.266008  \n",
       "tech_support                      -0.336475      0.305737  \n",
       "streaming_tv                      -0.235784      0.237636  \n",
       "streaming_movies                  -0.237138      0.229341  \n",
       "paperless_billing                  0.198818     -0.189443  \n",
       "monthly_charges                    0.261135     -0.377666  \n",
       "total_charges                     -0.073751     -0.285133  \n",
       "churn                              0.298034     -0.095605  \n",
       "female                             0.003110     -0.014081  \n",
       "male                              -0.003110      0.014081  \n",
       "month_to_month                     0.347970     -0.011079  \n",
       "one_year                          -0.129420      0.017184  \n",
       "two_year                          -0.280457     -0.003292  \n",
       "dsl                               -0.121956      0.067790  \n",
       "fiber_optic                        0.338227     -0.321836  \n",
       "has_internet                       0.268696     -0.311793  \n",
       "bank_transfer_(automatic)         -0.379960     -0.289609  \n",
       "credit_card_(automatic)           -0.372442     -0.283878  \n",
       "electronic_check                   1.000000     -0.383574  \n",
       "mailed_check                      -0.383574      1.000000  \n",
       "\n",
       "[28 rows x 28 columns]"
      ]
     },
     "execution_count": 109,
     "metadata": {},
     "output_type": "execute_result"
    }
   ],
   "source": [
    "train_corr"
   ]
  },
  {
   "cell_type": "code",
   "execution_count": 155,
   "metadata": {},
   "outputs": [
    {
     "data": {
      "text/plain": [
       "senior_citizen               0.165482\n",
       "partner                     -0.137696\n",
       "dependents                  -0.160315\n",
       "tenure                      -0.352282\n",
       "phone_service                0.011995\n",
       "multiple_lines               0.037585\n",
       "online_security             -0.307907\n",
       "online_backup               -0.275924\n",
       "device_protection           -0.269440\n",
       "tech_support                -0.307941\n",
       "streaming_tv                -0.214859\n",
       "streaming_movies            -0.219114\n",
       "paperless_billing            0.187409\n",
       "monthly_charges              0.189040\n",
       "total_charges               -0.201972\n",
       "churn                        1.000000\n",
       "female                      -0.006885\n",
       "male                         0.006885\n",
       "month_to_month               0.409166\n",
       "one_year                    -0.185215\n",
       "two_year                    -0.298877\n",
       "dsl                         -0.124500\n",
       "fiber_optic                  0.303591\n",
       "has_internet                 0.223698\n",
       "bank_transfer_(automatic)   -0.116189\n",
       "credit_card_(automatic)     -0.127042\n",
       "electronic_check             0.298034\n",
       "mailed_check                -0.095605\n",
       "Name: churn, dtype: float64"
      ]
     },
     "execution_count": 155,
     "metadata": {},
     "output_type": "execute_result"
    }
   ],
   "source": [
    "# I just wat to see churn\n",
    "train_corr['churn']"
   ]
  },
  {
   "cell_type": "code",
   "execution_count": 156,
   "metadata": {
    "scrolled": true
   },
   "outputs": [
    {
     "data": {
      "text/plain": [
       "churn                        1.000000\n",
       "month_to_month               0.409166\n",
       "fiber_optic                  0.303591\n",
       "electronic_check             0.298034\n",
       "has_internet                 0.223698\n",
       "monthly_charges              0.189040\n",
       "paperless_billing            0.187409\n",
       "senior_citizen               0.165482\n",
       "multiple_lines               0.037585\n",
       "phone_service                0.011995\n",
       "male                         0.006885\n",
       "female                      -0.006885\n",
       "mailed_check                -0.095605\n",
       "bank_transfer_(automatic)   -0.116189\n",
       "dsl                         -0.124500\n",
       "credit_card_(automatic)     -0.127042\n",
       "partner                     -0.137696\n",
       "dependents                  -0.160315\n",
       "one_year                    -0.185215\n",
       "total_charges               -0.201972\n",
       "streaming_tv                -0.214859\n",
       "streaming_movies            -0.219114\n",
       "device_protection           -0.269440\n",
       "online_backup               -0.275924\n",
       "two_year                    -0.298877\n",
       "online_security             -0.307907\n",
       "tech_support                -0.307941\n",
       "tenure                      -0.352282\n",
       "Name: churn, dtype: float64"
      ]
     },
     "execution_count": 156,
     "metadata": {},
     "output_type": "execute_result"
    }
   ],
   "source": [
    "#sort values\n",
    "cols= train_corr['churn'].sort_values(ascending=False)\n",
    "cols"
   ]
  },
  {
   "cell_type": "code",
   "execution_count": 157,
   "metadata": {
    "scrolled": true
   },
   "outputs": [
    {
     "data": {
      "text/plain": [
       "['total_charges',\n",
       " 'streaming_tv',\n",
       " 'streaming_movies',\n",
       " 'device_protection',\n",
       " 'online_backup',\n",
       " 'two_year',\n",
       " 'online_security',\n",
       " 'tech_support',\n",
       " 'tenure']"
      ]
     },
     "execution_count": 157,
     "metadata": {},
     "output_type": "execute_result"
    }
   ],
   "source": [
    "# I will select the columns to do the heat map\n",
    "list(cols[cols < (-.2)].index)\n"
   ]
  },
  {
   "cell_type": "code",
   "execution_count": 158,
   "metadata": {},
   "outputs": [
    {
     "data": {
      "text/plain": [
       "['churn',\n",
       " 'month_to_month',\n",
       " 'fiber_optic',\n",
       " 'electronic_check',\n",
       " 'has_internet',\n",
       " 'monthly_charges',\n",
       " 'paperless_billing']"
      ]
     },
     "execution_count": 158,
     "metadata": {},
     "output_type": "execute_result"
    }
   ],
   "source": [
    "list(cols[cols > .18].index)"
   ]
  },
  {
   "cell_type": "code",
   "execution_count": 159,
   "metadata": {},
   "outputs": [],
   "source": [
    "col_list = list(cols[cols > .18].index)  + list(cols[cols < (-.2)].index)"
   ]
  },
  {
   "cell_type": "code",
   "execution_count": 160,
   "metadata": {},
   "outputs": [
    {
     "data": {
      "text/plain": [
       "['total_charges',\n",
       " 'streaming_tv',\n",
       " 'streaming_movies',\n",
       " 'device_protection',\n",
       " 'online_backup',\n",
       " 'two_year',\n",
       " 'online_security',\n",
       " 'tech_support',\n",
       " 'tenure']"
      ]
     },
     "execution_count": 160,
     "metadata": {},
     "output_type": "execute_result"
    }
   ],
   "source": [
    "list(cols[cols < (-.2)].index)"
   ]
  },
  {
   "cell_type": "code",
   "execution_count": 144,
   "metadata": {
    "scrolled": false
   },
   "outputs": [
    {
     "data": {
      "image/png": "[encoded data removed]",
      "text/plain": [
       "<Figure size 720x720 with 2 Axes>"
      ]
     },
     "metadata": {
      "needs_background": "light"
     },
     "output_type": "display_data"
    }
   ],
   "source": [
    "#\n",
    "plt.figure(figsize=(10,10))\n",
    "sns.heatmap(train[col_list].corr() , cmap='Blues', center=0, annot=True)\n",
    "\n",
    "plt.title('')\n",
    "plt.show()"
   ]
  },
  {
   "cell_type": "markdown",
   "metadata": {},
   "source": [
    "## Takeaways\n",
    "churn has positive correlation:\n",
    "- month_to_month contracts\n",
    "- internet type : fiber_optic\n",
    "- payment type: electronic check\n",
    "\n",
    "churn has negative  correlation:\n",
    "- tenure\n",
    "- tech_suport\n",
    "- online_security\n"
   ]
  },
  {
   "cell_type": "code",
   "execution_count": 161,
   "metadata": {},
   "outputs": [],
   "source": [
    "col_list = list(cols[cols > .20].index)  + list(cols[cols < (-.27)].index)"
   ]
  },
  {
   "cell_type": "code",
   "execution_count": 148,
   "metadata": {
    "scrolled": true
   },
   "outputs": [
    {
     "data": {
      "image/png": "[encoded data removed]",
      "text/plain": [
       "<Figure size 1662.38x1620 with 90 Axes>"
      ]
     },
     "metadata": {
      "needs_background": "light"
     },
     "output_type": "display_data"
    }
   ],
   "source": [
    "sns.pairplot(train[col_list], hue='churn')\n",
    "plt.show()\n",
    "## too much information "
   ]
  },
  {
   "cell_type": "code",
   "execution_count": null,
   "metadata": {},
   "outputs": [],
   "source": [
    "# i willselect the 3 with positive & negative correlation "
   ]
  },
  {
   "cell_type": "code",
   "execution_count": 165,
   "metadata": {
    "scrolled": true
   },
   "outputs": [
    {
     "data": {
      "text/plain": [
       "['churn',\n",
       " 'month_to_month',\n",
       " 'fiber_optic',\n",
       " 'electronic_check',\n",
       " 'online_security',\n",
       " 'tech_support',\n",
       " 'tenure']"
      ]
     },
     "execution_count": 165,
     "metadata": {},
     "output_type": "execute_result"
    }
   ],
   "source": [
    "col_list = list(cols[cols > .29].index)  + list(cols[cols < (-.30)].index)\n",
    "col_list"
   ]
  },
  {
   "cell_type": "code",
   "execution_count": 172,
   "metadata": {},
   "outputs": [],
   "source": [
    "exp_train = train[col_list]"
   ]
  },
  {
   "cell_type": "code",
   "execution_count": null,
   "metadata": {},
   "outputs": [],
   "source": []
  },
  {
   "cell_type": "code",
   "execution_count": 173,
   "metadata": {
    "scrolled": true
   },
   "outputs": [
    {
     "data": {
      "text/html": [
       "<div>\n",
       "<style scoped>\n",
       "    .dataframe tbody tr th:only-of-type {\n",
       "        vertical-align: middle;\n",
       "    }\n",
       "\n",
       "    .dataframe tbody tr th {\n",
       "        vertical-align: top;\n",
       "    }\n",
       "\n",
       "    .dataframe thead th {\n",
       "        text-align: right;\n",
       "    }\n",
       "</style>\n",
       "<table border=\"1\" class=\"dataframe\">\n",
       "  <thead>\n",
       "    <tr style=\"text-align: right;\">\n",
       "      <th></th>\n",
       "      <th>churn</th>\n",
       "      <th>month_to_month</th>\n",
       "      <th>fiber_optic</th>\n",
       "      <th>electronic_check</th>\n",
       "      <th>online_security</th>\n",
       "      <th>tech_support</th>\n",
       "      <th>tenure</th>\n",
       "    </tr>\n",
       "  </thead>\n",
       "  <tbody>\n",
       "    <tr>\n",
       "      <th>5642</th>\n",
       "      <td>0</td>\n",
       "      <td>0</td>\n",
       "      <td>0</td>\n",
       "      <td>0</td>\n",
       "      <td>3</td>\n",
       "      <td>3</td>\n",
       "      <td>23</td>\n",
       "    </tr>\n",
       "    <tr>\n",
       "      <th>3338</th>\n",
       "      <td>0</td>\n",
       "      <td>0</td>\n",
       "      <td>1</td>\n",
       "      <td>0</td>\n",
       "      <td>0</td>\n",
       "      <td>0</td>\n",
       "      <td>27</td>\n",
       "    </tr>\n",
       "    <tr>\n",
       "      <th>4273</th>\n",
       "      <td>0</td>\n",
       "      <td>1</td>\n",
       "      <td>1</td>\n",
       "      <td>1</td>\n",
       "      <td>0</td>\n",
       "      <td>0</td>\n",
       "      <td>7</td>\n",
       "    </tr>\n",
       "    <tr>\n",
       "      <th>2382</th>\n",
       "      <td>0</td>\n",
       "      <td>1</td>\n",
       "      <td>0</td>\n",
       "      <td>0</td>\n",
       "      <td>0</td>\n",
       "      <td>0</td>\n",
       "      <td>47</td>\n",
       "    </tr>\n",
       "    <tr>\n",
       "      <th>2655</th>\n",
       "      <td>0</td>\n",
       "      <td>0</td>\n",
       "      <td>1</td>\n",
       "      <td>0</td>\n",
       "      <td>0</td>\n",
       "      <td>1</td>\n",
       "      <td>41</td>\n",
       "    </tr>\n",
       "  </tbody>\n",
       "</table>\n",
       "</div>"
      ],
      "text/plain": [
       "      churn  month_to_month  fiber_optic  electronic_check  online_security  \\\n",
       "5642      0               0            0                 0                3   \n",
       "3338      0               0            1                 0                0   \n",
       "4273      0               1            1                 1                0   \n",
       "2382      0               1            0                 0                0   \n",
       "2655      0               0            1                 0                0   \n",
       "\n",
       "      tech_support  tenure  \n",
       "5642             3      23  \n",
       "3338             0      27  \n",
       "4273             0       7  \n",
       "2382             0      47  \n",
       "2655             1      41  "
      ]
     },
     "execution_count": 173,
     "metadata": {},
     "output_type": "execute_result"
    }
   ],
   "source": [
    "exp_train.head()"
   ]
  },
  {
   "cell_type": "code",
   "execution_count": null,
   "metadata": {},
   "outputs": [],
   "source": []
  },
  {
   "cell_type": "code",
   "execution_count": 174,
   "metadata": {},
   "outputs": [],
   "source": [
    "# Create melted df for viz\n",
    "melted = exp_train.melt(id_vars=['churn'])"
   ]
  },
  {
   "cell_type": "code",
   "execution_count": 176,
   "metadata": {},
   "outputs": [
    {
     "name": "stdout",
     "output_type": "stream",
     "text": [
      "<class 'pandas.core.frame.DataFrame'>\n",
      "RangeIndex: 23658 entries, 0 to 23657\n",
      "Data columns (total 3 columns):\n",
      " #   Column    Non-Null Count  Dtype \n",
      "---  ------    --------------  ----- \n",
      " 0   churn     23658 non-null  int64 \n",
      " 1   variable  23658 non-null  object\n",
      " 2   value     23658 non-null  int64 \n",
      "dtypes: int64(2), object(1)\n",
      "memory usage: 554.6+ KB\n"
     ]
    }
   ],
   "source": [
    "# Check out melted df info.\n",
    "melted.info()"
   ]
  },
  {
   "cell_type": "code",
   "execution_count": 177,
   "metadata": {},
   "outputs": [
    {
     "data": {
      "text/html": [
       "<div>\n",
       "<style scoped>\n",
       "    .dataframe tbody tr th:only-of-type {\n",
       "        vertical-align: middle;\n",
       "    }\n",
       "\n",
       "    .dataframe tbody tr th {\n",
       "        vertical-align: top;\n",
       "    }\n",
       "\n",
       "    .dataframe thead th {\n",
       "        text-align: right;\n",
       "    }\n",
       "</style>\n",
       "<table border=\"1\" class=\"dataframe\">\n",
       "  <thead>\n",
       "    <tr style=\"text-align: right;\">\n",
       "      <th></th>\n",
       "      <th>churn</th>\n",
       "      <th>variable</th>\n",
       "      <th>value</th>\n",
       "    </tr>\n",
       "  </thead>\n",
       "  <tbody>\n",
       "    <tr>\n",
       "      <th>0</th>\n",
       "      <td>0</td>\n",
       "      <td>month_to_month</td>\n",
       "      <td>0</td>\n",
       "    </tr>\n",
       "    <tr>\n",
       "      <th>1</th>\n",
       "      <td>0</td>\n",
       "      <td>month_to_month</td>\n",
       "      <td>0</td>\n",
       "    </tr>\n",
       "    <tr>\n",
       "      <th>2</th>\n",
       "      <td>0</td>\n",
       "      <td>month_to_month</td>\n",
       "      <td>1</td>\n",
       "    </tr>\n",
       "    <tr>\n",
       "      <th>3</th>\n",
       "      <td>0</td>\n",
       "      <td>month_to_month</td>\n",
       "      <td>1</td>\n",
       "    </tr>\n",
       "    <tr>\n",
       "      <th>4</th>\n",
       "      <td>0</td>\n",
       "      <td>month_to_month</td>\n",
       "      <td>0</td>\n",
       "    </tr>\n",
       "  </tbody>\n",
       "</table>\n",
       "</div>"
      ],
      "text/plain": [
       "   churn        variable  value\n",
       "0      0  month_to_month      0\n",
       "1      0  month_to_month      0\n",
       "2      0  month_to_month      1\n",
       "3      0  month_to_month      1\n",
       "4      0  month_to_month      0"
      ]
     },
     "execution_count": 177,
     "metadata": {},
     "output_type": "execute_result"
    }
   ],
   "source": [
    "melted.head()"
   ]
  },
  {
   "cell_type": "code",
   "execution_count": 180,
   "metadata": {},
   "outputs": [
    {
     "data": {
      "image/png": "[encoded data removed]",
      "text/plain": [
       "<Figure size 1440x1440 with 1 Axes>"
      ]
     },
     "metadata": {
      "needs_background": "light"
     },
     "output_type": "display_data"
    }
   ],
   "source": [
    "plt.figure(figsize=(20,20))\n",
    "sns.stripplot(data=melted, x='variable', y='value', hue='churn')\n",
    "\n",
    "plt.title('petal_length and petal_width show clear distinctions in measurements by species')\n",
    "\n",
    "plt.show()"
   ]
  },
  {
   "cell_type": "code",
   "execution_count": 181,
   "metadata": {},
   "outputs": [
    {
     "data": {
      "text/plain": [
       "churn  month_to_month  fiber_optic  electronic_check  online_security  tech_support  tenure\n",
       "1      1               1            1                 0                0             1         90\n",
       "0      0               0            0                 1                1             72        52\n",
       "       1               0            0                 3                3             1         51\n",
       "       0               1            0                 1                1             72        43\n",
       "                       0            0                 3                3             72        33\n",
       "                                                                                               ..\n",
       "       1               1            0                 1                0             32         1\n",
       "                                                                                     34         1\n",
       "                                                                                     36         1\n",
       "                                                                                     37         1\n",
       "       0               0            0                 0                0             1          1\n",
       "Length: 1589, dtype: int64"
      ]
     },
     "execution_count": 181,
     "metadata": {},
     "output_type": "execute_result"
    }
   ],
   "source": [
    "exp_train.value_counts()"
   ]
  },
  {
   "cell_type": "code",
   "execution_count": null,
   "metadata": {},
   "outputs": [],
   "source": []
  }
 ],
 "metadata": {
  "kernelspec": {
   "display_name": "Python 3",
   "language": "python",
   "name": "python3"
  },
  "language_info": {
   "codemirror_mode": {
    "name": "ipython",
    "version": 3
   },
   "file_extension": ".py",
   "mimetype": "text/x-python",
   "name": "python",
   "nbconvert_exporter": "python",
   "pygments_lexer": "ipython3",
   "version": "3.8.5"
  }
 },
 "nbformat": 4,
 "nbformat_minor": 4
}
